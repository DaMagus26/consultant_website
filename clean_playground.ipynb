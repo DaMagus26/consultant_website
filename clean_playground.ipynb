{
 "cells": [
  {
   "cell_type": "code",
   "execution_count": 1,
   "metadata": {
    "collapsed": false,
    "pycharm": {
     "name": "#%%\n"
    },
    "ExecuteTime": {
     "end_time": "2023-11-09T08:15:19.279596Z",
     "start_time": "2023-11-09T08:14:49.623762Z"
    }
   },
   "outputs": [],
   "source": [
    "from vector_db.weaviate_db import WeaviateDB\n",
    "from sentence_transformers import SentenceTransformer\n",
    "from article_db.pandas_article_db import PandasArticleDB\n",
    "from transformers import pipeline\n",
    "from answer_extractor import AnswerExtractor"
   ]
  },
  {
   "cell_type": "code",
   "execution_count": 6,
   "metadata": {
    "collapsed": false,
    "pycharm": {
     "name": "#%%\n"
    },
    "ExecuteTime": {
     "end_time": "2023-11-10T09:19:47.775792Z",
     "start_time": "2023-11-10T09:19:33.580086Z"
    }
   },
   "outputs": [
    {
     "name": "stderr",
     "output_type": "stream",
     "text": [
      "No sentence-transformers model found with name /Users/mikhail_ovakimyan/.cache/torch/sentence_transformers/DeepPavlov_rubert-base-cased-sentence. Creating a new one with MEAN pooling.\n"
     ]
    }
   ],
   "source": [
    "API_KEY = 'S0KbfM4Wx6g48PPzeZgKtTpQhj68fklwM9NH'\n",
    "URL = 'https://rf-codes-na75gd7p.weaviate.network'\n",
    "qa_model_name = 'AlexKay/xlm-roberta-large-qa-multilingual-finedtuned-ru'\n",
    "st = SentenceTransformer('DeepPavlov/rubert-base-cased-sentence')\n",
    "# articles = PandasArticleDB('/Users/mikhail_ovakimyan/Documents/Универ/Курсач по ТРПС/ai_legal_consultant/answer_extraction/db/labor_code.csv')\n",
    "articles = PandasArticleDB('/Users/mikhail_ovakimyan/Documents/Универ/Курсач по ТРПС/ai_legal_consultant/answer_extraction/labor_code.csv')\n",
    "qa_model = pipeline(model=qa_model_name, task='question-answering')\n",
    "vector_db = WeaviateDB(URL, API_KEY)\n",
    "ae = AnswerExtractor(vector_db, articles, qa_model, st)"
   ]
  },
  {
   "cell_type": "code",
   "execution_count": 18,
   "metadata": {
    "ExecuteTime": {
     "end_time": "2023-11-10T09:24:25.833570Z",
     "start_time": "2023-11-10T09:24:24.465449Z"
    }
   },
   "outputs": [
    {
     "data": {
      "text/plain": "{'part': 'Часть третья',\n 'section': 'Раздел III',\n 'chapter': 'Глава 12',\n 'article': 'Статья 74',\n 'article_text': 'При этом работнику предоставляются соответствующие гарантии и компенсации',\n 'start': 8,\n 'end': 73}"
     },
     "execution_count": 18,
     "metadata": {},
     "output_type": "execute_result"
    }
   ],
   "source": [
    "ae.find('Работник имеет право на:')"
   ]
  },
  {
   "cell_type": "code",
   "execution_count": 8,
   "metadata": {
    "collapsed": false,
    "pycharm": {
     "name": "#%%\n"
    }
   },
   "outputs": [
    {
     "data": {
      "text/plain": [
       "['Выполнение работником трудовой функции дистанционно не может являться основанием для снижения ему заработной платы. ',\n",
       " 'При приеме на работу на срок до двух месяцев испытание работникам не устанавливается. ',\n",
       " 'Продолжительность еженедельного непрерывного отдыха не может быть менее 42 часов, за исключением случаев, предусмотренных настоящим Кодексом. ',\n",
       " 'По соглашению сторон трудовой договор между работником и работодателем - физическим лицом, не являющимся индивидуальным предпринимателем, может заключаться как на неопределенный, так и на определенный срок. ',\n",
       " 'Особенности регулирования труда - нормы, частично ограничивающие применение общих правил по тем же вопросам либо предусматривающие для отдельных категорий работников дополнительные правила. ']"
      ]
     },
     "execution_count": 8,
     "metadata": {},
     "output_type": "execute_result"
    }
   ],
   "source": [
    "query = 'Богдана любят?'\n",
    "enc_query = st.encode([query])\n",
    "response = vector_db.find(enc_query)\n",
    "contexts = [item['article_text'] for item in response]\n",
    "contexts\n",
    "# response"
   ]
  },
  {
   "cell_type": "code",
   "execution_count": 10,
   "metadata": {},
   "outputs": [
    {
     "data": {
      "text/plain": [
       "['d00f22eb-5d96-4f0d-8659-52b1e263d0e6',\n",
       " '5fc19889-494a-4105-9b65-e4b057ce41ca',\n",
       " 'fc76ffd5-9821-48c5-ba05-633478a6f6f6',\n",
       " '3d200246-34ec-4d8d-b31b-2fa445ffa88c',\n",
       " '4561b360-9d67-43a9-aa3e-e01f48a3265a']"
      ]
     },
     "execution_count": 10,
     "metadata": {},
     "output_type": "execute_result"
    }
   ],
   "source": [
    "ids = [item['_additional']['id'] for item in response]\n",
    "ids"
   ]
  },
  {
   "cell_type": "code",
   "execution_count": 15,
   "metadata": {},
   "outputs": [
    {
     "data": {
      "text/plain": [
       "[('d00f22eb-5d96-4f0d-8659-52b1e263d0e6',\n",
       "  {'score': 0.04479764401912689,\n",
       "   'start': 51,\n",
       "   'end': 115,\n",
       "   'answer': ' не может являться основанием для снижения ему заработной платы.'}),\n",
       " ('5fc19889-494a-4105-9b65-e4b057ce41ca',\n",
       "  {'score': 0.37822532653808594,\n",
       "   'start': 44,\n",
       "   'end': 85,\n",
       "   'answer': ' испытание работникам не устанавливается.'}),\n",
       " ('fc76ffd5-9821-48c5-ba05-633478a6f6f6',\n",
       "  {'score': 0.020795678719878197,\n",
       "   'start': 131,\n",
       "   'end': 141,\n",
       "   'answer': ' Кодексом.'}),\n",
       " ('3d200246-34ec-4d8d-b31b-2fa445ffa88c',\n",
       "  {'score': 0.03117412142455578,\n",
       "   'start': 43,\n",
       "   'end': 70,\n",
       "   'answer': ' работником и работодателем'}),\n",
       " ('4561b360-9d67-43a9-aa3e-e01f48a3265a',\n",
       "  {'score': 0.08553966134786606, 'start': 33, 'end': 40, 'answer': ' нормы,'})]"
      ]
     },
     "execution_count": 15,
     "metadata": {},
     "output_type": "execute_result"
    }
   ],
   "source": [
    "results = []\n",
    "for ctx_id, ctx in zip(ids, contexts):\n",
    "    results.append((ctx_id, qa_model(question=query, context=ctx)))\n",
    "results"
   ]
  },
  {
   "cell_type": "code",
   "execution_count": 16,
   "metadata": {},
   "outputs": [
    {
     "data": {
      "text/plain": [
       "('5fc19889-494a-4105-9b65-e4b057ce41ca',\n",
       " {'score': 0.37822532653808594,\n",
       "  'start': 44,\n",
       "  'end': 85,\n",
       "  'answer': ' испытание работникам не устанавливается.'})"
      ]
     },
     "execution_count": 16,
     "metadata": {},
     "output_type": "execute_result"
    }
   ],
   "source": [
    "final_result = max(results, key=lambda x: x[1]['score'])\n",
    "final_result"
   ]
  },
  {
   "cell_type": "code",
   "execution_count": 18,
   "metadata": {},
   "outputs": [
    {
     "data": {
      "text/plain": [
       "{'part': 'Часть четвертая',\n",
       " 'section': 'Раздел XII',\n",
       " 'chapter': 'Глава 45',\n",
       " 'article': 'Статья 289',\n",
       " 'article_text': 'При приеме на работу на срок до двух месяцев испытание работникам не устанавливается. ',\n",
       " 'start': 44,\n",
       " 'end': 85}"
      ]
     },
     "execution_count": 18,
     "metadata": {},
     "output_type": "execute_result"
    }
   ],
   "source": [
    "article_table = articles.get_table('labor_code')\n",
    "\n",
    "response = {\n",
    "    'part': article_table.loc[final_result[0], 'part'],\n",
    "    'section': article_table.loc[final_result[0], 'section'],\n",
    "    'chapter': article_table.loc[final_result[0], 'chapter'],\n",
    "    'article': article_table.loc[final_result[0], 'article'],\n",
    "    'article_text': article_table.loc[final_result[0], 'text'],\n",
    "    'start': final_result[1]['start'],\n",
    "    'end': final_result[1]['end'],\n",
    "}\n",
    "response"
   ]
  },
  {
   "cell_type": "code",
   "execution_count": 19,
   "metadata": {
    "collapsed": false,
    "pycharm": {
     "name": "#%%\n"
    }
   },
   "outputs": [],
   "source": [
    "from answer_extractor import AnswerExtractor\n",
    "ae = AnswerExtractor(vector_db, articles, qa_model, st)"
   ]
  },
  {
   "cell_type": "code",
   "execution_count": 20,
   "metadata": {},
   "outputs": [
    {
     "ename": "KeyboardInterrupt",
     "evalue": "",
     "output_type": "error",
     "traceback": [
      "\u001B[0;31m---------------------------------------------------------------------------\u001B[0m",
      "\u001B[0;31mKeyboardInterrupt\u001B[0m                         Traceback (most recent call last)",
      "\u001B[1;32m/Users/mikhail_ovakimyan/Documents/Универ/Курсач по ТРПС/ai_legal_consultant/answer_extraction/clean_playground.ipynb Ячейка 10\u001B[0m line \u001B[0;36m1\n\u001B[0;32m----> <a href='vscode-notebook-cell:/Users/mikhail_ovakimyan/Documents/%D0%A3%D0%BD%D0%B8%D0%B2%D0%B5%D1%80/%D0%9A%D1%83%D1%80%D1%81%D0%B0%D1%87%20%D0%BF%D0%BE%20%D0%A2%D0%A0%D0%9F%D0%A1/ai_legal_consultant/answer_extraction/clean_playground.ipynb#Y155sZmlsZQ%3D%3D?line=0'>1</a>\u001B[0m ae\u001B[39m.\u001B[39;49mfind(\u001B[39m'\u001B[39;49m\u001B[39mБогдана любят?\u001B[39;49m\u001B[39m'\u001B[39;49m)\n",
      "File \u001B[0;32m~/Documents/Универ/Курсач по ТРПС/ai_legal_consultant/answer_extraction/answer_extractor.py:22\u001B[0m, in \u001B[0;36mAnswerExtractor.find\u001B[0;34m(self, query)\u001B[0m\n\u001B[1;32m     20\u001B[0m \u001B[39mdef\u001B[39;00m \u001B[39mfind\u001B[39m(\u001B[39mself\u001B[39m, query):\n\u001B[1;32m     21\u001B[0m     enc_query \u001B[39m=\u001B[39m \u001B[39mself\u001B[39m\u001B[39m.\u001B[39msequence_encoder\u001B[39m.\u001B[39mencode(query)\u001B[39m.\u001B[39mtolist()\n\u001B[0;32m---> 22\u001B[0m     vdb_response \u001B[39m=\u001B[39m \u001B[39mself\u001B[39;49m\u001B[39m.\u001B[39;49mvector_db\u001B[39m.\u001B[39;49mfind(enc_query)\n\u001B[1;32m     23\u001B[0m     contexts \u001B[39m=\u001B[39m [item[\u001B[39m'\u001B[39m\u001B[39marticle_text\u001B[39m\u001B[39m'\u001B[39m] \u001B[39mfor\u001B[39;00m item \u001B[39min\u001B[39;00m vdb_response]\n\u001B[1;32m     25\u001B[0m     contexts \u001B[39m=\u001B[39m [item[\u001B[39m'\u001B[39m\u001B[39marticle_text\u001B[39m\u001B[39m'\u001B[39m] \u001B[39mfor\u001B[39;00m item \u001B[39min\u001B[39;00m vdb_response]\n",
      "File \u001B[0;32m~/Documents/Универ/Курсач по ТРПС/ai_legal_consultant/answer_extraction/vector_db/weaviate_db.py:16\u001B[0m, in \u001B[0;36mWeaviateDB.find\u001B[0;34m(self, vector)\u001B[0m\n\u001B[1;32m     15\u001B[0m \u001B[39mdef\u001B[39;00m \u001B[39mfind\u001B[39m(\u001B[39mself\u001B[39m, vector: List[\u001B[39mfloat\u001B[39m]) \u001B[39m-\u001B[39m\u001B[39m>\u001B[39m List:\n\u001B[0;32m---> 16\u001B[0m     \u001B[39mif\u001B[39;00m \u001B[39mnot\u001B[39;00m \u001B[39mself\u001B[39;49m\u001B[39m.\u001B[39;49m__client\u001B[39m.\u001B[39;49mschema\u001B[39m.\u001B[39;49mexists(\u001B[39mself\u001B[39;49m\u001B[39m.\u001B[39;49m__class_name):\n\u001B[1;32m     17\u001B[0m         \u001B[39mraise\u001B[39;00m \u001B[39mRuntimeError\u001B[39;00m(\u001B[39mf\u001B[39m\u001B[39m'\u001B[39m\u001B[39mClass \u001B[39m\u001B[39m\"\u001B[39m\u001B[39m{\u001B[39;00m\u001B[39mself\u001B[39m\u001B[39m.\u001B[39m__class_name\u001B[39m}\u001B[39;00m\u001B[39m\"\u001B[39m\u001B[39m'\u001B[39m\n\u001B[1;32m     18\u001B[0m                            \u001B[39mf\u001B[39m\u001B[39m'\u001B[39m\u001B[39m does not exist.\u001B[39m\u001B[39m'\u001B[39m)\n\u001B[1;32m     19\u001B[0m     \u001B[39mif\u001B[39;00m \u001B[39mnot\u001B[39;00m \u001B[39mself\u001B[39m\u001B[39m.\u001B[39m__client\u001B[39m.\u001B[39mis_ready():\n",
      "File \u001B[0;32m~/.pyenv/versions/3.11.4/envs/ai_legal_consultant/lib/python3.11/site-packages/weaviate/schema/crud_schema.py:333\u001B[0m, in \u001B[0;36mSchema.exists\u001B[0;34m(self, class_name)\u001B[0m\n\u001B[1;32m    330\u001B[0m path \u001B[39m=\u001B[39m \u001B[39mf\u001B[39m\u001B[39m\"\u001B[39m\u001B[39m/schema/\u001B[39m\u001B[39m{\u001B[39;00m_capitalize_first_letter(class_name)\u001B[39m}\u001B[39;00m\u001B[39m\"\u001B[39m\n\u001B[1;32m    332\u001B[0m \u001B[39mtry\u001B[39;00m:\n\u001B[0;32m--> 333\u001B[0m     response \u001B[39m=\u001B[39m \u001B[39mself\u001B[39;49m\u001B[39m.\u001B[39;49m_connection\u001B[39m.\u001B[39;49mget(path\u001B[39m=\u001B[39;49mpath)\n\u001B[1;32m    334\u001B[0m \u001B[39mexcept\u001B[39;00m RequestsConnectionError \u001B[39mas\u001B[39;00m conn_err:\n\u001B[1;32m    335\u001B[0m     \u001B[39mraise\u001B[39;00m RequestsConnectionError(\n\u001B[1;32m    336\u001B[0m         \u001B[39m\"\u001B[39m\u001B[39mChecking class existence could not be done.\u001B[39m\u001B[39m\"\u001B[39m\n\u001B[1;32m    337\u001B[0m     ) \u001B[39mfrom\u001B[39;00m \u001B[39mconn_err\u001B[39;00m\n",
      "File \u001B[0;32m~/.pyenv/versions/3.11.4/envs/ai_legal_consultant/lib/python3.11/site-packages/weaviate/connect/connection.py:543\u001B[0m, in \u001B[0;36mConnection.get\u001B[0;34m(self, path, params, external_url)\u001B[0m\n\u001B[1;32m    540\u001B[0m \u001B[39melse\u001B[39;00m:\n\u001B[1;32m    541\u001B[0m     request_url \u001B[39m=\u001B[39m \u001B[39mself\u001B[39m\u001B[39m.\u001B[39murl \u001B[39m+\u001B[39m \u001B[39mself\u001B[39m\u001B[39m.\u001B[39m_api_version_path \u001B[39m+\u001B[39m path\n\u001B[0;32m--> 543\u001B[0m \u001B[39mreturn\u001B[39;00m \u001B[39mself\u001B[39;49m\u001B[39m.\u001B[39;49m_session\u001B[39m.\u001B[39;49mget(\n\u001B[1;32m    544\u001B[0m     url\u001B[39m=\u001B[39;49mrequest_url,\n\u001B[1;32m    545\u001B[0m     headers\u001B[39m=\u001B[39;49m\u001B[39mself\u001B[39;49m\u001B[39m.\u001B[39;49m_get_request_header(),\n\u001B[1;32m    546\u001B[0m     timeout\u001B[39m=\u001B[39;49m\u001B[39mself\u001B[39;49m\u001B[39m.\u001B[39;49m_timeout_config,\n\u001B[1;32m    547\u001B[0m     params\u001B[39m=\u001B[39;49mparams,\n\u001B[1;32m    548\u001B[0m     proxies\u001B[39m=\u001B[39;49m\u001B[39mself\u001B[39;49m\u001B[39m.\u001B[39;49m_proxies,\n\u001B[1;32m    549\u001B[0m )\n",
      "File \u001B[0;32m~/.pyenv/versions/3.11.4/envs/ai_legal_consultant/lib/python3.11/site-packages/requests/sessions.py:602\u001B[0m, in \u001B[0;36mSession.get\u001B[0;34m(self, url, **kwargs)\u001B[0m\n\u001B[1;32m    594\u001B[0m \u001B[39m\u001B[39m\u001B[39mr\u001B[39m\u001B[39m\"\"\"Sends a GET request. Returns :class:`Response` object.\u001B[39;00m\n\u001B[1;32m    595\u001B[0m \n\u001B[1;32m    596\u001B[0m \u001B[39m:param url: URL for the new :class:`Request` object.\u001B[39;00m\n\u001B[1;32m    597\u001B[0m \u001B[39m:param \\*\\*kwargs: Optional arguments that ``request`` takes.\u001B[39;00m\n\u001B[1;32m    598\u001B[0m \u001B[39m:rtype: requests.Response\u001B[39;00m\n\u001B[1;32m    599\u001B[0m \u001B[39m\"\"\"\u001B[39;00m\n\u001B[1;32m    601\u001B[0m kwargs\u001B[39m.\u001B[39msetdefault(\u001B[39m\"\u001B[39m\u001B[39mallow_redirects\u001B[39m\u001B[39m\"\u001B[39m, \u001B[39mTrue\u001B[39;00m)\n\u001B[0;32m--> 602\u001B[0m \u001B[39mreturn\u001B[39;00m \u001B[39mself\u001B[39;49m\u001B[39m.\u001B[39;49mrequest(\u001B[39m\"\u001B[39;49m\u001B[39mGET\u001B[39;49m\u001B[39m\"\u001B[39;49m, url, \u001B[39m*\u001B[39;49m\u001B[39m*\u001B[39;49mkwargs)\n",
      "File \u001B[0;32m~/.pyenv/versions/3.11.4/envs/ai_legal_consultant/lib/python3.11/site-packages/requests/sessions.py:589\u001B[0m, in \u001B[0;36mSession.request\u001B[0;34m(self, method, url, params, data, headers, cookies, files, auth, timeout, allow_redirects, proxies, hooks, stream, verify, cert, json)\u001B[0m\n\u001B[1;32m    584\u001B[0m send_kwargs \u001B[39m=\u001B[39m {\n\u001B[1;32m    585\u001B[0m     \u001B[39m\"\u001B[39m\u001B[39mtimeout\u001B[39m\u001B[39m\"\u001B[39m: timeout,\n\u001B[1;32m    586\u001B[0m     \u001B[39m\"\u001B[39m\u001B[39mallow_redirects\u001B[39m\u001B[39m\"\u001B[39m: allow_redirects,\n\u001B[1;32m    587\u001B[0m }\n\u001B[1;32m    588\u001B[0m send_kwargs\u001B[39m.\u001B[39mupdate(settings)\n\u001B[0;32m--> 589\u001B[0m resp \u001B[39m=\u001B[39m \u001B[39mself\u001B[39;49m\u001B[39m.\u001B[39;49msend(prep, \u001B[39m*\u001B[39;49m\u001B[39m*\u001B[39;49msend_kwargs)\n\u001B[1;32m    591\u001B[0m \u001B[39mreturn\u001B[39;00m resp\n",
      "File \u001B[0;32m~/.pyenv/versions/3.11.4/envs/ai_legal_consultant/lib/python3.11/site-packages/requests/sessions.py:703\u001B[0m, in \u001B[0;36mSession.send\u001B[0;34m(self, request, **kwargs)\u001B[0m\n\u001B[1;32m    700\u001B[0m start \u001B[39m=\u001B[39m preferred_clock()\n\u001B[1;32m    702\u001B[0m \u001B[39m# Send the request\u001B[39;00m\n\u001B[0;32m--> 703\u001B[0m r \u001B[39m=\u001B[39m adapter\u001B[39m.\u001B[39;49msend(request, \u001B[39m*\u001B[39;49m\u001B[39m*\u001B[39;49mkwargs)\n\u001B[1;32m    705\u001B[0m \u001B[39m# Total elapsed time of the request (approximately)\u001B[39;00m\n\u001B[1;32m    706\u001B[0m elapsed \u001B[39m=\u001B[39m preferred_clock() \u001B[39m-\u001B[39m start\n",
      "File \u001B[0;32m~/.pyenv/versions/3.11.4/envs/ai_legal_consultant/lib/python3.11/site-packages/requests/adapters.py:486\u001B[0m, in \u001B[0;36mHTTPAdapter.send\u001B[0;34m(self, request, stream, timeout, verify, cert, proxies)\u001B[0m\n\u001B[1;32m    483\u001B[0m     timeout \u001B[39m=\u001B[39m TimeoutSauce(connect\u001B[39m=\u001B[39mtimeout, read\u001B[39m=\u001B[39mtimeout)\n\u001B[1;32m    485\u001B[0m \u001B[39mtry\u001B[39;00m:\n\u001B[0;32m--> 486\u001B[0m     resp \u001B[39m=\u001B[39m conn\u001B[39m.\u001B[39;49murlopen(\n\u001B[1;32m    487\u001B[0m         method\u001B[39m=\u001B[39;49mrequest\u001B[39m.\u001B[39;49mmethod,\n\u001B[1;32m    488\u001B[0m         url\u001B[39m=\u001B[39;49murl,\n\u001B[1;32m    489\u001B[0m         body\u001B[39m=\u001B[39;49mrequest\u001B[39m.\u001B[39;49mbody,\n\u001B[1;32m    490\u001B[0m         headers\u001B[39m=\u001B[39;49mrequest\u001B[39m.\u001B[39;49mheaders,\n\u001B[1;32m    491\u001B[0m         redirect\u001B[39m=\u001B[39;49m\u001B[39mFalse\u001B[39;49;00m,\n\u001B[1;32m    492\u001B[0m         assert_same_host\u001B[39m=\u001B[39;49m\u001B[39mFalse\u001B[39;49;00m,\n\u001B[1;32m    493\u001B[0m         preload_content\u001B[39m=\u001B[39;49m\u001B[39mFalse\u001B[39;49;00m,\n\u001B[1;32m    494\u001B[0m         decode_content\u001B[39m=\u001B[39;49m\u001B[39mFalse\u001B[39;49;00m,\n\u001B[1;32m    495\u001B[0m         retries\u001B[39m=\u001B[39;49m\u001B[39mself\u001B[39;49m\u001B[39m.\u001B[39;49mmax_retries,\n\u001B[1;32m    496\u001B[0m         timeout\u001B[39m=\u001B[39;49mtimeout,\n\u001B[1;32m    497\u001B[0m         chunked\u001B[39m=\u001B[39;49mchunked,\n\u001B[1;32m    498\u001B[0m     )\n\u001B[1;32m    500\u001B[0m \u001B[39mexcept\u001B[39;00m (ProtocolError, \u001B[39mOSError\u001B[39;00m) \u001B[39mas\u001B[39;00m err:\n\u001B[1;32m    501\u001B[0m     \u001B[39mraise\u001B[39;00m \u001B[39mConnectionError\u001B[39;00m(err, request\u001B[39m=\u001B[39mrequest)\n",
      "File \u001B[0;32m~/.pyenv/versions/3.11.4/envs/ai_legal_consultant/lib/python3.11/site-packages/urllib3/connectionpool.py:790\u001B[0m, in \u001B[0;36mHTTPConnectionPool.urlopen\u001B[0;34m(self, method, url, body, headers, retries, redirect, assert_same_host, timeout, pool_timeout, release_conn, chunked, body_pos, preload_content, decode_content, **response_kw)\u001B[0m\n\u001B[1;32m    787\u001B[0m response_conn \u001B[39m=\u001B[39m conn \u001B[39mif\u001B[39;00m \u001B[39mnot\u001B[39;00m release_conn \u001B[39melse\u001B[39;00m \u001B[39mNone\u001B[39;00m\n\u001B[1;32m    789\u001B[0m \u001B[39m# Make the request on the HTTPConnection object\u001B[39;00m\n\u001B[0;32m--> 790\u001B[0m response \u001B[39m=\u001B[39m \u001B[39mself\u001B[39;49m\u001B[39m.\u001B[39;49m_make_request(\n\u001B[1;32m    791\u001B[0m     conn,\n\u001B[1;32m    792\u001B[0m     method,\n\u001B[1;32m    793\u001B[0m     url,\n\u001B[1;32m    794\u001B[0m     timeout\u001B[39m=\u001B[39;49mtimeout_obj,\n\u001B[1;32m    795\u001B[0m     body\u001B[39m=\u001B[39;49mbody,\n\u001B[1;32m    796\u001B[0m     headers\u001B[39m=\u001B[39;49mheaders,\n\u001B[1;32m    797\u001B[0m     chunked\u001B[39m=\u001B[39;49mchunked,\n\u001B[1;32m    798\u001B[0m     retries\u001B[39m=\u001B[39;49mretries,\n\u001B[1;32m    799\u001B[0m     response_conn\u001B[39m=\u001B[39;49mresponse_conn,\n\u001B[1;32m    800\u001B[0m     preload_content\u001B[39m=\u001B[39;49mpreload_content,\n\u001B[1;32m    801\u001B[0m     decode_content\u001B[39m=\u001B[39;49mdecode_content,\n\u001B[1;32m    802\u001B[0m     \u001B[39m*\u001B[39;49m\u001B[39m*\u001B[39;49mresponse_kw,\n\u001B[1;32m    803\u001B[0m )\n\u001B[1;32m    805\u001B[0m \u001B[39m# Everything went great!\u001B[39;00m\n\u001B[1;32m    806\u001B[0m clean_exit \u001B[39m=\u001B[39m \u001B[39mTrue\u001B[39;00m\n",
      "File \u001B[0;32m~/.pyenv/versions/3.11.4/envs/ai_legal_consultant/lib/python3.11/site-packages/urllib3/connectionpool.py:536\u001B[0m, in \u001B[0;36mHTTPConnectionPool._make_request\u001B[0;34m(self, conn, method, url, body, headers, retries, timeout, chunked, response_conn, preload_content, decode_content, enforce_content_length)\u001B[0m\n\u001B[1;32m    534\u001B[0m \u001B[39m# Receive the response from the server\u001B[39;00m\n\u001B[1;32m    535\u001B[0m \u001B[39mtry\u001B[39;00m:\n\u001B[0;32m--> 536\u001B[0m     response \u001B[39m=\u001B[39m conn\u001B[39m.\u001B[39;49mgetresponse()\n\u001B[1;32m    537\u001B[0m \u001B[39mexcept\u001B[39;00m (BaseSSLError, \u001B[39mOSError\u001B[39;00m) \u001B[39mas\u001B[39;00m e:\n\u001B[1;32m    538\u001B[0m     \u001B[39mself\u001B[39m\u001B[39m.\u001B[39m_raise_timeout(err\u001B[39m=\u001B[39me, url\u001B[39m=\u001B[39murl, timeout_value\u001B[39m=\u001B[39mread_timeout)\n",
      "File \u001B[0;32m~/.pyenv/versions/3.11.4/envs/ai_legal_consultant/lib/python3.11/site-packages/urllib3/connection.py:461\u001B[0m, in \u001B[0;36mHTTPConnection.getresponse\u001B[0;34m(self)\u001B[0m\n\u001B[1;32m    458\u001B[0m \u001B[39mfrom\u001B[39;00m \u001B[39m.\u001B[39;00m\u001B[39mresponse\u001B[39;00m \u001B[39mimport\u001B[39;00m HTTPResponse\n\u001B[1;32m    460\u001B[0m \u001B[39m# Get the response from http.client.HTTPConnection\u001B[39;00m\n\u001B[0;32m--> 461\u001B[0m httplib_response \u001B[39m=\u001B[39m \u001B[39msuper\u001B[39;49m()\u001B[39m.\u001B[39;49mgetresponse()\n\u001B[1;32m    463\u001B[0m \u001B[39mtry\u001B[39;00m:\n\u001B[1;32m    464\u001B[0m     assert_header_parsing(httplib_response\u001B[39m.\u001B[39mmsg)\n",
      "File \u001B[0;32m~/.pyenv/versions/3.11.4/lib/python3.11/http/client.py:1378\u001B[0m, in \u001B[0;36mHTTPConnection.getresponse\u001B[0;34m(self)\u001B[0m\n\u001B[1;32m   1376\u001B[0m \u001B[39mtry\u001B[39;00m:\n\u001B[1;32m   1377\u001B[0m     \u001B[39mtry\u001B[39;00m:\n\u001B[0;32m-> 1378\u001B[0m         response\u001B[39m.\u001B[39;49mbegin()\n\u001B[1;32m   1379\u001B[0m     \u001B[39mexcept\u001B[39;00m \u001B[39mConnectionError\u001B[39;00m:\n\u001B[1;32m   1380\u001B[0m         \u001B[39mself\u001B[39m\u001B[39m.\u001B[39mclose()\n",
      "File \u001B[0;32m~/.pyenv/versions/3.11.4/lib/python3.11/http/client.py:318\u001B[0m, in \u001B[0;36mHTTPResponse.begin\u001B[0;34m(self)\u001B[0m\n\u001B[1;32m    316\u001B[0m \u001B[39m# read until we get a non-100 response\u001B[39;00m\n\u001B[1;32m    317\u001B[0m \u001B[39mwhile\u001B[39;00m \u001B[39mTrue\u001B[39;00m:\n\u001B[0;32m--> 318\u001B[0m     version, status, reason \u001B[39m=\u001B[39m \u001B[39mself\u001B[39;49m\u001B[39m.\u001B[39;49m_read_status()\n\u001B[1;32m    319\u001B[0m     \u001B[39mif\u001B[39;00m status \u001B[39m!=\u001B[39m CONTINUE:\n\u001B[1;32m    320\u001B[0m         \u001B[39mbreak\u001B[39;00m\n",
      "File \u001B[0;32m~/.pyenv/versions/3.11.4/lib/python3.11/http/client.py:279\u001B[0m, in \u001B[0;36mHTTPResponse._read_status\u001B[0;34m(self)\u001B[0m\n\u001B[1;32m    278\u001B[0m \u001B[39mdef\u001B[39;00m \u001B[39m_read_status\u001B[39m(\u001B[39mself\u001B[39m):\n\u001B[0;32m--> 279\u001B[0m     line \u001B[39m=\u001B[39m \u001B[39mstr\u001B[39m(\u001B[39mself\u001B[39m\u001B[39m.\u001B[39mfp\u001B[39m.\u001B[39mreadline(_MAXLINE \u001B[39m+\u001B[39m \u001B[39m1\u001B[39m), \u001B[39m\"\u001B[39m\u001B[39miso-8859-1\u001B[39m\u001B[39m\"\u001B[39m)\n\u001B[1;32m    280\u001B[0m     \u001B[39mif\u001B[39;00m \u001B[39mlen\u001B[39m(line) \u001B[39m>\u001B[39m _MAXLINE:\n\u001B[1;32m    281\u001B[0m         \u001B[39mraise\u001B[39;00m LineTooLong(\u001B[39m\"\u001B[39m\u001B[39mstatus line\u001B[39m\u001B[39m\"\u001B[39m)\n",
      "File \u001B[0;32m~/.pyenv/versions/3.11.4/lib/python3.11/socket.py:706\u001B[0m, in \u001B[0;36mSocketIO.readinto\u001B[0;34m(self, b)\u001B[0m\n\u001B[1;32m    704\u001B[0m \u001B[39mwhile\u001B[39;00m \u001B[39mTrue\u001B[39;00m:\n\u001B[1;32m    705\u001B[0m     \u001B[39mtry\u001B[39;00m:\n\u001B[0;32m--> 706\u001B[0m         \u001B[39mreturn\u001B[39;00m \u001B[39mself\u001B[39;49m\u001B[39m.\u001B[39;49m_sock\u001B[39m.\u001B[39;49mrecv_into(b)\n\u001B[1;32m    707\u001B[0m     \u001B[39mexcept\u001B[39;00m timeout:\n\u001B[1;32m    708\u001B[0m         \u001B[39mself\u001B[39m\u001B[39m.\u001B[39m_timeout_occurred \u001B[39m=\u001B[39m \u001B[39mTrue\u001B[39;00m\n",
      "File \u001B[0;32m~/.pyenv/versions/3.11.4/lib/python3.11/ssl.py:1278\u001B[0m, in \u001B[0;36mSSLSocket.recv_into\u001B[0;34m(self, buffer, nbytes, flags)\u001B[0m\n\u001B[1;32m   1274\u001B[0m     \u001B[39mif\u001B[39;00m flags \u001B[39m!=\u001B[39m \u001B[39m0\u001B[39m:\n\u001B[1;32m   1275\u001B[0m         \u001B[39mraise\u001B[39;00m \u001B[39mValueError\u001B[39;00m(\n\u001B[1;32m   1276\u001B[0m           \u001B[39m\"\u001B[39m\u001B[39mnon-zero flags not allowed in calls to recv_into() on \u001B[39m\u001B[39m%s\u001B[39;00m\u001B[39m\"\u001B[39m \u001B[39m%\u001B[39m\n\u001B[1;32m   1277\u001B[0m           \u001B[39mself\u001B[39m\u001B[39m.\u001B[39m\u001B[39m__class__\u001B[39m)\n\u001B[0;32m-> 1278\u001B[0m     \u001B[39mreturn\u001B[39;00m \u001B[39mself\u001B[39;49m\u001B[39m.\u001B[39;49mread(nbytes, buffer)\n\u001B[1;32m   1279\u001B[0m \u001B[39melse\u001B[39;00m:\n\u001B[1;32m   1280\u001B[0m     \u001B[39mreturn\u001B[39;00m \u001B[39msuper\u001B[39m()\u001B[39m.\u001B[39mrecv_into(buffer, nbytes, flags)\n",
      "File \u001B[0;32m~/.pyenv/versions/3.11.4/lib/python3.11/ssl.py:1134\u001B[0m, in \u001B[0;36mSSLSocket.read\u001B[0;34m(self, len, buffer)\u001B[0m\n\u001B[1;32m   1132\u001B[0m \u001B[39mtry\u001B[39;00m:\n\u001B[1;32m   1133\u001B[0m     \u001B[39mif\u001B[39;00m buffer \u001B[39mis\u001B[39;00m \u001B[39mnot\u001B[39;00m \u001B[39mNone\u001B[39;00m:\n\u001B[0;32m-> 1134\u001B[0m         \u001B[39mreturn\u001B[39;00m \u001B[39mself\u001B[39;49m\u001B[39m.\u001B[39;49m_sslobj\u001B[39m.\u001B[39;49mread(\u001B[39mlen\u001B[39;49m, buffer)\n\u001B[1;32m   1135\u001B[0m     \u001B[39melse\u001B[39;00m:\n\u001B[1;32m   1136\u001B[0m         \u001B[39mreturn\u001B[39;00m \u001B[39mself\u001B[39m\u001B[39m.\u001B[39m_sslobj\u001B[39m.\u001B[39mread(\u001B[39mlen\u001B[39m)\n",
      "\u001B[0;31mKeyboardInterrupt\u001B[0m: "
     ]
    }
   ],
   "source": [
    "ae.find('Богдана любят?')"
   ]
  },
  {
   "cell_type": "code",
   "execution_count": null,
   "metadata": {
    "collapsed": false,
    "pycharm": {
     "name": "#%%\n"
    }
   },
   "outputs": [],
   "source": [
    "ae = AnswerExtractor(vector_db, articles, qa_model, st)"
   ]
  },
  {
   "cell_type": "code",
   "execution_count": 10,
   "metadata": {},
   "outputs": [
    {
     "data": {
      "text/plain": [
       "[[-0.46361932158470154,\n",
       "  -0.07614497095346451,\n",
       "  -0.6344675421714783,\n",
       "  -0.4401133060455322,\n",
       "  -0.14963440597057343,\n",
       "  -0.43319445848464966,\n",
       "  0.4861203134059906,\n",
       "  -0.717239499092102,\n",
       "  0.20983067154884338,\n",
       "  -0.5812354683876038,\n",
       "  -0.7773714065551758,\n",
       "  -0.11170829832553864,\n",
       "  -0.6326481699943542,\n",
       "  0.029700642451643944,\n",
       "  -0.15123267471790314,\n",
       "  -0.6284085512161255,\n",
       "  0.5665010213851929,\n",
       "  -1.0494277477264404,\n",
       "  -1.009271502494812,\n",
       "  -0.7269430160522461,\n",
       "  0.5466044545173645,\n",
       "  -0.29068103432655334,\n",
       "  -0.6334624290466309,\n",
       "  0.27932074666023254,\n",
       "  0.6156684756278992,\n",
       "  -0.5218475461006165,\n",
       "  -0.17102846503257751,\n",
       "  0.05698235705494881,\n",
       "  0.9377368688583374,\n",
       "  0.7783754467964172,\n",
       "  -0.06519556045532227,\n",
       "  0.09144558012485504,\n",
       "  -0.820419192314148,\n",
       "  -0.2933093011379242,\n",
       "  -0.889613926410675,\n",
       "  -0.20492962002754211,\n",
       "  0.15596488118171692,\n",
       "  1.8180011510849,\n",
       "  -0.003766955342143774,\n",
       "  -0.12189082056283951,\n",
       "  -0.11315581947565079,\n",
       "  0.4375092387199402,\n",
       "  -0.8736101388931274,\n",
       "  0.3110261857509613,\n",
       "  -0.09063299000263214,\n",
       "  -1.0652196407318115,\n",
       "  0.9305025339126587,\n",
       "  0.15579615533351898,\n",
       "  -0.042313046753406525,\n",
       "  -0.02609468437731266,\n",
       "  0.605121910572052,\n",
       "  0.5435982942581177,\n",
       "  -0.5600770711898804,\n",
       "  -0.48497334122657776,\n",
       "  -0.8208844065666199,\n",
       "  1.2185490131378174,\n",
       "  0.5403246283531189,\n",
       "  0.5636148452758789,\n",
       "  -0.40997305512428284,\n",
       "  0.5995268225669861,\n",
       "  0.3546870946884155,\n",
       "  0.19637605547904968,\n",
       "  -0.49639907479286194,\n",
       "  -1.8262122869491577,\n",
       "  0.2785075902938843,\n",
       "  -0.35531410574913025,\n",
       "  -0.5737630128860474,\n",
       "  -0.6711699962615967,\n",
       "  -0.35242557525634766,\n",
       "  0.6981687545776367,\n",
       "  -0.09846673160791397,\n",
       "  -0.7143083810806274,\n",
       "  -0.3876498341560364,\n",
       "  0.2824656367301941,\n",
       "  -0.15870007872581482,\n",
       "  0.8845829963684082,\n",
       "  0.42868489027023315,\n",
       "  -1.598561406135559,\n",
       "  0.5296244025230408,\n",
       "  0.31441402435302734,\n",
       "  0.11531154066324234,\n",
       "  0.5620707273483276,\n",
       "  -0.6380428075790405,\n",
       "  0.18230774998664856,\n",
       "  -0.7554681897163391,\n",
       "  -0.5255426168441772,\n",
       "  -0.03531643748283386,\n",
       "  -0.6319118738174438,\n",
       "  -0.17083172500133514,\n",
       "  -0.02670447900891304,\n",
       "  0.660920262336731,\n",
       "  0.2692345678806305,\n",
       "  0.5972694158554077,\n",
       "  -0.7231632471084595,\n",
       "  0.29806584119796753,\n",
       "  0.5032971501350403,\n",
       "  -0.06687943637371063,\n",
       "  0.41391730308532715,\n",
       "  -0.37852898240089417,\n",
       "  0.640906572341919,\n",
       "  0.11293041706085205,\n",
       "  -0.9994951486587524,\n",
       "  -0.6789748668670654,\n",
       "  -0.03208736702799797,\n",
       "  0.37818247079849243,\n",
       "  -0.32410329580307007,\n",
       "  1.6588125228881836,\n",
       "  0.11860334873199463,\n",
       "  0.6036845445632935,\n",
       "  1.4367121458053589,\n",
       "  0.19987252354621887,\n",
       "  0.224533349275589,\n",
       "  -0.9598449468612671,\n",
       "  -0.3862837553024292,\n",
       "  0.2727154791355133,\n",
       "  -0.12445852905511856,\n",
       "  0.938576877117157,\n",
       "  2.385272741317749,\n",
       "  0.8240323066711426,\n",
       "  -0.455003559589386,\n",
       "  -0.3746708631515503,\n",
       "  0.04961559548974037,\n",
       "  -0.9769226312637329,\n",
       "  -0.4119260311126709,\n",
       "  0.3785984218120575,\n",
       "  -0.705528199672699,\n",
       "  -1.1968231201171875,\n",
       "  -0.39064377546310425,\n",
       "  -0.6068285703659058,\n",
       "  1.1911005973815918,\n",
       "  -0.2874261736869812,\n",
       "  -0.1620185822248459,\n",
       "  -0.2600494921207428,\n",
       "  0.635574460029602,\n",
       "  0.8992708325386047,\n",
       "  -1.1209156513214111,\n",
       "  0.0733434408903122,\n",
       "  0.4938579499721527,\n",
       "  -0.5552076697349548,\n",
       "  -1.7673364877700806,\n",
       "  -0.16670815646648407,\n",
       "  0.5984516143798828,\n",
       "  1.1954149007797241,\n",
       "  -1.0056346654891968,\n",
       "  0.08088217675685883,\n",
       "  -0.17464956641197205,\n",
       "  -0.16181428730487823,\n",
       "  1.9424488544464111,\n",
       "  -1.2443666458129883,\n",
       "  -0.5461452007293701,\n",
       "  -0.4526987075805664,\n",
       "  0.20088407397270203,\n",
       "  -0.13985177874565125,\n",
       "  0.5080236196517944,\n",
       "  -0.36201635003089905,\n",
       "  -0.1381312906742096,\n",
       "  0.06881260126829147,\n",
       "  -0.34212884306907654,\n",
       "  0.0922793596982956,\n",
       "  -0.9503839612007141,\n",
       "  -0.08516230434179306,\n",
       "  1.7407176494598389,\n",
       "  -0.01751437783241272,\n",
       "  0.4080306887626648,\n",
       "  0.09123717248439789,\n",
       "  -0.41636571288108826,\n",
       "  -0.02900565043091774,\n",
       "  0.5360106229782104,\n",
       "  -1.1594352722167969,\n",
       "  0.7933825254440308,\n",
       "  0.8267720937728882,\n",
       "  -1.2654134035110474,\n",
       "  -0.501162052154541,\n",
       "  0.6000782251358032,\n",
       "  0.47659119963645935,\n",
       "  -0.3337807059288025,\n",
       "  -0.22519488632678986,\n",
       "  0.8535410761833191,\n",
       "  0.6688261032104492,\n",
       "  -0.3605191111564636,\n",
       "  -0.7184439897537231,\n",
       "  0.017170825973153114,\n",
       "  -0.02576448954641819,\n",
       "  1.1703362464904785,\n",
       "  0.10554473102092743,\n",
       "  -0.7972941398620605,\n",
       "  0.8024848699569702,\n",
       "  -0.010085636749863625,\n",
       "  -0.18942487239837646,\n",
       "  -0.36535513401031494,\n",
       "  0.8052595853805542,\n",
       "  0.6771095395088196,\n",
       "  -0.9996479153633118,\n",
       "  0.7204378843307495,\n",
       "  -0.09700393676757812,\n",
       "  1.3578718900680542,\n",
       "  0.11059405654668808,\n",
       "  0.8558085560798645,\n",
       "  0.19313102960586548,\n",
       "  -0.737972617149353,\n",
       "  -0.328145295381546,\n",
       "  -0.3636057376861572,\n",
       "  0.8307437896728516,\n",
       "  -0.5728118419647217,\n",
       "  -0.6038005352020264,\n",
       "  -0.9411903619766235,\n",
       "  -0.6478630304336548,\n",
       "  0.3820399343967438,\n",
       "  -0.2303680181503296,\n",
       "  0.4239129424095154,\n",
       "  -0.4498056471347809,\n",
       "  -0.3376657962799072,\n",
       "  -0.12727513909339905,\n",
       "  0.17260169982910156,\n",
       "  0.06181631237268448,\n",
       "  0.49940481781959534,\n",
       "  -0.24356555938720703,\n",
       "  -1.576504111289978,\n",
       "  -0.46156054735183716,\n",
       "  0.3474791944026947,\n",
       "  -0.35390353202819824,\n",
       "  -0.8683786392211914,\n",
       "  0.5057908296585083,\n",
       "  -0.17073382437229156,\n",
       "  -1.078479528427124,\n",
       "  0.7456958889961243,\n",
       "  0.5121989846229553,\n",
       "  0.741127610206604,\n",
       "  1.5402734279632568,\n",
       "  -0.6555494070053101,\n",
       "  -0.28642797470092773,\n",
       "  0.06934056431055069,\n",
       "  -0.16682025790214539,\n",
       "  0.4264141619205475,\n",
       "  -0.09909407049417496,\n",
       "  -1.6551713943481445,\n",
       "  0.5251333117485046,\n",
       "  0.7057507634162903,\n",
       "  -0.7095944881439209,\n",
       "  -0.12654700875282288,\n",
       "  0.22272861003875732,\n",
       "  -0.22574691474437714,\n",
       "  0.3919837474822998,\n",
       "  0.2807653248310089,\n",
       "  1.324739694595337,\n",
       "  -0.35784071683883667,\n",
       "  -0.900775134563446,\n",
       "  0.526047945022583,\n",
       "  0.5329107046127319,\n",
       "  0.4494193494319916,\n",
       "  1.0187314748764038,\n",
       "  -0.030901048332452774,\n",
       "  0.12092753499746323,\n",
       "  0.27874764800071716,\n",
       "  -0.3459037244319916,\n",
       "  0.16267119348049164,\n",
       "  -0.7999891042709351,\n",
       "  -0.08384163677692413,\n",
       "  1.1285964250564575,\n",
       "  -0.9672540426254272,\n",
       "  0.9447963833808899,\n",
       "  0.5346826314926147,\n",
       "  -0.3478485643863678,\n",
       "  0.5543924570083618,\n",
       "  0.1395552158355713,\n",
       "  0.25353971123695374,\n",
       "  -0.14286834001541138,\n",
       "  0.689373254776001,\n",
       "  0.43907302618026733,\n",
       "  -1.2021466493606567,\n",
       "  0.11040601879358292,\n",
       "  1.4532177448272705,\n",
       "  0.2651342749595642,\n",
       "  -0.2612970769405365,\n",
       "  -0.5639495849609375,\n",
       "  0.708279013633728,\n",
       "  -0.1882689744234085,\n",
       "  -0.3065715730190277,\n",
       "  0.20253340899944305,\n",
       "  -0.25779837369918823,\n",
       "  -0.023292502388358116,\n",
       "  0.8721302151679993,\n",
       "  1.0901657342910767,\n",
       "  0.8311630487442017,\n",
       "  0.41301244497299194,\n",
       "  -0.694940447807312,\n",
       "  0.3761046528816223,\n",
       "  -0.5184919834136963,\n",
       "  0.6357532739639282,\n",
       "  0.5849226713180542,\n",
       "  -2.2348685264587402,\n",
       "  -0.7101858258247375,\n",
       "  0.30033281445503235,\n",
       "  -0.5580604672431946,\n",
       "  -0.9702118039131165,\n",
       "  -0.5128853917121887,\n",
       "  -0.2130506932735443,\n",
       "  -0.43356719613075256,\n",
       "  0.4325341284275055,\n",
       "  -0.8162749409675598,\n",
       "  0.7147496342658997,\n",
       "  -0.01178286038339138,\n",
       "  -0.431571900844574,\n",
       "  -0.7332586646080017,\n",
       "  -0.43205612897872925,\n",
       "  -0.9028658866882324,\n",
       "  0.16506381332874298,\n",
       "  -0.7093276381492615,\n",
       "  1.0416309833526611,\n",
       "  0.2672160863876343,\n",
       "  -0.5181151628494263,\n",
       "  -1.4692966938018799,\n",
       "  0.858336329460144,\n",
       "  0.42898744344711304,\n",
       "  0.10717214643955231,\n",
       "  -0.5261334180831909,\n",
       "  -0.08654835820198059,\n",
       "  0.0365876741707325,\n",
       "  -0.7035806179046631,\n",
       "  -0.5529835820198059,\n",
       "  -0.5416109561920166,\n",
       "  1.8964084386825562,\n",
       "  -0.23070082068443298,\n",
       "  -0.47546038031578064,\n",
       "  -0.2092396318912506,\n",
       "  0.41981005668640137,\n",
       "  -0.14134162664413452,\n",
       "  -1.625030517578125,\n",
       "  0.6172275543212891,\n",
       "  0.09789597243070602,\n",
       "  0.5455144643783569,\n",
       "  2.5130999088287354,\n",
       "  0.3807012438774109,\n",
       "  -1.6567800045013428,\n",
       "  0.10434091091156006,\n",
       "  0.8720349073410034,\n",
       "  0.5180376768112183,\n",
       "  0.5689188241958618,\n",
       "  0.529341995716095,\n",
       "  -0.04417762905359268,\n",
       "  -0.6265241503715515,\n",
       "  -0.4628027081489563,\n",
       "  1.528450608253479,\n",
       "  -0.6763423085212708,\n",
       "  -0.10464253276586533,\n",
       "  -0.16215619444847107,\n",
       "  -0.5635033249855042,\n",
       "  1.3013732433319092,\n",
       "  -0.5028775930404663,\n",
       "  0.8595992922782898,\n",
       "  0.42730197310447693,\n",
       "  -0.18171891570091248,\n",
       "  0.29226380586624146,\n",
       "  -0.7501529455184937,\n",
       "  -0.3576435446739197,\n",
       "  -0.08602838218212128,\n",
       "  -0.42861366271972656,\n",
       "  -0.07537226378917694,\n",
       "  0.15424838662147522,\n",
       "  0.4855945110321045,\n",
       "  -0.5392507910728455,\n",
       "  0.323620080947876,\n",
       "  -0.09164579212665558,\n",
       "  -0.05141601711511612,\n",
       "  -0.24674710631370544,\n",
       "  -0.38875678181648254,\n",
       "  -1.399214506149292,\n",
       "  -0.3926364779472351,\n",
       "  -0.370572566986084,\n",
       "  -1.774879813194275,\n",
       "  0.3729373514652252,\n",
       "  -0.8291782140731812,\n",
       "  0.40752944350242615,\n",
       "  -0.5590808987617493,\n",
       "  0.8145227432250977,\n",
       "  -0.4158717095851898,\n",
       "  0.6425806283950806,\n",
       "  0.4314943850040436,\n",
       "  -1.9159440994262695,\n",
       "  0.34846219420433044,\n",
       "  0.8579108119010925,\n",
       "  0.2955322861671448,\n",
       "  0.6913937330245972,\n",
       "  -0.4366235136985779,\n",
       "  -1.2092746496200562,\n",
       "  -0.19493649899959564,\n",
       "  -0.04190920665860176,\n",
       "  2.2257626056671143,\n",
       "  -0.23697881400585175,\n",
       "  -0.061339400708675385,\n",
       "  0.3783504366874695,\n",
       "  -0.05234088376164436,\n",
       "  -0.6696217656135559,\n",
       "  0.7311393022537231,\n",
       "  -0.3901197910308838,\n",
       "  0.18018576502799988,\n",
       "  0.07875876128673553,\n",
       "  -0.6102734208106995,\n",
       "  0.12830094993114471,\n",
       "  0.303484708070755,\n",
       "  0.5307842493057251,\n",
       "  0.05460233613848686,\n",
       "  -0.29995036125183105,\n",
       "  -0.01814461126923561,\n",
       "  -0.5471998453140259,\n",
       "  0.05057195946574211,\n",
       "  1.2300199270248413,\n",
       "  0.4479510188102722,\n",
       "  -0.4167829155921936,\n",
       "  -0.6024461388587952,\n",
       "  0.022053059190511703,\n",
       "  0.6572515368461609,\n",
       "  0.4972306787967682,\n",
       "  0.928669273853302,\n",
       "  -1.3935861587524414,\n",
       "  -1.322326898574829,\n",
       "  -0.19555158913135529,\n",
       "  -0.575900673866272,\n",
       "  -0.16494235396385193,\n",
       "  -0.0645657628774643,\n",
       "  -0.6813873052597046,\n",
       "  -0.15564072132110596,\n",
       "  -0.717228353023529,\n",
       "  0.2497432678937912,\n",
       "  -0.7367915511131287,\n",
       "  -0.13598418235778809,\n",
       "  -0.9594576954841614,\n",
       "  -0.2989293932914734,\n",
       "  0.20434781908988953,\n",
       "  -1.1225568056106567,\n",
       "  -0.35665231943130493,\n",
       "  -0.8388934135437012,\n",
       "  1.1526553630828857,\n",
       "  -0.5470854640007019,\n",
       "  0.24457411468029022,\n",
       "  -0.5813503265380859,\n",
       "  0.5964983701705933,\n",
       "  -0.03041224740445614,\n",
       "  -0.12566408514976501,\n",
       "  0.37088385224342346,\n",
       "  1.024061918258667,\n",
       "  0.17783565819263458,\n",
       "  0.853033185005188,\n",
       "  -0.07537974417209625,\n",
       "  -0.3809055685997009,\n",
       "  0.9342478513717651,\n",
       "  0.010036696679890156,\n",
       "  0.592276930809021,\n",
       "  -0.5502376556396484,\n",
       "  0.5061426758766174,\n",
       "  0.0867379754781723,\n",
       "  -1.0599552392959595,\n",
       "  -0.11912336200475693,\n",
       "  1.144167423248291,\n",
       "  0.6116631627082825,\n",
       "  -0.07749363034963608,\n",
       "  -0.6778157353401184,\n",
       "  0.40976080298423767,\n",
       "  0.14522504806518555,\n",
       "  0.25124841928482056,\n",
       "  -1.0067827701568604,\n",
       "  0.5207991003990173,\n",
       "  -0.38721805810928345,\n",
       "  0.06873003393411636,\n",
       "  -0.5517735481262207,\n",
       "  -0.06585539877414703,\n",
       "  0.6124767065048218,\n",
       "  0.08103321492671967,\n",
       "  -0.30622386932373047,\n",
       "  0.026323998346924782,\n",
       "  -0.5607196092605591,\n",
       "  -0.3060092329978943,\n",
       "  0.42466217279434204,\n",
       "  0.6405301094055176,\n",
       "  0.49093732237815857,\n",
       "  0.37032169103622437,\n",
       "  -0.00505491066724062,\n",
       "  0.6407170295715332,\n",
       "  -2.0830514430999756,\n",
       "  0.11888381093740463,\n",
       "  -0.6425874829292297,\n",
       "  -0.0771622434258461,\n",
       "  -0.1506843864917755,\n",
       "  -0.9050140380859375,\n",
       "  0.2821391820907593,\n",
       "  0.44352442026138306,\n",
       "  -0.200291246175766,\n",
       "  1.1815241575241089,\n",
       "  0.41389209032058716,\n",
       "  -0.2143796980381012,\n",
       "  0.359541118144989,\n",
       "  -0.07321140915155411,\n",
       "  -0.7018057107925415,\n",
       "  0.0701548233628273,\n",
       "  0.06551553308963776,\n",
       "  -0.32654672861099243,\n",
       "  1.4303122758865356,\n",
       "  1.0423798561096191,\n",
       "  0.17062394320964813,\n",
       "  -0.466234028339386,\n",
       "  0.15790395438671112,\n",
       "  0.41346073150634766,\n",
       "  -0.4960244297981262,\n",
       "  0.8114286661148071,\n",
       "  0.8780817985534668,\n",
       "  -0.23593588173389435,\n",
       "  0.1669510155916214,\n",
       "  -0.09061156213283539,\n",
       "  -0.7822044491767883,\n",
       "  0.14363379776477814,\n",
       "  -0.5643184781074524,\n",
       "  -1.0757315158843994,\n",
       "  -0.8891898989677429,\n",
       "  -0.3150204122066498,\n",
       "  2.0569164752960205,\n",
       "  0.023068655282258987,\n",
       "  -0.5880714058876038,\n",
       "  0.5214021801948547,\n",
       "  -0.05837138369679451,\n",
       "  -0.22797894477844238,\n",
       "  -0.9085046052932739,\n",
       "  0.8164909482002258,\n",
       "  0.4863482415676117,\n",
       "  -0.278658390045166,\n",
       "  -2.212531089782715,\n",
       "  -0.9698430895805359,\n",
       "  -0.8746673464775085,\n",
       "  -1.1823828220367432,\n",
       "  0.5530219078063965,\n",
       "  -0.32893285155296326,\n",
       "  0.01172556821256876,\n",
       "  1.4596863985061646,\n",
       "  -0.5759442448616028,\n",
       "  0.1699102371931076,\n",
       "  0.5523067712783813,\n",
       "  -0.13768640160560608,\n",
       "  0.44061318039894104,\n",
       "  0.7352911829948425,\n",
       "  0.13618925213813782,\n",
       "  0.7871731519699097,\n",
       "  0.7345930337905884,\n",
       "  0.21221184730529785,\n",
       "  0.4512132704257965,\n",
       "  -1.243456482887268,\n",
       "  0.5579214096069336,\n",
       "  0.48659181594848633,\n",
       "  0.1344377100467682,\n",
       "  0.786284327507019,\n",
       "  -0.7255661487579346,\n",
       "  0.6050225496292114,\n",
       "  -0.012906757183372974,\n",
       "  0.27599239349365234,\n",
       "  0.43490296602249146,\n",
       "  1.0414375066757202,\n",
       "  -0.048110950738191605,\n",
       "  -0.1443936824798584,\n",
       "  0.22627043724060059,\n",
       "  -0.3769072890281677,\n",
       "  -0.3581046462059021,\n",
       "  -0.06324662268161774,\n",
       "  -0.6954213976860046,\n",
       "  -0.1174779161810875,\n",
       "  0.09736894071102142,\n",
       "  1.2806570529937744,\n",
       "  -0.880994439125061,\n",
       "  0.522524356842041,\n",
       "  0.7013788223266602,\n",
       "  0.7677462100982666,\n",
       "  0.25671878457069397,\n",
       "  -0.24175989627838135,\n",
       "  0.3094392418861389,\n",
       "  0.060637883841991425,\n",
       "  0.1205194815993309,\n",
       "  0.47106415033340454,\n",
       "  -0.41791287064552307,\n",
       "  -0.2731315493583679,\n",
       "  0.3230583071708679,\n",
       "  0.15869513154029846,\n",
       "  0.23828735947608948,\n",
       "  -1.335199236869812,\n",
       "  -0.8903528451919556,\n",
       "  0.29093295335769653,\n",
       "  0.11080710589885712,\n",
       "  -0.08227498829364777,\n",
       "  -0.5925876498222351,\n",
       "  -0.16146518290042877,\n",
       "  0.08927641063928604,\n",
       "  1.8108612298965454,\n",
       "  0.9941927790641785,\n",
       "  -0.49994081258773804,\n",
       "  0.40713247656822205,\n",
       "  -0.7792572975158691,\n",
       "  -0.4737212061882019,\n",
       "  0.6044868230819702,\n",
       "  -0.784835934638977,\n",
       "  -0.6378183960914612,\n",
       "  0.97444087266922,\n",
       "  -0.32444971799850464,\n",
       "  0.21049360930919647,\n",
       "  0.5601224899291992,\n",
       "  0.7092767953872681,\n",
       "  -0.7042694687843323,\n",
       "  -0.8296028971672058,\n",
       "  -0.22344426810741425,\n",
       "  -0.044283319264650345,\n",
       "  -0.14400790631771088,\n",
       "  0.10887954384088516,\n",
       "  0.2714127004146576,\n",
       "  0.4302518963813782,\n",
       "  0.19986149668693542,\n",
       "  -0.0592275969684124,\n",
       "  -0.8206285238265991,\n",
       "  0.5349594950675964,\n",
       "  -1.2582414150238037,\n",
       "  -0.18451490998268127,\n",
       "  -0.24620723724365234,\n",
       "  0.0068429009988904,\n",
       "  -0.13229699432849884,\n",
       "  -0.14127108454704285,\n",
       "  -0.817696750164032,\n",
       "  0.7173811197280884,\n",
       "  0.4308745861053467,\n",
       "  0.8547254800796509,\n",
       "  0.04460684582591057,\n",
       "  0.09224759042263031,\n",
       "  0.10320305824279785,\n",
       "  0.5830569863319397,\n",
       "  -0.16788414120674133,\n",
       "  -0.14269301295280457,\n",
       "  -0.3499370813369751,\n",
       "  0.28945451974868774,\n",
       "  -0.048126496374607086,\n",
       "  -0.15083545446395874,\n",
       "  -1.0486581325531006,\n",
       "  0.6905821561813354,\n",
       "  -0.9993424415588379,\n",
       "  0.3986624479293823,\n",
       "  -0.7955998778343201,\n",
       "  0.45340290665626526,\n",
       "  -0.4274011552333832,\n",
       "  -0.863385796546936,\n",
       "  0.05835527926683426,\n",
       "  -0.1011955514550209,\n",
       "  0.9028361439704895,\n",
       "  0.48411282896995544,\n",
       "  -1.5004702806472778,\n",
       "  -0.5682395696640015,\n",
       "  0.01186378113925457,\n",
       "  -0.2730165123939514,\n",
       "  0.4463271200656891,\n",
       "  -0.42266035079956055,\n",
       "  1.4166768789291382,\n",
       "  0.7936307191848755,\n",
       "  -1.080352544784546,\n",
       "  -0.2985698878765106,\n",
       "  1.667400598526001,\n",
       "  -0.5183872580528259,\n",
       "  -1.1978754997253418,\n",
       "  -0.5070090293884277,\n",
       "  0.3786430060863495,\n",
       "  0.6011854410171509,\n",
       "  0.30098599195480347,\n",
       "  1.9754631519317627,\n",
       "  -1.7282695770263672,\n",
       "  1.100292444229126,\n",
       "  1.5504214763641357,\n",
       "  -0.616346001625061,\n",
       "  0.3363558351993561,\n",
       "  0.2141990214586258,\n",
       "  -0.25631242990493774,\n",
       "  1.1436814069747925,\n",
       "  0.7647844552993774,\n",
       "  0.642114520072937,\n",
       "  0.7827642560005188,\n",
       "  0.47275644540786743,\n",
       "  -0.8833612203598022,\n",
       "  -0.04705709591507912,\n",
       "  -0.7860194444656372,\n",
       "  -0.17169037461280823,\n",
       "  0.19032171368598938,\n",
       "  -0.32886847853660583,\n",
       "  1.1255347728729248,\n",
       "  -0.546544075012207,\n",
       "  -0.22294048964977264,\n",
       "  0.3401790261268616,\n",
       "  0.09852328896522522,\n",
       "  0.3157092034816742,\n",
       "  0.596140444278717,\n",
       "  -0.13400088250637054,\n",
       "  -0.04788656160235405,\n",
       "  -0.13028326630592346,\n",
       "  0.48783549666404724,\n",
       "  1.0360444784164429,\n",
       "  -0.4168323874473572,\n",
       "  0.4554847776889801,\n",
       "  -0.4070833623409271,\n",
       "  -1.714917540550232,\n",
       "  0.47423481941223145,\n",
       "  0.7304819226264954,\n",
       "  0.8699682354927063,\n",
       "  0.20028896629810333,\n",
       "  1.0677855014801025,\n",
       "  -0.002083039376884699,\n",
       "  0.03339929133653641,\n",
       "  -0.21973681449890137,\n",
       "  0.10218069702386856,\n",
       "  -0.8138238191604614,\n",
       "  -0.6255015730857849,\n",
       "  0.3485734760761261,\n",
       "  -0.4257916510105133,\n",
       "  0.736090898513794,\n",
       "  0.06377191096544266,\n",
       "  -0.13028165698051453,\n",
       "  0.7477420568466187,\n",
       "  -0.07968807965517044,\n",
       "  0.3698330521583557,\n",
       "  -0.08767371624708176,\n",
       "  -1.2838776111602783,\n",
       "  -0.4889044761657715,\n",
       "  0.7696667313575745,\n",
       "  -0.5121358633041382,\n",
       "  0.2221323549747467,\n",
       "  0.5744055509567261,\n",
       "  0.17008908092975616,\n",
       "  0.7584207057952881,\n",
       "  0.9635099172592163,\n",
       "  -1.8418114185333252,\n",
       "  0.12252936512231827,\n",
       "  -0.572482705116272,\n",
       "  0.34790360927581787,\n",
       "  -1.7392956018447876,\n",
       "  -2.0105767250061035,\n",
       "  -0.20490674674510956,\n",
       "  0.7095328569412231,\n",
       "  0.33450645208358765,\n",
       "  -1.231728434562683,\n",
       "  -1.1689258813858032,\n",
       "  -0.6956745982170105,\n",
       "  0.5283262729644775,\n",
       "  0.13986197113990784,\n",
       "  -0.5209826231002808,\n",
       "  -0.5336679220199585,\n",
       "  -0.6284629106521606,\n",
       "  0.13448253273963928,\n",
       "  -0.09203534573316574,\n",
       "  0.4603192210197449,\n",
       "  0.4265174865722656,\n",
       "  0.08096952736377716,\n",
       "  -0.1964065581560135,\n",
       "  -0.6060041189193726,\n",
       "  0.3030065596103668,\n",
       "  0.5864232778549194,\n",
       "  -0.5958441495895386,\n",
       "  -0.5792571306228638,\n",
       "  0.18567344546318054,\n",
       "  0.13301348686218262,\n",
       "  -0.7279471158981323,\n",
       "  -0.26502466201782227,\n",
       "  0.07623158395290375,\n",
       "  0.6984754800796509,\n",
       "  0.7941017150878906,\n",
       "  -0.33464398980140686,\n",
       "  -1.096670389175415,\n",
       "  -0.2904118597507477,\n",
       "  0.32115477323532104,\n",
       "  0.17288514971733093,\n",
       "  -0.6694164276123047,\n",
       "  0.8650948405265808]]"
      ]
     },
     "execution_count": 10,
     "metadata": {},
     "output_type": "execute_result"
    }
   ],
   "source": [
    "query = 'Богдана любят?'\n",
    "enc_query = st.encode([query]).tolist()\n",
    "vector_db.index.query(enc_query)"
   ]
  },
  {
   "cell_type": "code",
   "execution_count": 5,
   "metadata": {
    "collapsed": false,
    "pycharm": {
     "name": "#%%\n"
    }
   },
   "outputs": [],
   "source": [
    "ae = AnswerExtractor(vector_db, articles, qa_model, st)"
   ]
  },
  {
   "cell_type": "code",
   "execution_count": 6,
   "metadata": {
    "collapsed": false,
    "pycharm": {
     "name": "#%%\n"
    }
   },
   "outputs": [
    {
     "ename": "MaxRetryError",
     "evalue": "HTTPSConnectionPool(host='gcp-starter-unknown.svc.rf-code-pavlov.pinecone.io', port=443): Max retries exceeded with url: /query (Caused by NameResolutionError(\"<urllib3.connection.HTTPSConnection object at 0x172589b50>: Failed to resolve 'gcp-starter-unknown.svc.rf-code-pavlov.pinecone.io' ([Errno 8] nodename nor servname provided, or not known)\"))",
     "output_type": "error",
     "traceback": [
      "\u001B[0;31m---------------------------------------------------------------------------\u001B[0m",
      "\u001B[0;31mgaierror\u001B[0m                                  Traceback (most recent call last)",
      "File \u001B[0;32m~/.pyenv/versions/3.11.4/envs/ai_legal_consultant/lib/python3.11/site-packages/urllib3/connection.py:203\u001B[0m, in \u001B[0;36mHTTPConnection._new_conn\u001B[0;34m(self)\u001B[0m\n\u001B[1;32m    202\u001B[0m \u001B[39mtry\u001B[39;00m:\n\u001B[0;32m--> 203\u001B[0m     sock \u001B[39m=\u001B[39m connection\u001B[39m.\u001B[39;49mcreate_connection(\n\u001B[1;32m    204\u001B[0m         (\u001B[39mself\u001B[39;49m\u001B[39m.\u001B[39;49m_dns_host, \u001B[39mself\u001B[39;49m\u001B[39m.\u001B[39;49mport),\n\u001B[1;32m    205\u001B[0m         \u001B[39mself\u001B[39;49m\u001B[39m.\u001B[39;49mtimeout,\n\u001B[1;32m    206\u001B[0m         source_address\u001B[39m=\u001B[39;49m\u001B[39mself\u001B[39;49m\u001B[39m.\u001B[39;49msource_address,\n\u001B[1;32m    207\u001B[0m         socket_options\u001B[39m=\u001B[39;49m\u001B[39mself\u001B[39;49m\u001B[39m.\u001B[39;49msocket_options,\n\u001B[1;32m    208\u001B[0m     )\n\u001B[1;32m    209\u001B[0m \u001B[39mexcept\u001B[39;00m socket\u001B[39m.\u001B[39mgaierror \u001B[39mas\u001B[39;00m e:\n",
      "File \u001B[0;32m~/.pyenv/versions/3.11.4/envs/ai_legal_consultant/lib/python3.11/site-packages/urllib3/util/connection.py:60\u001B[0m, in \u001B[0;36mcreate_connection\u001B[0;34m(address, timeout, source_address, socket_options)\u001B[0m\n\u001B[1;32m     58\u001B[0m     \u001B[39mraise\u001B[39;00m LocationParseError(\u001B[39mf\u001B[39m\u001B[39m\"\u001B[39m\u001B[39m'\u001B[39m\u001B[39m{\u001B[39;00mhost\u001B[39m}\u001B[39;00m\u001B[39m'\u001B[39m\u001B[39m, label empty or too long\u001B[39m\u001B[39m\"\u001B[39m) \u001B[39mfrom\u001B[39;00m \u001B[39mNone\u001B[39;00m\n\u001B[0;32m---> 60\u001B[0m \u001B[39mfor\u001B[39;00m res \u001B[39min\u001B[39;00m socket\u001B[39m.\u001B[39;49mgetaddrinfo(host, port, family, socket\u001B[39m.\u001B[39;49mSOCK_STREAM):\n\u001B[1;32m     61\u001B[0m     af, socktype, proto, canonname, sa \u001B[39m=\u001B[39m res\n",
      "File \u001B[0;32m~/.pyenv/versions/3.11.4/lib/python3.11/socket.py:962\u001B[0m, in \u001B[0;36mgetaddrinfo\u001B[0;34m(host, port, family, type, proto, flags)\u001B[0m\n\u001B[1;32m    961\u001B[0m addrlist \u001B[39m=\u001B[39m []\n\u001B[0;32m--> 962\u001B[0m \u001B[39mfor\u001B[39;00m res \u001B[39min\u001B[39;00m _socket\u001B[39m.\u001B[39;49mgetaddrinfo(host, port, family, \u001B[39mtype\u001B[39;49m, proto, flags):\n\u001B[1;32m    963\u001B[0m     af, socktype, proto, canonname, sa \u001B[39m=\u001B[39m res\n",
      "\u001B[0;31mgaierror\u001B[0m: [Errno 8] nodename nor servname provided, or not known",
      "\nThe above exception was the direct cause of the following exception:\n",
      "\u001B[0;31mNameResolutionError\u001B[0m                       Traceback (most recent call last)",
      "File \u001B[0;32m~/.pyenv/versions/3.11.4/envs/ai_legal_consultant/lib/python3.11/site-packages/urllib3/connectionpool.py:790\u001B[0m, in \u001B[0;36mHTTPConnectionPool.urlopen\u001B[0;34m(self, method, url, body, headers, retries, redirect, assert_same_host, timeout, pool_timeout, release_conn, chunked, body_pos, preload_content, decode_content, **response_kw)\u001B[0m\n\u001B[1;32m    789\u001B[0m \u001B[39m# Make the request on the HTTPConnection object\u001B[39;00m\n\u001B[0;32m--> 790\u001B[0m response \u001B[39m=\u001B[39m \u001B[39mself\u001B[39;49m\u001B[39m.\u001B[39;49m_make_request(\n\u001B[1;32m    791\u001B[0m     conn,\n\u001B[1;32m    792\u001B[0m     method,\n\u001B[1;32m    793\u001B[0m     url,\n\u001B[1;32m    794\u001B[0m     timeout\u001B[39m=\u001B[39;49mtimeout_obj,\n\u001B[1;32m    795\u001B[0m     body\u001B[39m=\u001B[39;49mbody,\n\u001B[1;32m    796\u001B[0m     headers\u001B[39m=\u001B[39;49mheaders,\n\u001B[1;32m    797\u001B[0m     chunked\u001B[39m=\u001B[39;49mchunked,\n\u001B[1;32m    798\u001B[0m     retries\u001B[39m=\u001B[39;49mretries,\n\u001B[1;32m    799\u001B[0m     response_conn\u001B[39m=\u001B[39;49mresponse_conn,\n\u001B[1;32m    800\u001B[0m     preload_content\u001B[39m=\u001B[39;49mpreload_content,\n\u001B[1;32m    801\u001B[0m     decode_content\u001B[39m=\u001B[39;49mdecode_content,\n\u001B[1;32m    802\u001B[0m     \u001B[39m*\u001B[39;49m\u001B[39m*\u001B[39;49mresponse_kw,\n\u001B[1;32m    803\u001B[0m )\n\u001B[1;32m    805\u001B[0m \u001B[39m# Everything went great!\u001B[39;00m\n",
      "File \u001B[0;32m~/.pyenv/versions/3.11.4/envs/ai_legal_consultant/lib/python3.11/site-packages/urllib3/connectionpool.py:491\u001B[0m, in \u001B[0;36mHTTPConnectionPool._make_request\u001B[0;34m(self, conn, method, url, body, headers, retries, timeout, chunked, response_conn, preload_content, decode_content, enforce_content_length)\u001B[0m\n\u001B[1;32m    490\u001B[0m         new_e \u001B[39m=\u001B[39m _wrap_proxy_error(new_e, conn\u001B[39m.\u001B[39mproxy\u001B[39m.\u001B[39mscheme)\n\u001B[0;32m--> 491\u001B[0m     \u001B[39mraise\u001B[39;00m new_e\n\u001B[1;32m    493\u001B[0m \u001B[39m# conn.request() calls http.client.*.request, not the method in\u001B[39;00m\n\u001B[1;32m    494\u001B[0m \u001B[39m# urllib3.request. It also calls makefile (recv) on the socket.\u001B[39;00m\n",
      "File \u001B[0;32m~/.pyenv/versions/3.11.4/envs/ai_legal_consultant/lib/python3.11/site-packages/urllib3/connectionpool.py:467\u001B[0m, in \u001B[0;36mHTTPConnectionPool._make_request\u001B[0;34m(self, conn, method, url, body, headers, retries, timeout, chunked, response_conn, preload_content, decode_content, enforce_content_length)\u001B[0m\n\u001B[1;32m    466\u001B[0m \u001B[39mtry\u001B[39;00m:\n\u001B[0;32m--> 467\u001B[0m     \u001B[39mself\u001B[39;49m\u001B[39m.\u001B[39;49m_validate_conn(conn)\n\u001B[1;32m    468\u001B[0m \u001B[39mexcept\u001B[39;00m (SocketTimeout, BaseSSLError) \u001B[39mas\u001B[39;00m e:\n",
      "File \u001B[0;32m~/.pyenv/versions/3.11.4/envs/ai_legal_consultant/lib/python3.11/site-packages/urllib3/connectionpool.py:1092\u001B[0m, in \u001B[0;36mHTTPSConnectionPool._validate_conn\u001B[0;34m(self, conn)\u001B[0m\n\u001B[1;32m   1091\u001B[0m \u001B[39mif\u001B[39;00m conn\u001B[39m.\u001B[39mis_closed:\n\u001B[0;32m-> 1092\u001B[0m     conn\u001B[39m.\u001B[39;49mconnect()\n\u001B[1;32m   1094\u001B[0m \u001B[39mif\u001B[39;00m \u001B[39mnot\u001B[39;00m conn\u001B[39m.\u001B[39mis_verified:\n",
      "File \u001B[0;32m~/.pyenv/versions/3.11.4/envs/ai_legal_consultant/lib/python3.11/site-packages/urllib3/connection.py:611\u001B[0m, in \u001B[0;36mHTTPSConnection.connect\u001B[0;34m(self)\u001B[0m\n\u001B[1;32m    610\u001B[0m sock: socket\u001B[39m.\u001B[39msocket \u001B[39m|\u001B[39m ssl\u001B[39m.\u001B[39mSSLSocket\n\u001B[0;32m--> 611\u001B[0m \u001B[39mself\u001B[39m\u001B[39m.\u001B[39msock \u001B[39m=\u001B[39m sock \u001B[39m=\u001B[39m \u001B[39mself\u001B[39;49m\u001B[39m.\u001B[39;49m_new_conn()\n\u001B[1;32m    612\u001B[0m server_hostname: \u001B[39mstr\u001B[39m \u001B[39m=\u001B[39m \u001B[39mself\u001B[39m\u001B[39m.\u001B[39mhost\n",
      "File \u001B[0;32m~/.pyenv/versions/3.11.4/envs/ai_legal_consultant/lib/python3.11/site-packages/urllib3/connection.py:210\u001B[0m, in \u001B[0;36mHTTPConnection._new_conn\u001B[0;34m(self)\u001B[0m\n\u001B[1;32m    209\u001B[0m \u001B[39mexcept\u001B[39;00m socket\u001B[39m.\u001B[39mgaierror \u001B[39mas\u001B[39;00m e:\n\u001B[0;32m--> 210\u001B[0m     \u001B[39mraise\u001B[39;00m NameResolutionError(\u001B[39mself\u001B[39m\u001B[39m.\u001B[39mhost, \u001B[39mself\u001B[39m, e) \u001B[39mfrom\u001B[39;00m \u001B[39me\u001B[39;00m\n\u001B[1;32m    211\u001B[0m \u001B[39mexcept\u001B[39;00m SocketTimeout \u001B[39mas\u001B[39;00m e:\n",
      "\u001B[0;31mNameResolutionError\u001B[0m: <urllib3.connection.HTTPSConnection object at 0x172589b50>: Failed to resolve 'gcp-starter-unknown.svc.rf-code-pavlov.pinecone.io' ([Errno 8] nodename nor servname provided, or not known)",
      "\nThe above exception was the direct cause of the following exception:\n",
      "\u001B[0;31mMaxRetryError\u001B[0m                             Traceback (most recent call last)",
      "\u001B[1;32m/Users/mikhail_ovakimyan/Documents/Универ/Курсач по ТРПС/ai_legal_consultant/answer_extraction/clean_playground.ipynb Ячейка 5\u001B[0m line \u001B[0;36m1\n\u001B[0;32m----> <a href='vscode-notebook-cell:/Users/mikhail_ovakimyan/Documents/%D0%A3%D0%BD%D0%B8%D0%B2%D0%B5%D1%80/%D0%9A%D1%83%D1%80%D1%81%D0%B0%D1%87%20%D0%BF%D0%BE%20%D0%A2%D0%A0%D0%9F%D0%A1/ai_legal_consultant/answer_extraction/clean_playground.ipynb#W3sZmlsZQ%3D%3D?line=0'>1</a>\u001B[0m ae\u001B[39m.\u001B[39;49mfind([\u001B[39m'\u001B[39;49m\u001B[39mБогдана любят?\u001B[39;49m\u001B[39m'\u001B[39;49m])\n",
      "\u001B[1;32m/Users/mikhail_ovakimyan/Documents/Универ/Курсач по ТРПС/ai_legal_consultant/answer_extraction/clean_playground.ipynb Ячейка 5\u001B[0m line \u001B[0;36m1\n\u001B[1;32m     <a href='vscode-notebook-cell:/Users/mikhail_ovakimyan/Documents/%D0%A3%D0%BD%D0%B8%D0%B2%D0%B5%D1%80/%D0%9A%D1%83%D1%80%D1%81%D0%B0%D1%87%20%D0%BF%D0%BE%20%D0%A2%D0%A0%D0%9F%D0%A1/ai_legal_consultant/answer_extraction/clean_playground.ipynb#W3sZmlsZQ%3D%3D?line=13'>14</a>\u001B[0m \u001B[39mdef\u001B[39;00m \u001B[39mfind\u001B[39m(\u001B[39mself\u001B[39m, query):\n\u001B[1;32m     <a href='vscode-notebook-cell:/Users/mikhail_ovakimyan/Documents/%D0%A3%D0%BD%D0%B8%D0%B2%D0%B5%D1%80/%D0%9A%D1%83%D1%80%D1%81%D0%B0%D1%87%20%D0%BF%D0%BE%20%D0%A2%D0%A0%D0%9F%D0%A1/ai_legal_consultant/answer_extraction/clean_playground.ipynb#W3sZmlsZQ%3D%3D?line=14'>15</a>\u001B[0m     enc_query \u001B[39m=\u001B[39m \u001B[39mself\u001B[39m\u001B[39m.\u001B[39msequence_encoder\u001B[39m.\u001B[39mencode(query)\u001B[39m.\u001B[39mtolist()\n\u001B[0;32m---> <a href='vscode-notebook-cell:/Users/mikhail_ovakimyan/Documents/%D0%A3%D0%BD%D0%B8%D0%B2%D0%B5%D1%80/%D0%9A%D1%83%D1%80%D1%81%D0%B0%D1%87%20%D0%BF%D0%BE%20%D0%A2%D0%A0%D0%9F%D0%A1/ai_legal_consultant/answer_extraction/clean_playground.ipynb#W3sZmlsZQ%3D%3D?line=15'>16</a>\u001B[0m     matches \u001B[39m=\u001B[39m \u001B[39mself\u001B[39;49m\u001B[39m.\u001B[39;49mvector_db\u001B[39m.\u001B[39;49mfind(enc_query, top_k\u001B[39m=\u001B[39;49m\u001B[39m15\u001B[39;49m)\n\u001B[1;32m     <a href='vscode-notebook-cell:/Users/mikhail_ovakimyan/Documents/%D0%A3%D0%BD%D0%B8%D0%B2%D0%B5%D1%80/%D0%9A%D1%83%D1%80%D1%81%D0%B0%D1%87%20%D0%BF%D0%BE%20%D0%A2%D0%A0%D0%9F%D0%A1/ai_legal_consultant/answer_extraction/clean_playground.ipynb#W3sZmlsZQ%3D%3D?line=16'>17</a>\u001B[0m     matches_id \u001B[39m=\u001B[39m [matches[i][\u001B[39m'\u001B[39m\u001B[39mid\u001B[39m\u001B[39m'\u001B[39m] \u001B[39mfor\u001B[39;00m i, _ \u001B[39min\u001B[39;00m \u001B[39menumerate\u001B[39m(matches[\u001B[39m'\u001B[39m\u001B[39mmatches\u001B[39m\u001B[39m'\u001B[39m])]\n\u001B[1;32m     <a href='vscode-notebook-cell:/Users/mikhail_ovakimyan/Documents/%D0%A3%D0%BD%D0%B8%D0%B2%D0%B5%D1%80/%D0%9A%D1%83%D1%80%D1%81%D0%B0%D1%87%20%D0%BF%D0%BE%20%D0%A2%D0%A0%D0%9F%D0%A1/ai_legal_consultant/answer_extraction/clean_playground.ipynb#W3sZmlsZQ%3D%3D?line=18'>19</a>\u001B[0m     picked_contexts \u001B[39m=\u001B[39m \u001B[39mself\u001B[39m\u001B[39m.\u001B[39marticle_db\u001B[39m.\u001B[39mget_table(\u001B[39m'\u001B[39m\u001B[39mlabor_code\u001B[39m\u001B[39m'\u001B[39m)\u001B[39m.\u001B[39mloc[matches_id, \u001B[39m'\u001B[39m\u001B[39mtext\u001B[39m\u001B[39m'\u001B[39m]\u001B[39m.\u001B[39mtolist()\n",
      "File \u001B[0;32m~/Documents/Универ/Курсач по ТРПС/ai_legal_consultant/answer_extraction/vector_db/pinecone_db.py:36\u001B[0m, in \u001B[0;36mPineconeDB.find\u001B[0;34m(self, vector, top_k)\u001B[0m\n\u001B[1;32m     35\u001B[0m \u001B[39mdef\u001B[39;00m \u001B[39mfind\u001B[39m(\u001B[39mself\u001B[39m, vector: List[\u001B[39mfloat\u001B[39m], top_k\u001B[39m=\u001B[39m\u001B[39m1\u001B[39m) \u001B[39m-\u001B[39m\u001B[39m>\u001B[39m List:\n\u001B[0;32m---> 36\u001B[0m     \u001B[39mreturn\u001B[39;00m \u001B[39mself\u001B[39;49m\u001B[39m.\u001B[39;49mindex\u001B[39m.\u001B[39;49mquery(vector, top_k\u001B[39m=\u001B[39;49mtop_k)[\u001B[39m'\u001B[39m\u001B[39mmatches\u001B[39m\u001B[39m'\u001B[39m]\n",
      "File \u001B[0;32m~/.pyenv/versions/3.11.4/envs/ai_legal_consultant/lib/python3.11/site-packages/pinecone/core/utils/error_handling.py:17\u001B[0m, in \u001B[0;36mvalidate_and_convert_errors.<locals>.inner_func\u001B[0;34m(*args, **kwargs)\u001B[0m\n\u001B[1;32m     15\u001B[0m Config\u001B[39m.\u001B[39mvalidate()  \u001B[39m# raises exceptions in case of invalid config\u001B[39;00m\n\u001B[1;32m     16\u001B[0m \u001B[39mtry\u001B[39;00m:\n\u001B[0;32m---> 17\u001B[0m     \u001B[39mreturn\u001B[39;00m func(\u001B[39m*\u001B[39;49margs, \u001B[39m*\u001B[39;49m\u001B[39m*\u001B[39;49mkwargs)\n\u001B[1;32m     18\u001B[0m \u001B[39mexcept\u001B[39;00m MaxRetryError \u001B[39mas\u001B[39;00m e:\n\u001B[1;32m     19\u001B[0m     \u001B[39mif\u001B[39;00m \u001B[39misinstance\u001B[39m(e\u001B[39m.\u001B[39mreason, ProtocolError):\n",
      "File \u001B[0;32m~/.pyenv/versions/3.11.4/envs/ai_legal_consultant/lib/python3.11/site-packages/pinecone/index.py:455\u001B[0m, in \u001B[0;36mIndex.query\u001B[0;34m(self, vector, id, queries, top_k, namespace, filter, include_values, include_metadata, sparse_vector, **kwargs)\u001B[0m\n\u001B[1;32m    445\u001B[0m sparse_vector \u001B[39m=\u001B[39m \u001B[39mself\u001B[39m\u001B[39m.\u001B[39m_parse_sparse_values_arg(sparse_vector)\n\u001B[1;32m    446\u001B[0m args_dict \u001B[39m=\u001B[39m \u001B[39mself\u001B[39m\u001B[39m.\u001B[39m_parse_non_empty_args([(\u001B[39m'\u001B[39m\u001B[39mvector\u001B[39m\u001B[39m'\u001B[39m, vector),\n\u001B[1;32m    447\u001B[0m                                         (\u001B[39m'\u001B[39m\u001B[39mid\u001B[39m\u001B[39m'\u001B[39m, \u001B[39mid\u001B[39m),\n\u001B[1;32m    448\u001B[0m                                         (\u001B[39m'\u001B[39m\u001B[39mqueries\u001B[39m\u001B[39m'\u001B[39m, queries),\n\u001B[0;32m   (...)\u001B[0m\n\u001B[1;32m    453\u001B[0m                                         (\u001B[39m'\u001B[39m\u001B[39minclude_metadata\u001B[39m\u001B[39m'\u001B[39m, include_metadata),\n\u001B[1;32m    454\u001B[0m                                         (\u001B[39m'\u001B[39m\u001B[39msparse_vector\u001B[39m\u001B[39m'\u001B[39m, sparse_vector)])\n\u001B[0;32m--> 455\u001B[0m response \u001B[39m=\u001B[39m \u001B[39mself\u001B[39;49m\u001B[39m.\u001B[39;49m_vector_api\u001B[39m.\u001B[39;49mquery(\n\u001B[1;32m    456\u001B[0m     QueryRequest(\n\u001B[1;32m    457\u001B[0m         \u001B[39m*\u001B[39;49m\u001B[39m*\u001B[39;49margs_dict,\n\u001B[1;32m    458\u001B[0m         _check_type\u001B[39m=\u001B[39;49m_check_type,\n\u001B[1;32m    459\u001B[0m         \u001B[39m*\u001B[39;49m\u001B[39m*\u001B[39;49m{k: v \u001B[39mfor\u001B[39;49;00m k, v \u001B[39min\u001B[39;49;00m kwargs\u001B[39m.\u001B[39;49mitems() \u001B[39mif\u001B[39;49;00m k \u001B[39mnot\u001B[39;49;00m \u001B[39min\u001B[39;49;00m _OPENAPI_ENDPOINT_PARAMS}\n\u001B[1;32m    460\u001B[0m     ),\n\u001B[1;32m    461\u001B[0m     \u001B[39m*\u001B[39;49m\u001B[39m*\u001B[39;49m{k: v \u001B[39mfor\u001B[39;49;00m k, v \u001B[39min\u001B[39;49;00m kwargs\u001B[39m.\u001B[39;49mitems() \u001B[39mif\u001B[39;49;00m k \u001B[39min\u001B[39;49;00m _OPENAPI_ENDPOINT_PARAMS}\n\u001B[1;32m    462\u001B[0m )\n\u001B[1;32m    463\u001B[0m \u001B[39mreturn\u001B[39;00m parse_query_response(response, vector \u001B[39mis\u001B[39;00m \u001B[39mnot\u001B[39;00m \u001B[39mNone\u001B[39;00m \u001B[39mor\u001B[39;00m \u001B[39mid\u001B[39m)\n",
      "File \u001B[0;32m~/.pyenv/versions/3.11.4/envs/ai_legal_consultant/lib/python3.11/site-packages/pinecone/core/client/api_client.py:776\u001B[0m, in \u001B[0;36mEndpoint.__call__\u001B[0;34m(self, *args, **kwargs)\u001B[0m\n\u001B[1;32m    765\u001B[0m \u001B[39mdef\u001B[39;00m \u001B[39m__call__\u001B[39m(\u001B[39mself\u001B[39m, \u001B[39m*\u001B[39margs, \u001B[39m*\u001B[39m\u001B[39m*\u001B[39mkwargs):\n\u001B[1;32m    766\u001B[0m \u001B[39m    \u001B[39m\u001B[39m\"\"\" This method is invoked when endpoints are called\u001B[39;00m\n\u001B[1;32m    767\u001B[0m \u001B[39m    Example:\u001B[39;00m\n\u001B[1;32m    768\u001B[0m \n\u001B[0;32m   (...)\u001B[0m\n\u001B[1;32m    774\u001B[0m \n\u001B[1;32m    775\u001B[0m \u001B[39m    \"\"\"\u001B[39;00m\n\u001B[0;32m--> 776\u001B[0m     \u001B[39mreturn\u001B[39;00m \u001B[39mself\u001B[39;49m\u001B[39m.\u001B[39;49mcallable(\u001B[39mself\u001B[39;49m, \u001B[39m*\u001B[39;49margs, \u001B[39m*\u001B[39;49m\u001B[39m*\u001B[39;49mkwargs)\n",
      "File \u001B[0;32m~/.pyenv/versions/3.11.4/envs/ai_legal_consultant/lib/python3.11/site-packages/pinecone/core/client/api/vector_operations_api.py:716\u001B[0m, in \u001B[0;36mVectorOperationsApi.__init__.<locals>.__query\u001B[0;34m(self, query_request, **kwargs)\u001B[0m\n\u001B[1;32m    713\u001B[0m kwargs[\u001B[39m'\u001B[39m\u001B[39m_host_index\u001B[39m\u001B[39m'\u001B[39m] \u001B[39m=\u001B[39m kwargs\u001B[39m.\u001B[39mget(\u001B[39m'\u001B[39m\u001B[39m_host_index\u001B[39m\u001B[39m'\u001B[39m)\n\u001B[1;32m    714\u001B[0m kwargs[\u001B[39m'\u001B[39m\u001B[39mquery_request\u001B[39m\u001B[39m'\u001B[39m] \u001B[39m=\u001B[39m \\\n\u001B[1;32m    715\u001B[0m     query_request\n\u001B[0;32m--> 716\u001B[0m \u001B[39mreturn\u001B[39;00m \u001B[39mself\u001B[39;49m\u001B[39m.\u001B[39;49mcall_with_http_info(\u001B[39m*\u001B[39;49m\u001B[39m*\u001B[39;49mkwargs)\n",
      "File \u001B[0;32m~/.pyenv/versions/3.11.4/envs/ai_legal_consultant/lib/python3.11/site-packages/pinecone/core/client/api_client.py:838\u001B[0m, in \u001B[0;36mEndpoint.call_with_http_info\u001B[0;34m(self, **kwargs)\u001B[0m\n\u001B[1;32m    834\u001B[0m     header_list \u001B[39m=\u001B[39m \u001B[39mself\u001B[39m\u001B[39m.\u001B[39mapi_client\u001B[39m.\u001B[39mselect_header_content_type(\n\u001B[1;32m    835\u001B[0m         content_type_headers_list)\n\u001B[1;32m    836\u001B[0m     params[\u001B[39m'\u001B[39m\u001B[39mheader\u001B[39m\u001B[39m'\u001B[39m][\u001B[39m'\u001B[39m\u001B[39mContent-Type\u001B[39m\u001B[39m'\u001B[39m] \u001B[39m=\u001B[39m header_list\n\u001B[0;32m--> 838\u001B[0m \u001B[39mreturn\u001B[39;00m \u001B[39mself\u001B[39;49m\u001B[39m.\u001B[39;49mapi_client\u001B[39m.\u001B[39;49mcall_api(\n\u001B[1;32m    839\u001B[0m     \u001B[39mself\u001B[39;49m\u001B[39m.\u001B[39;49msettings[\u001B[39m'\u001B[39;49m\u001B[39mendpoint_path\u001B[39;49m\u001B[39m'\u001B[39;49m], \u001B[39mself\u001B[39;49m\u001B[39m.\u001B[39;49msettings[\u001B[39m'\u001B[39;49m\u001B[39mhttp_method\u001B[39;49m\u001B[39m'\u001B[39;49m],\n\u001B[1;32m    840\u001B[0m     params[\u001B[39m'\u001B[39;49m\u001B[39mpath\u001B[39;49m\u001B[39m'\u001B[39;49m],\n\u001B[1;32m    841\u001B[0m     params[\u001B[39m'\u001B[39;49m\u001B[39mquery\u001B[39;49m\u001B[39m'\u001B[39;49m],\n\u001B[1;32m    842\u001B[0m     params[\u001B[39m'\u001B[39;49m\u001B[39mheader\u001B[39;49m\u001B[39m'\u001B[39;49m],\n\u001B[1;32m    843\u001B[0m     body\u001B[39m=\u001B[39;49mparams[\u001B[39m'\u001B[39;49m\u001B[39mbody\u001B[39;49m\u001B[39m'\u001B[39;49m],\n\u001B[1;32m    844\u001B[0m     post_params\u001B[39m=\u001B[39;49mparams[\u001B[39m'\u001B[39;49m\u001B[39mform\u001B[39;49m\u001B[39m'\u001B[39;49m],\n\u001B[1;32m    845\u001B[0m     files\u001B[39m=\u001B[39;49mparams[\u001B[39m'\u001B[39;49m\u001B[39mfile\u001B[39;49m\u001B[39m'\u001B[39;49m],\n\u001B[1;32m    846\u001B[0m     response_type\u001B[39m=\u001B[39;49m\u001B[39mself\u001B[39;49m\u001B[39m.\u001B[39;49msettings[\u001B[39m'\u001B[39;49m\u001B[39mresponse_type\u001B[39;49m\u001B[39m'\u001B[39;49m],\n\u001B[1;32m    847\u001B[0m     auth_settings\u001B[39m=\u001B[39;49m\u001B[39mself\u001B[39;49m\u001B[39m.\u001B[39;49msettings[\u001B[39m'\u001B[39;49m\u001B[39mauth\u001B[39;49m\u001B[39m'\u001B[39;49m],\n\u001B[1;32m    848\u001B[0m     async_req\u001B[39m=\u001B[39;49mkwargs[\u001B[39m'\u001B[39;49m\u001B[39masync_req\u001B[39;49m\u001B[39m'\u001B[39;49m],\n\u001B[1;32m    849\u001B[0m     _check_type\u001B[39m=\u001B[39;49mkwargs[\u001B[39m'\u001B[39;49m\u001B[39m_check_return_type\u001B[39;49m\u001B[39m'\u001B[39;49m],\n\u001B[1;32m    850\u001B[0m     _return_http_data_only\u001B[39m=\u001B[39;49mkwargs[\u001B[39m'\u001B[39;49m\u001B[39m_return_http_data_only\u001B[39;49m\u001B[39m'\u001B[39;49m],\n\u001B[1;32m    851\u001B[0m     _preload_content\u001B[39m=\u001B[39;49mkwargs[\u001B[39m'\u001B[39;49m\u001B[39m_preload_content\u001B[39;49m\u001B[39m'\u001B[39;49m],\n\u001B[1;32m    852\u001B[0m     _request_timeout\u001B[39m=\u001B[39;49mkwargs[\u001B[39m'\u001B[39;49m\u001B[39m_request_timeout\u001B[39;49m\u001B[39m'\u001B[39;49m],\n\u001B[1;32m    853\u001B[0m     _host\u001B[39m=\u001B[39;49m_host,\n\u001B[1;32m    854\u001B[0m     collection_formats\u001B[39m=\u001B[39;49mparams[\u001B[39m'\u001B[39;49m\u001B[39mcollection_format\u001B[39;49m\u001B[39m'\u001B[39;49m])\n",
      "File \u001B[0;32m~/.pyenv/versions/3.11.4/envs/ai_legal_consultant/lib/python3.11/site-packages/pinecone/core/client/api_client.py:413\u001B[0m, in \u001B[0;36mApiClient.call_api\u001B[0;34m(self, resource_path, method, path_params, query_params, header_params, body, post_params, files, response_type, auth_settings, async_req, _return_http_data_only, collection_formats, _preload_content, _request_timeout, _host, _check_type)\u001B[0m\n\u001B[1;32m    359\u001B[0m \u001B[39m\u001B[39m\u001B[39m\"\"\"Makes the HTTP request (synchronous) and returns deserialized data.\u001B[39;00m\n\u001B[1;32m    360\u001B[0m \n\u001B[1;32m    361\u001B[0m \u001B[39mTo make an async_req request, set the async_req parameter.\u001B[39;00m\n\u001B[0;32m   (...)\u001B[0m\n\u001B[1;32m    410\u001B[0m \u001B[39m    then the method will return the response directly.\u001B[39;00m\n\u001B[1;32m    411\u001B[0m \u001B[39m\"\"\"\u001B[39;00m\n\u001B[1;32m    412\u001B[0m \u001B[39mif\u001B[39;00m \u001B[39mnot\u001B[39;00m async_req:\n\u001B[0;32m--> 413\u001B[0m     \u001B[39mreturn\u001B[39;00m \u001B[39mself\u001B[39;49m\u001B[39m.\u001B[39;49m__call_api(resource_path, method,\n\u001B[1;32m    414\u001B[0m                            path_params, query_params, header_params,\n\u001B[1;32m    415\u001B[0m                            body, post_params, files,\n\u001B[1;32m    416\u001B[0m                            response_type, auth_settings,\n\u001B[1;32m    417\u001B[0m                            _return_http_data_only, collection_formats,\n\u001B[1;32m    418\u001B[0m                            _preload_content, _request_timeout, _host,\n\u001B[1;32m    419\u001B[0m                            _check_type)\n\u001B[1;32m    421\u001B[0m \u001B[39mreturn\u001B[39;00m \u001B[39mself\u001B[39m\u001B[39m.\u001B[39mpool\u001B[39m.\u001B[39mapply_async(\u001B[39mself\u001B[39m\u001B[39m.\u001B[39m__call_api, (resource_path,\n\u001B[1;32m    422\u001B[0m                                                method, path_params,\n\u001B[1;32m    423\u001B[0m                                                query_params,\n\u001B[0;32m   (...)\u001B[0m\n\u001B[1;32m    431\u001B[0m                                                _request_timeout,\n\u001B[1;32m    432\u001B[0m                                                _host, _check_type))\n",
      "File \u001B[0;32m~/.pyenv/versions/3.11.4/envs/ai_legal_consultant/lib/python3.11/site-packages/pinecone/core/client/api_client.py:200\u001B[0m, in \u001B[0;36mApiClient.__call_api\u001B[0;34m(self, resource_path, method, path_params, query_params, header_params, body, post_params, files, response_type, auth_settings, _return_http_data_only, collection_formats, _preload_content, _request_timeout, _host, _check_type)\u001B[0m\n\u001B[1;32m    196\u001B[0m     url \u001B[39m=\u001B[39m _host \u001B[39m+\u001B[39m resource_path\n\u001B[1;32m    198\u001B[0m \u001B[39mtry\u001B[39;00m:\n\u001B[1;32m    199\u001B[0m     \u001B[39m# perform request and return response\u001B[39;00m\n\u001B[0;32m--> 200\u001B[0m     response_data \u001B[39m=\u001B[39m \u001B[39mself\u001B[39;49m\u001B[39m.\u001B[39;49mrequest(\n\u001B[1;32m    201\u001B[0m         method, url, query_params\u001B[39m=\u001B[39;49mquery_params, headers\u001B[39m=\u001B[39;49mheader_params,\n\u001B[1;32m    202\u001B[0m         post_params\u001B[39m=\u001B[39;49mpost_params, body\u001B[39m=\u001B[39;49mbody,\n\u001B[1;32m    203\u001B[0m         _preload_content\u001B[39m=\u001B[39;49m_preload_content,\n\u001B[1;32m    204\u001B[0m         _request_timeout\u001B[39m=\u001B[39;49m_request_timeout)\n\u001B[1;32m    205\u001B[0m \u001B[39mexcept\u001B[39;00m ApiException \u001B[39mas\u001B[39;00m e:\n\u001B[1;32m    206\u001B[0m     e\u001B[39m.\u001B[39mbody \u001B[39m=\u001B[39m e\u001B[39m.\u001B[39mbody\u001B[39m.\u001B[39mdecode(\u001B[39m'\u001B[39m\u001B[39mutf-8\u001B[39m\u001B[39m'\u001B[39m)\n",
      "File \u001B[0;32m~/.pyenv/versions/3.11.4/envs/ai_legal_consultant/lib/python3.11/site-packages/pinecone/core/client/api_client.py:459\u001B[0m, in \u001B[0;36mApiClient.request\u001B[0;34m(self, method, url, query_params, headers, post_params, body, _preload_content, _request_timeout)\u001B[0m\n\u001B[1;32m    451\u001B[0m     \u001B[39mreturn\u001B[39;00m \u001B[39mself\u001B[39m\u001B[39m.\u001B[39mrest_client\u001B[39m.\u001B[39mOPTIONS(url,\n\u001B[1;32m    452\u001B[0m                                     query_params\u001B[39m=\u001B[39mquery_params,\n\u001B[1;32m    453\u001B[0m                                     headers\u001B[39m=\u001B[39mheaders,\n\u001B[0;32m   (...)\u001B[0m\n\u001B[1;32m    456\u001B[0m                                     _request_timeout\u001B[39m=\u001B[39m_request_timeout,\n\u001B[1;32m    457\u001B[0m                                     body\u001B[39m=\u001B[39mbody)\n\u001B[1;32m    458\u001B[0m \u001B[39melif\u001B[39;00m method \u001B[39m==\u001B[39m \u001B[39m\"\u001B[39m\u001B[39mPOST\u001B[39m\u001B[39m\"\u001B[39m:\n\u001B[0;32m--> 459\u001B[0m     \u001B[39mreturn\u001B[39;00m \u001B[39mself\u001B[39;49m\u001B[39m.\u001B[39;49mrest_client\u001B[39m.\u001B[39;49mPOST(url,\n\u001B[1;32m    460\u001B[0m                                  query_params\u001B[39m=\u001B[39;49mquery_params,\n\u001B[1;32m    461\u001B[0m                                  headers\u001B[39m=\u001B[39;49mheaders,\n\u001B[1;32m    462\u001B[0m                                  post_params\u001B[39m=\u001B[39;49mpost_params,\n\u001B[1;32m    463\u001B[0m                                  _preload_content\u001B[39m=\u001B[39;49m_preload_content,\n\u001B[1;32m    464\u001B[0m                                  _request_timeout\u001B[39m=\u001B[39;49m_request_timeout,\n\u001B[1;32m    465\u001B[0m                                  body\u001B[39m=\u001B[39;49mbody)\n\u001B[1;32m    466\u001B[0m \u001B[39melif\u001B[39;00m method \u001B[39m==\u001B[39m \u001B[39m\"\u001B[39m\u001B[39mPUT\u001B[39m\u001B[39m\"\u001B[39m:\n\u001B[1;32m    467\u001B[0m     \u001B[39mreturn\u001B[39;00m \u001B[39mself\u001B[39m\u001B[39m.\u001B[39mrest_client\u001B[39m.\u001B[39mPUT(url,\n\u001B[1;32m    468\u001B[0m                                 query_params\u001B[39m=\u001B[39mquery_params,\n\u001B[1;32m    469\u001B[0m                                 headers\u001B[39m=\u001B[39mheaders,\n\u001B[0;32m   (...)\u001B[0m\n\u001B[1;32m    472\u001B[0m                                 _request_timeout\u001B[39m=\u001B[39m_request_timeout,\n\u001B[1;32m    473\u001B[0m                                 body\u001B[39m=\u001B[39mbody)\n",
      "File \u001B[0;32m~/.pyenv/versions/3.11.4/envs/ai_legal_consultant/lib/python3.11/site-packages/pinecone/core/client/rest.py:271\u001B[0m, in \u001B[0;36mRESTClientObject.POST\u001B[0;34m(self, url, headers, query_params, post_params, body, _preload_content, _request_timeout)\u001B[0m\n\u001B[1;32m    269\u001B[0m \u001B[39mdef\u001B[39;00m \u001B[39mPOST\u001B[39m(\u001B[39mself\u001B[39m, url, headers\u001B[39m=\u001B[39m\u001B[39mNone\u001B[39;00m, query_params\u001B[39m=\u001B[39m\u001B[39mNone\u001B[39;00m, post_params\u001B[39m=\u001B[39m\u001B[39mNone\u001B[39;00m,\n\u001B[1;32m    270\u001B[0m          body\u001B[39m=\u001B[39m\u001B[39mNone\u001B[39;00m, _preload_content\u001B[39m=\u001B[39m\u001B[39mTrue\u001B[39;00m, _request_timeout\u001B[39m=\u001B[39m\u001B[39mNone\u001B[39;00m):\n\u001B[0;32m--> 271\u001B[0m     \u001B[39mreturn\u001B[39;00m \u001B[39mself\u001B[39;49m\u001B[39m.\u001B[39;49mrequest(\u001B[39m\"\u001B[39;49m\u001B[39mPOST\u001B[39;49m\u001B[39m\"\u001B[39;49m, url,\n\u001B[1;32m    272\u001B[0m                         headers\u001B[39m=\u001B[39;49mheaders,\n\u001B[1;32m    273\u001B[0m                         query_params\u001B[39m=\u001B[39;49mquery_params,\n\u001B[1;32m    274\u001B[0m                         post_params\u001B[39m=\u001B[39;49mpost_params,\n\u001B[1;32m    275\u001B[0m                         _preload_content\u001B[39m=\u001B[39;49m_preload_content,\n\u001B[1;32m    276\u001B[0m                         _request_timeout\u001B[39m=\u001B[39;49m_request_timeout,\n\u001B[1;32m    277\u001B[0m                         body\u001B[39m=\u001B[39;49mbody)\n",
      "File \u001B[0;32m~/.pyenv/versions/3.11.4/envs/ai_legal_consultant/lib/python3.11/site-packages/pinecone/core/client/rest.py:157\u001B[0m, in \u001B[0;36mRESTClientObject.request\u001B[0;34m(self, method, url, query_params, headers, body, post_params, _preload_content, _request_timeout)\u001B[0m\n\u001B[1;32m    155\u001B[0m     \u001B[39mif\u001B[39;00m body \u001B[39mis\u001B[39;00m \u001B[39mnot\u001B[39;00m \u001B[39mNone\u001B[39;00m:\n\u001B[1;32m    156\u001B[0m         request_body \u001B[39m=\u001B[39m json\u001B[39m.\u001B[39mdumps(body)\n\u001B[0;32m--> 157\u001B[0m     r \u001B[39m=\u001B[39m \u001B[39mself\u001B[39;49m\u001B[39m.\u001B[39;49mpool_manager\u001B[39m.\u001B[39;49mrequest(\n\u001B[1;32m    158\u001B[0m         method, url,\n\u001B[1;32m    159\u001B[0m         body\u001B[39m=\u001B[39;49mrequest_body,\n\u001B[1;32m    160\u001B[0m         preload_content\u001B[39m=\u001B[39;49m_preload_content,\n\u001B[1;32m    161\u001B[0m         timeout\u001B[39m=\u001B[39;49mtimeout,\n\u001B[1;32m    162\u001B[0m         headers\u001B[39m=\u001B[39;49mheaders)\n\u001B[1;32m    163\u001B[0m \u001B[39melif\u001B[39;00m headers[\u001B[39m'\u001B[39m\u001B[39mContent-Type\u001B[39m\u001B[39m'\u001B[39m] \u001B[39m==\u001B[39m \u001B[39m'\u001B[39m\u001B[39mapplication/x-www-form-urlencoded\u001B[39m\u001B[39m'\u001B[39m:  \u001B[39m# noqa: E501\u001B[39;00m\n\u001B[1;32m    164\u001B[0m     r \u001B[39m=\u001B[39m \u001B[39mself\u001B[39m\u001B[39m.\u001B[39mpool_manager\u001B[39m.\u001B[39mrequest(\n\u001B[1;32m    165\u001B[0m         method, url,\n\u001B[1;32m    166\u001B[0m         fields\u001B[39m=\u001B[39mpost_params,\n\u001B[0;32m   (...)\u001B[0m\n\u001B[1;32m    169\u001B[0m         timeout\u001B[39m=\u001B[39mtimeout,\n\u001B[1;32m    170\u001B[0m         headers\u001B[39m=\u001B[39mheaders)\n",
      "File \u001B[0;32m~/.pyenv/versions/3.11.4/envs/ai_legal_consultant/lib/python3.11/site-packages/urllib3/_request_methods.py:118\u001B[0m, in \u001B[0;36mRequestMethods.request\u001B[0;34m(self, method, url, body, fields, headers, json, **urlopen_kw)\u001B[0m\n\u001B[1;32m    110\u001B[0m     \u001B[39mreturn\u001B[39;00m \u001B[39mself\u001B[39m\u001B[39m.\u001B[39mrequest_encode_url(\n\u001B[1;32m    111\u001B[0m         method,\n\u001B[1;32m    112\u001B[0m         url,\n\u001B[0;32m   (...)\u001B[0m\n\u001B[1;32m    115\u001B[0m         \u001B[39m*\u001B[39m\u001B[39m*\u001B[39murlopen_kw,\n\u001B[1;32m    116\u001B[0m     )\n\u001B[1;32m    117\u001B[0m \u001B[39melse\u001B[39;00m:\n\u001B[0;32m--> 118\u001B[0m     \u001B[39mreturn\u001B[39;00m \u001B[39mself\u001B[39;49m\u001B[39m.\u001B[39;49mrequest_encode_body(\n\u001B[1;32m    119\u001B[0m         method, url, fields\u001B[39m=\u001B[39;49mfields, headers\u001B[39m=\u001B[39;49mheaders, \u001B[39m*\u001B[39;49m\u001B[39m*\u001B[39;49murlopen_kw\n\u001B[1;32m    120\u001B[0m     )\n",
      "File \u001B[0;32m~/.pyenv/versions/3.11.4/envs/ai_legal_consultant/lib/python3.11/site-packages/urllib3/_request_methods.py:217\u001B[0m, in \u001B[0;36mRequestMethods.request_encode_body\u001B[0;34m(self, method, url, fields, headers, encode_multipart, multipart_boundary, **urlopen_kw)\u001B[0m\n\u001B[1;32m    213\u001B[0m     extra_kw[\u001B[39m\"\u001B[39m\u001B[39mheaders\u001B[39m\u001B[39m\"\u001B[39m]\u001B[39m.\u001B[39msetdefault(\u001B[39m\"\u001B[39m\u001B[39mContent-Type\u001B[39m\u001B[39m\"\u001B[39m, content_type)\n\u001B[1;32m    215\u001B[0m extra_kw\u001B[39m.\u001B[39mupdate(urlopen_kw)\n\u001B[0;32m--> 217\u001B[0m \u001B[39mreturn\u001B[39;00m \u001B[39mself\u001B[39;49m\u001B[39m.\u001B[39;49murlopen(method, url, \u001B[39m*\u001B[39;49m\u001B[39m*\u001B[39;49mextra_kw)\n",
      "File \u001B[0;32m~/.pyenv/versions/3.11.4/envs/ai_legal_consultant/lib/python3.11/site-packages/urllib3/poolmanager.py:443\u001B[0m, in \u001B[0;36mPoolManager.urlopen\u001B[0;34m(self, method, url, redirect, **kw)\u001B[0m\n\u001B[1;32m    441\u001B[0m     response \u001B[39m=\u001B[39m conn\u001B[39m.\u001B[39murlopen(method, url, \u001B[39m*\u001B[39m\u001B[39m*\u001B[39mkw)\n\u001B[1;32m    442\u001B[0m \u001B[39melse\u001B[39;00m:\n\u001B[0;32m--> 443\u001B[0m     response \u001B[39m=\u001B[39m conn\u001B[39m.\u001B[39;49murlopen(method, u\u001B[39m.\u001B[39;49mrequest_uri, \u001B[39m*\u001B[39;49m\u001B[39m*\u001B[39;49mkw)\n\u001B[1;32m    445\u001B[0m redirect_location \u001B[39m=\u001B[39m redirect \u001B[39mand\u001B[39;00m response\u001B[39m.\u001B[39mget_redirect_location()\n\u001B[1;32m    446\u001B[0m \u001B[39mif\u001B[39;00m \u001B[39mnot\u001B[39;00m redirect_location:\n",
      "File \u001B[0;32m~/.pyenv/versions/3.11.4/envs/ai_legal_consultant/lib/python3.11/site-packages/urllib3/connectionpool.py:874\u001B[0m, in \u001B[0;36mHTTPConnectionPool.urlopen\u001B[0;34m(self, method, url, body, headers, retries, redirect, assert_same_host, timeout, pool_timeout, release_conn, chunked, body_pos, preload_content, decode_content, **response_kw)\u001B[0m\n\u001B[1;32m    869\u001B[0m \u001B[39mif\u001B[39;00m \u001B[39mnot\u001B[39;00m conn:\n\u001B[1;32m    870\u001B[0m     \u001B[39m# Try again\u001B[39;00m\n\u001B[1;32m    871\u001B[0m     log\u001B[39m.\u001B[39mwarning(\n\u001B[1;32m    872\u001B[0m         \u001B[39m\"\u001B[39m\u001B[39mRetrying (\u001B[39m\u001B[39m%r\u001B[39;00m\u001B[39m) after connection broken by \u001B[39m\u001B[39m'\u001B[39m\u001B[39m%r\u001B[39;00m\u001B[39m'\u001B[39m\u001B[39m: \u001B[39m\u001B[39m%s\u001B[39;00m\u001B[39m\"\u001B[39m, retries, err, url\n\u001B[1;32m    873\u001B[0m     )\n\u001B[0;32m--> 874\u001B[0m     \u001B[39mreturn\u001B[39;00m \u001B[39mself\u001B[39;49m\u001B[39m.\u001B[39;49murlopen(\n\u001B[1;32m    875\u001B[0m         method,\n\u001B[1;32m    876\u001B[0m         url,\n\u001B[1;32m    877\u001B[0m         body,\n\u001B[1;32m    878\u001B[0m         headers,\n\u001B[1;32m    879\u001B[0m         retries,\n\u001B[1;32m    880\u001B[0m         redirect,\n\u001B[1;32m    881\u001B[0m         assert_same_host,\n\u001B[1;32m    882\u001B[0m         timeout\u001B[39m=\u001B[39;49mtimeout,\n\u001B[1;32m    883\u001B[0m         pool_timeout\u001B[39m=\u001B[39;49mpool_timeout,\n\u001B[1;32m    884\u001B[0m         release_conn\u001B[39m=\u001B[39;49mrelease_conn,\n\u001B[1;32m    885\u001B[0m         chunked\u001B[39m=\u001B[39;49mchunked,\n\u001B[1;32m    886\u001B[0m         body_pos\u001B[39m=\u001B[39;49mbody_pos,\n\u001B[1;32m    887\u001B[0m         preload_content\u001B[39m=\u001B[39;49mpreload_content,\n\u001B[1;32m    888\u001B[0m         decode_content\u001B[39m=\u001B[39;49mdecode_content,\n\u001B[1;32m    889\u001B[0m         \u001B[39m*\u001B[39;49m\u001B[39m*\u001B[39;49mresponse_kw,\n\u001B[1;32m    890\u001B[0m     )\n\u001B[1;32m    892\u001B[0m \u001B[39m# Handle redirect?\u001B[39;00m\n\u001B[1;32m    893\u001B[0m redirect_location \u001B[39m=\u001B[39m redirect \u001B[39mand\u001B[39;00m response\u001B[39m.\u001B[39mget_redirect_location()\n",
      "File \u001B[0;32m~/.pyenv/versions/3.11.4/envs/ai_legal_consultant/lib/python3.11/site-packages/urllib3/connectionpool.py:874\u001B[0m, in \u001B[0;36mHTTPConnectionPool.urlopen\u001B[0;34m(self, method, url, body, headers, retries, redirect, assert_same_host, timeout, pool_timeout, release_conn, chunked, body_pos, preload_content, decode_content, **response_kw)\u001B[0m\n\u001B[1;32m    869\u001B[0m \u001B[39mif\u001B[39;00m \u001B[39mnot\u001B[39;00m conn:\n\u001B[1;32m    870\u001B[0m     \u001B[39m# Try again\u001B[39;00m\n\u001B[1;32m    871\u001B[0m     log\u001B[39m.\u001B[39mwarning(\n\u001B[1;32m    872\u001B[0m         \u001B[39m\"\u001B[39m\u001B[39mRetrying (\u001B[39m\u001B[39m%r\u001B[39;00m\u001B[39m) after connection broken by \u001B[39m\u001B[39m'\u001B[39m\u001B[39m%r\u001B[39;00m\u001B[39m'\u001B[39m\u001B[39m: \u001B[39m\u001B[39m%s\u001B[39;00m\u001B[39m\"\u001B[39m, retries, err, url\n\u001B[1;32m    873\u001B[0m     )\n\u001B[0;32m--> 874\u001B[0m     \u001B[39mreturn\u001B[39;00m \u001B[39mself\u001B[39;49m\u001B[39m.\u001B[39;49murlopen(\n\u001B[1;32m    875\u001B[0m         method,\n\u001B[1;32m    876\u001B[0m         url,\n\u001B[1;32m    877\u001B[0m         body,\n\u001B[1;32m    878\u001B[0m         headers,\n\u001B[1;32m    879\u001B[0m         retries,\n\u001B[1;32m    880\u001B[0m         redirect,\n\u001B[1;32m    881\u001B[0m         assert_same_host,\n\u001B[1;32m    882\u001B[0m         timeout\u001B[39m=\u001B[39;49mtimeout,\n\u001B[1;32m    883\u001B[0m         pool_timeout\u001B[39m=\u001B[39;49mpool_timeout,\n\u001B[1;32m    884\u001B[0m         release_conn\u001B[39m=\u001B[39;49mrelease_conn,\n\u001B[1;32m    885\u001B[0m         chunked\u001B[39m=\u001B[39;49mchunked,\n\u001B[1;32m    886\u001B[0m         body_pos\u001B[39m=\u001B[39;49mbody_pos,\n\u001B[1;32m    887\u001B[0m         preload_content\u001B[39m=\u001B[39;49mpreload_content,\n\u001B[1;32m    888\u001B[0m         decode_content\u001B[39m=\u001B[39;49mdecode_content,\n\u001B[1;32m    889\u001B[0m         \u001B[39m*\u001B[39;49m\u001B[39m*\u001B[39;49mresponse_kw,\n\u001B[1;32m    890\u001B[0m     )\n\u001B[1;32m    892\u001B[0m \u001B[39m# Handle redirect?\u001B[39;00m\n\u001B[1;32m    893\u001B[0m redirect_location \u001B[39m=\u001B[39m redirect \u001B[39mand\u001B[39;00m response\u001B[39m.\u001B[39mget_redirect_location()\n",
      "File \u001B[0;32m~/.pyenv/versions/3.11.4/envs/ai_legal_consultant/lib/python3.11/site-packages/urllib3/connectionpool.py:874\u001B[0m, in \u001B[0;36mHTTPConnectionPool.urlopen\u001B[0;34m(self, method, url, body, headers, retries, redirect, assert_same_host, timeout, pool_timeout, release_conn, chunked, body_pos, preload_content, decode_content, **response_kw)\u001B[0m\n\u001B[1;32m    869\u001B[0m \u001B[39mif\u001B[39;00m \u001B[39mnot\u001B[39;00m conn:\n\u001B[1;32m    870\u001B[0m     \u001B[39m# Try again\u001B[39;00m\n\u001B[1;32m    871\u001B[0m     log\u001B[39m.\u001B[39mwarning(\n\u001B[1;32m    872\u001B[0m         \u001B[39m\"\u001B[39m\u001B[39mRetrying (\u001B[39m\u001B[39m%r\u001B[39;00m\u001B[39m) after connection broken by \u001B[39m\u001B[39m'\u001B[39m\u001B[39m%r\u001B[39;00m\u001B[39m'\u001B[39m\u001B[39m: \u001B[39m\u001B[39m%s\u001B[39;00m\u001B[39m\"\u001B[39m, retries, err, url\n\u001B[1;32m    873\u001B[0m     )\n\u001B[0;32m--> 874\u001B[0m     \u001B[39mreturn\u001B[39;00m \u001B[39mself\u001B[39;49m\u001B[39m.\u001B[39;49murlopen(\n\u001B[1;32m    875\u001B[0m         method,\n\u001B[1;32m    876\u001B[0m         url,\n\u001B[1;32m    877\u001B[0m         body,\n\u001B[1;32m    878\u001B[0m         headers,\n\u001B[1;32m    879\u001B[0m         retries,\n\u001B[1;32m    880\u001B[0m         redirect,\n\u001B[1;32m    881\u001B[0m         assert_same_host,\n\u001B[1;32m    882\u001B[0m         timeout\u001B[39m=\u001B[39;49mtimeout,\n\u001B[1;32m    883\u001B[0m         pool_timeout\u001B[39m=\u001B[39;49mpool_timeout,\n\u001B[1;32m    884\u001B[0m         release_conn\u001B[39m=\u001B[39;49mrelease_conn,\n\u001B[1;32m    885\u001B[0m         chunked\u001B[39m=\u001B[39;49mchunked,\n\u001B[1;32m    886\u001B[0m         body_pos\u001B[39m=\u001B[39;49mbody_pos,\n\u001B[1;32m    887\u001B[0m         preload_content\u001B[39m=\u001B[39;49mpreload_content,\n\u001B[1;32m    888\u001B[0m         decode_content\u001B[39m=\u001B[39;49mdecode_content,\n\u001B[1;32m    889\u001B[0m         \u001B[39m*\u001B[39;49m\u001B[39m*\u001B[39;49mresponse_kw,\n\u001B[1;32m    890\u001B[0m     )\n\u001B[1;32m    892\u001B[0m \u001B[39m# Handle redirect?\u001B[39;00m\n\u001B[1;32m    893\u001B[0m redirect_location \u001B[39m=\u001B[39m redirect \u001B[39mand\u001B[39;00m response\u001B[39m.\u001B[39mget_redirect_location()\n",
      "File \u001B[0;32m~/.pyenv/versions/3.11.4/envs/ai_legal_consultant/lib/python3.11/site-packages/urllib3/connectionpool.py:844\u001B[0m, in \u001B[0;36mHTTPConnectionPool.urlopen\u001B[0;34m(self, method, url, body, headers, retries, redirect, assert_same_host, timeout, pool_timeout, release_conn, chunked, body_pos, preload_content, decode_content, **response_kw)\u001B[0m\n\u001B[1;32m    841\u001B[0m \u001B[39melif\u001B[39;00m \u001B[39misinstance\u001B[39m(new_e, (\u001B[39mOSError\u001B[39;00m, HTTPException)):\n\u001B[1;32m    842\u001B[0m     new_e \u001B[39m=\u001B[39m ProtocolError(\u001B[39m\"\u001B[39m\u001B[39mConnection aborted.\u001B[39m\u001B[39m\"\u001B[39m, new_e)\n\u001B[0;32m--> 844\u001B[0m retries \u001B[39m=\u001B[39m retries\u001B[39m.\u001B[39;49mincrement(\n\u001B[1;32m    845\u001B[0m     method, url, error\u001B[39m=\u001B[39;49mnew_e, _pool\u001B[39m=\u001B[39;49m\u001B[39mself\u001B[39;49m, _stacktrace\u001B[39m=\u001B[39;49msys\u001B[39m.\u001B[39;49mexc_info()[\u001B[39m2\u001B[39;49m]\n\u001B[1;32m    846\u001B[0m )\n\u001B[1;32m    847\u001B[0m retries\u001B[39m.\u001B[39msleep()\n\u001B[1;32m    849\u001B[0m \u001B[39m# Keep track of the error for the retry warning.\u001B[39;00m\n",
      "File \u001B[0;32m~/.pyenv/versions/3.11.4/envs/ai_legal_consultant/lib/python3.11/site-packages/urllib3/util/retry.py:515\u001B[0m, in \u001B[0;36mRetry.increment\u001B[0;34m(self, method, url, response, error, _pool, _stacktrace)\u001B[0m\n\u001B[1;32m    513\u001B[0m \u001B[39mif\u001B[39;00m new_retry\u001B[39m.\u001B[39mis_exhausted():\n\u001B[1;32m    514\u001B[0m     reason \u001B[39m=\u001B[39m error \u001B[39mor\u001B[39;00m ResponseError(cause)\n\u001B[0;32m--> 515\u001B[0m     \u001B[39mraise\u001B[39;00m MaxRetryError(_pool, url, reason) \u001B[39mfrom\u001B[39;00m \u001B[39mreason\u001B[39;00m  \u001B[39m# type: ignore[arg-type]\u001B[39;00m\n\u001B[1;32m    517\u001B[0m log\u001B[39m.\u001B[39mdebug(\u001B[39m\"\u001B[39m\u001B[39mIncremented Retry for (url=\u001B[39m\u001B[39m'\u001B[39m\u001B[39m%s\u001B[39;00m\u001B[39m'\u001B[39m\u001B[39m): \u001B[39m\u001B[39m%r\u001B[39;00m\u001B[39m\"\u001B[39m, url, new_retry)\n\u001B[1;32m    519\u001B[0m \u001B[39mreturn\u001B[39;00m new_retry\n",
      "\u001B[0;31mMaxRetryError\u001B[0m: HTTPSConnectionPool(host='gcp-starter-unknown.svc.rf-code-pavlov.pinecone.io', port=443): Max retries exceeded with url: /query (Caused by NameResolutionError(\"<urllib3.connection.HTTPSConnection object at 0x172589b50>: Failed to resolve 'gcp-starter-unknown.svc.rf-code-pavlov.pinecone.io' ([Errno 8] nodename nor servname provided, or not known)\"))"
     ]
    }
   ],
   "source": [
    "ae.find(['Богдана любят?'])"
   ]
  },
  {
   "cell_type": "code",
   "execution_count": null,
   "metadata": {
    "collapsed": false,
    "pycharm": {
     "name": "#%%\n"
    }
   },
   "outputs": [],
   "source": [
    "\n",
    "query = st.encode(['Любят ли в Госдуме Богдана?']).tolist()"
   ]
  },
  {
   "cell_type": "code",
   "execution_count": null,
   "metadata": {
    "collapsed": false,
    "pycharm": {
     "name": "#%%\n"
    }
   },
   "outputs": [],
   "source": [
    "vector_db.index = pinecone.Index('rf-code-pavlov')\n",
    "vector_db.index.query(query, top_k=1)"
   ]
  },
  {
   "cell_type": "code",
   "execution_count": null,
   "metadata": {
    "collapsed": false,
    "pycharm": {
     "name": "#%%\n"
    }
   },
   "outputs": [],
   "source": [
    "ds = Dataset.from_pandas(labor_codes)\n",
    "ds = ds.map(lambda x: {\n",
    "    'encoding': st.encode(x['text']).tolist()\n",
    "}, batched=True, batch_size=32)"
   ]
  },
  {
   "cell_type": "code",
   "execution_count": null,
   "metadata": {
    "collapsed": false,
    "pycharm": {
     "name": "#%%\n"
    }
   },
   "outputs": [],
   "source": [
    "ds = Dataset.from_pandas(labor_codes)\n",
    "ds = ds.map(lambda x: {\n",
    "    'encoding': st.encode(x['text']).tolist()\n",
    "}, batched=True, batch_size=32)"
   ]
  },
  {
   "cell_type": "code",
   "execution_count": null,
   "metadata": {
    "collapsed": false,
    "pycharm": {
     "name": "#%%\n"
    }
   },
   "outputs": [],
   "source": [
    "\n",
    "query = st.encode(['Любят ли в Госдуме Богдана?']).tolist()"
   ]
  },
  {
   "cell_type": "code",
   "execution_count": null,
   "metadata": {
    "collapsed": false,
    "pycharm": {
     "name": "#%%\n"
    }
   },
   "outputs": [],
   "source": [
    "vector_db.index = pinecone.Index('rf-code-pavlov')\n",
    "vector_db.index.query(query, top_k=1)"
   ]
  },
  {
   "cell_type": "code",
   "execution_count": null,
   "metadata": {
    "collapsed": false,
    "pycharm": {
     "name": "#%%\n"
    }
   },
   "outputs": [],
   "source": [
    "ds = Dataset.from_pandas(labor_codes)\n",
    "ds = ds.map(lambda x: {\n",
    "    'encoding': st.encode(x['text']).tolist()\n",
    "}, batched=True, batch_size=32)"
   ]
  },
  {
   "cell_type": "code",
   "execution_count": null,
   "metadata": {
    "collapsed": false,
    "pycharm": {
     "name": "#%%\n"
    }
   },
   "outputs": [],
   "source": [
    "ds = Dataset.from_pandas(labor_codes)\n",
    "ds = ds.map(lambda x: {\n",
    "    'encoding': st.encode(x['text']).tolist()\n",
    "}, batched=True, batch_size=32)"
   ]
  },
  {
   "cell_type": "code",
   "execution_count": null,
   "metadata": {
    "collapsed": false,
    "pycharm": {
     "name": "#%%\n"
    }
   },
   "outputs": [],
   "source": [
    "\n",
    "query = st.encode(['Любят ли в Госдуме Богдана?']).tolist()"
   ]
  },
  {
   "cell_type": "code",
   "execution_count": null,
   "metadata": {
    "collapsed": false,
    "pycharm": {
     "name": "#%%\n"
    }
   },
   "outputs": [],
   "source": [
    "vector_db.index = pinecone.Index('rf-code-pavlov')\n",
    "vector_db.index.query(query, top_k=1)"
   ]
  },
  {
   "cell_type": "code",
   "execution_count": null,
   "metadata": {
    "collapsed": false,
    "pycharm": {
     "name": "#%%\n"
    }
   },
   "outputs": [],
   "source": [
    "ds = Dataset.from_pandas(labor_codes)\n",
    "ds = ds.map(lambda x: {\n",
    "    'encoding': st.encode(x['text']).tolist()\n",
    "}, batched=True, batch_size=32)"
   ]
  },
  {
   "cell_type": "code",
   "execution_count": null,
   "metadata": {
    "collapsed": false,
    "pycharm": {
     "name": "#%%\n"
    }
   },
   "outputs": [],
   "source": [
    "ds = Dataset.from_pandas(labor_codes)\n",
    "ds = ds.map(lambda x: {\n",
    "    'encoding': st.encode(x['text']).tolist()\n",
    "}, batched=True, batch_size=32)"
   ]
  },
  {
   "cell_type": "code",
   "execution_count": null,
   "metadata": {
    "collapsed": false,
    "pycharm": {
     "name": "#%%\n"
    }
   },
   "outputs": [],
   "source": [
    "vector_db.index = pinecone.Index('rf-code-pavlov')\n",
    "vector_db.index.query(query, top_k=1)"
   ]
  },
  {
   "cell_type": "code",
   "execution_count": null,
   "metadata": {
    "collapsed": false,
    "pycharm": {
     "name": "#%%\n"
    }
   },
   "outputs": [],
   "source": [
    "\n",
    "query = st.encode(['Любят ли в Госдуме Богдана?']).tolist()"
   ]
  },
  {
   "cell_type": "code",
   "execution_count": null,
   "metadata": {
    "collapsed": false,
    "pycharm": {
     "name": "#%%\n"
    }
   },
   "outputs": [],
   "source": [
    "vector_db.index = pinecone.Index('rf-code-pavlov')\n",
    "vector_db.index.query(query, top_k=1)"
   ]
  },
  {
   "cell_type": "code",
   "execution_count": null,
   "metadata": {
    "collapsed": false,
    "pycharm": {
     "name": "#%%\n"
    }
   },
   "outputs": [],
   "source": [
    "ds = Dataset.from_pandas(labor_codes)\n",
    "ds = ds.map(lambda x: {\n",
    "    'encoding': st.encode(x['text']).tolist()\n",
    "}, batched=True, batch_size=32)"
   ]
  },
  {
   "cell_type": "code",
   "execution_count": null,
   "metadata": {
    "collapsed": false,
    "pycharm": {
     "name": "#%%\n"
    }
   },
   "outputs": [],
   "source": [
    "ds = Dataset.from_pandas(labor_codes)\n",
    "ds = ds.map(lambda x: {\n",
    "    'encoding': st.encode(x['text']).tolist()\n",
    "}, batched=True, batch_size=32)"
   ]
  },
  {
   "cell_type": "code",
   "execution_count": null,
   "metadata": {
    "collapsed": false,
    "pycharm": {
     "name": "#%%\n"
    }
   },
   "outputs": [],
   "source": [
    "vector_db.index = pinecone.Index('rf-code-pavlov')\n",
    "vector_db.index.query(query, top_k=1)"
   ]
  },
  {
   "cell_type": "code",
   "execution_count": null,
   "metadata": {
    "collapsed": false,
    "pycharm": {
     "name": "#%%\n"
    }
   },
   "outputs": [],
   "source": [
    "\n",
    "query = st.encode(['Любят ли в Госдуме Богдана?']).tolist()"
   ]
  },
  {
   "cell_type": "code",
   "execution_count": null,
   "metadata": {
    "collapsed": false,
    "pycharm": {
     "name": "#%%\n"
    }
   },
   "outputs": [],
   "source": [
    "vector_db.index = pinecone.Index('rf-code-pavlov')\n",
    "vector_db.index.query(query, top_k=1)"
   ]
  },
  {
   "cell_type": "code",
   "execution_count": null,
   "metadata": {
    "collapsed": false,
    "pycharm": {
     "name": "#%%\n"
    }
   },
   "outputs": [],
   "source": [
    "ds = Dataset.from_pandas(labor_codes)\n",
    "ds = ds.map(lambda x: {\n",
    "    'encoding': st.encode(x['text']).tolist()\n",
    "}, batched=True, batch_size=32)"
   ]
  },
  {
   "cell_type": "code",
   "execution_count": null,
   "metadata": {
    "collapsed": false,
    "pycharm": {
     "name": "#%%\n"
    }
   },
   "outputs": [],
   "source": [
    "ds = Dataset.from_pandas(labor_codes)\n",
    "ds = ds.map(lambda x: {\n",
    "    'encoding': st.encode(x['text']).tolist()\n",
    "}, batched=True, batch_size=32)"
   ]
  },
  {
   "cell_type": "code",
   "execution_count": null,
   "metadata": {
    "collapsed": false,
    "pycharm": {
     "name": "#%%\n"
    }
   },
   "outputs": [],
   "source": [
    "vector_db.index = pinecone.Index('rf-code-pavlov')\n",
    "vector_db.index.query(query, top_k=1)"
   ]
  },
  {
   "cell_type": "code",
   "execution_count": null,
   "metadata": {
    "collapsed": false,
    "pycharm": {
     "name": "#%%\n"
    }
   },
   "outputs": [],
   "source": [
    "vector_db.index = pinecone.Index('rf-code-pavlov')\n",
    "vector_db.index.query(query, top_k=1)"
   ]
  },
  {
   "cell_type": "code",
   "execution_count": null,
   "metadata": {
    "collapsed": false,
    "pycharm": {
     "name": "#%%\n"
    }
   },
   "outputs": [],
   "source": [
    "vector_db.index = pinecone.Index('rf-code-pavlov')\n",
    "vector_db.index.query(query, top_k=1)"
   ]
  },
  {
   "cell_type": "code",
   "execution_count": null,
   "metadata": {
    "collapsed": false,
    "pycharm": {
     "name": "#%%\n"
    }
   },
   "outputs": [],
   "source": [
    "ds = Dataset.from_pandas(labor_codes)\n",
    "ds = ds.map(lambda x: {\n",
    "    'encoding': st.encode(x['text']).tolist()\n",
    "}, batched=True, batch_size=32)"
   ]
  },
  {
   "cell_type": "code",
   "execution_count": null,
   "metadata": {
    "collapsed": false,
    "pycharm": {
     "name": "#%%\n"
    }
   },
   "outputs": [],
   "source": [
    "ds = Dataset.from_pandas(labor_codes)\n",
    "ds = ds.map(lambda x: {\n",
    "    'encoding': st.encode(x['text']).tolist()\n",
    "}, batched=True, batch_size=32)"
   ]
  },
  {
   "cell_type": "code",
   "execution_count": null,
   "metadata": {
    "collapsed": false,
    "pycharm": {
     "name": "#%%\n"
    }
   },
   "outputs": [],
   "source": [
    "vector_db.index = pinecone.Index('rf-code-pavlov')\n",
    "vector_db.index.query(query, top_k=1)"
   ]
  },
  {
   "cell_type": "code",
   "execution_count": null,
   "metadata": {
    "collapsed": false,
    "pycharm": {
     "name": "#%%\n"
    }
   },
   "outputs": [],
   "source": [
    "vector_db.index = pinecone.Index('rf-code-pavlov')\n",
    "vector_db.index.query(query, top_k=1)"
   ]
  },
  {
   "cell_type": "code",
   "execution_count": null,
   "metadata": {
    "collapsed": false,
    "pycharm": {
     "name": "#%%\n"
    }
   },
   "outputs": [],
   "source": [
    "ds = Dataset.from_pandas(labor_codes)\n",
    "ds = ds.map(lambda x: {\n",
    "    'encoding': st.encode(x['text']).tolist()\n",
    "}, batched=True, batch_size=32)"
   ]
  },
  {
   "cell_type": "code",
   "execution_count": null,
   "metadata": {
    "collapsed": false,
    "pycharm": {
     "name": "#%%\n"
    }
   },
   "outputs": [],
   "source": [
    "ds = Dataset.from_pandas(labor_codes)\n",
    "ds = ds.map(lambda x: {\n",
    "    'encoding': st.encode(x['text']).tolist()\n",
    "}, batched=True, batch_size=32)"
   ]
  },
  {
   "cell_type": "code",
   "execution_count": null,
   "metadata": {
    "collapsed": false,
    "pycharm": {
     "name": "#%%\n"
    }
   },
   "outputs": [],
   "source": [
    "vector_db.index = pinecone.Index('rf-code-pavlov')\n",
    "vector_db.index.query(query, top_k=1)"
   ]
  },
  {
   "cell_type": "code",
   "execution_count": null,
   "metadata": {
    "collapsed": false,
    "pycharm": {
     "name": "#%%\n"
    }
   },
   "outputs": [],
   "source": [
    "vector_db.index = pinecone.Index('rf-code-pavlov')\n",
    "vector_db.index.query(query, top_k=1)"
   ]
  },
  {
   "cell_type": "code",
   "execution_count": null,
   "metadata": {
    "collapsed": false,
    "pycharm": {
     "name": "#%%\n"
    }
   },
   "outputs": [],
   "source": [
    "ds = Dataset.from_pandas(labor_codes)\n",
    "ds = ds.map(lambda x: {\n",
    "    'encoding': st.encode(x['text']).tolist()\n",
    "}, batched=True, batch_size=32)"
   ]
  },
  {
   "cell_type": "code",
   "execution_count": null,
   "metadata": {
    "collapsed": false,
    "pycharm": {
     "name": "#%%\n"
    }
   },
   "outputs": [],
   "source": [
    "ds = Dataset.from_pandas(labor_codes)\n",
    "ds = ds.map(lambda x: {\n",
    "    'encoding': st.encode(x['text']).tolist()\n",
    "}, batched=True, batch_size=32)"
   ]
  },
  {
   "cell_type": "code",
   "execution_count": null,
   "metadata": {
    "collapsed": false,
    "pycharm": {
     "name": "#%%\n"
    }
   },
   "outputs": [],
   "source": [
    "vector_db.index = pinecone.Index('rf-code-pavlov')\n",
    "vector_db.index.query(query, top_k=1)"
   ]
  },
  {
   "cell_type": "code",
   "execution_count": null,
   "metadata": {
    "collapsed": false,
    "pycharm": {
     "name": "#%%\n"
    }
   },
   "outputs": [],
   "source": [
    "vector_db.index = pinecone.Index('rf-code-pavlov')\n",
    "vector_db.index.query(query, top_k=1)"
   ]
  },
  {
   "cell_type": "code",
   "execution_count": null,
   "metadata": {
    "collapsed": false,
    "pycharm": {
     "name": "#%%\n"
    }
   },
   "outputs": [],
   "source": [
    "ds = Dataset.from_pandas(labor_codes)\n",
    "ds = ds.map(lambda x: {\n",
    "    'encoding': st.encode(x['text']).tolist()\n",
    "}, batched=True, batch_size=32)"
   ]
  },
  {
   "cell_type": "code",
   "execution_count": null,
   "metadata": {
    "collapsed": false,
    "pycharm": {
     "name": "#%%\n"
    }
   },
   "outputs": [],
   "source": [
    "ds = Dataset.from_pandas(labor_codes)\n",
    "ds = ds.map(lambda x: {\n",
    "    'encoding': st.encode(x['text']).tolist()\n",
    "}, batched=True, batch_size=32)"
   ]
  },
  {
   "cell_type": "code",
   "execution_count": null,
   "metadata": {
    "collapsed": false,
    "pycharm": {
     "name": "#%%\n"
    }
   },
   "outputs": [],
   "source": [
    "vector_db.index = pinecone.Index('rf-code-pavlov')\n",
    "vector_db.index.query(query, top_k=1)"
   ]
  },
  {
   "cell_type": "code",
   "execution_count": null,
   "metadata": {
    "collapsed": false,
    "pycharm": {
     "name": "#%%\n"
    }
   },
   "outputs": [],
   "source": [
    "vector_db.index = pinecone.Index('rf-code-pavlov')\n",
    "vector_db.index.query(query, top_k=1)"
   ]
  },
  {
   "cell_type": "code",
   "execution_count": null,
   "metadata": {
    "collapsed": false,
    "pycharm": {
     "name": "#%%\n"
    }
   },
   "outputs": [],
   "source": [
    "ds = Dataset.from_pandas(labor_codes)\n",
    "ds = ds.map(lambda x: {\n",
    "    'encoding': st.encode(x['text']).tolist()\n",
    "}, batched=True, batch_size=32)"
   ]
  },
  {
   "cell_type": "code",
   "execution_count": null,
   "metadata": {
    "collapsed": false,
    "pycharm": {
     "name": "#%%\n"
    }
   },
   "outputs": [],
   "source": [
    "ds = Dataset.from_pandas(labor_codes)\n",
    "ds = ds.map(lambda x: {\n",
    "    'encoding': st.encode(x['text']).tolist()\n",
    "}, batched=True, batch_size=32)"
   ]
  },
  {
   "cell_type": "code",
   "execution_count": null,
   "metadata": {
    "collapsed": false,
    "pycharm": {
     "name": "#%%\n"
    }
   },
   "outputs": [],
   "source": [
    "vector_db.index = pinecone.Index('rf-code-pavlov')\n",
    "vector_db.index.query(query, top_k=1)"
   ]
  },
  {
   "cell_type": "code",
   "execution_count": null,
   "metadata": {
    "collapsed": false,
    "pycharm": {
     "name": "#%%\n"
    }
   },
   "outputs": [],
   "source": [
    "vector_db.index = pinecone.Index('rf-code-pavlov')\n",
    "vector_db.index.query(query, top_k=1)"
   ]
  },
  {
   "cell_type": "code",
   "execution_count": null,
   "metadata": {
    "collapsed": false,
    "pycharm": {
     "name": "#%%\n"
    }
   },
   "outputs": [],
   "source": [
    "ds = Dataset.from_pandas(labor_codes)\n",
    "ds = ds.map(lambda x: {\n",
    "    'encoding': st.encode(x['text']).tolist()\n",
    "}, batched=True, batch_size=32)"
   ]
  },
  {
   "cell_type": "code",
   "execution_count": null,
   "metadata": {
    "collapsed": false,
    "pycharm": {
     "name": "#%%\n"
    }
   },
   "outputs": [],
   "source": [
    "ds = Dataset.from_pandas(labor_codes)\n",
    "ds = ds.map(lambda x: {\n",
    "    'encoding': st.encode(x['text']).tolist()\n",
    "}, batched=True, batch_size=32)"
   ]
  },
  {
   "cell_type": "code",
   "execution_count": null,
   "metadata": {
    "collapsed": false,
    "pycharm": {
     "name": "#%%\n"
    }
   },
   "outputs": [],
   "source": [
    "vector_db.index = pinecone.Index('rf-code-pavlov')\n",
    "vector_db.index.query(query, top_k=1)"
   ]
  },
  {
   "cell_type": "code",
   "execution_count": null,
   "metadata": {
    "collapsed": false,
    "pycharm": {
     "name": "#%%\n"
    }
   },
   "outputs": [],
   "source": [
    "ds = Dataset.from_pandas(labor_codes)\n",
    "ds = ds.map(lambda x: {\n",
    "    'encoding': st.encode(x['text']).tolist()\n",
    "}, batched=True, batch_size=32)"
   ]
  },
  {
   "cell_type": "code",
   "execution_count": null,
   "metadata": {
    "collapsed": false,
    "pycharm": {
     "name": "#%%\n"
    }
   },
   "outputs": [],
   "source": [
    "ds = Dataset.from_pandas(labor_codes)\n",
    "ds = ds.map(lambda x: {\n",
    "    'encoding': st.encode(x['text']).tolist()\n",
    "}, batched=True, batch_size=32)"
   ]
  },
  {
   "cell_type": "code",
   "execution_count": null,
   "metadata": {
    "collapsed": false,
    "pycharm": {
     "name": "#%%\n"
    }
   },
   "outputs": [],
   "source": [
    "vector_db.index = pinecone.Index('rf-code-pavlov')\n",
    "vector_db.index.query(query, top_k=1)"
   ]
  },
  {
   "cell_type": "code",
   "execution_count": null,
   "metadata": {
    "collapsed": false,
    "pycharm": {
     "name": "#%%\n"
    }
   },
   "outputs": [],
   "source": [
    "ds = Dataset.from_pandas(labor_codes)\n",
    "ds = ds.map(lambda x: {\n",
    "    'encoding': st.encode(x['text']).tolist()\n",
    "}, batched=True, batch_size=32)"
   ]
  },
  {
   "cell_type": "code",
   "execution_count": null,
   "metadata": {
    "collapsed": false,
    "pycharm": {
     "name": "#%%\n"
    }
   },
   "outputs": [],
   "source": [
    "ds = Dataset.from_pandas(labor_codes)\n",
    "ds = ds.map(lambda x: {\n",
    "    'encoding': st.encode(x['text']).tolist()\n",
    "}, batched=True, batch_size=32)"
   ]
  },
  {
   "cell_type": "code",
   "execution_count": null,
   "metadata": {
    "collapsed": false,
    "pycharm": {
     "name": "#%%\n"
    }
   },
   "outputs": [],
   "source": [
    "vector_db.index = pinecone.Index('rf-code-pavlov')\n",
    "vector_db.index.query(query, top_k=1)"
   ]
  },
  {
   "cell_type": "code",
   "execution_count": null,
   "metadata": {
    "collapsed": false,
    "pycharm": {
     "name": "#%%\n"
    }
   },
   "outputs": [],
   "source": [
    "ds = Dataset.from_pandas(labor_codes)\n",
    "ds = ds.map(lambda x: {\n",
    "    'encoding': st.encode(x['text']).tolist()\n",
    "}, batched=True, batch_size=32)"
   ]
  },
  {
   "cell_type": "code",
   "execution_count": null,
   "metadata": {
    "collapsed": false,
    "pycharm": {
     "name": "#%%\n"
    }
   },
   "outputs": [],
   "source": [
    "ds = Dataset.from_pandas(labor_codes)\n",
    "ds = ds.map(lambda x: {\n",
    "    'encoding': st.encode(x['text']).tolist()\n",
    "}, batched=True, batch_size=32)"
   ]
  },
  {
   "cell_type": "code",
   "execution_count": null,
   "metadata": {
    "collapsed": false,
    "pycharm": {
     "name": "#%%\n"
    }
   },
   "outputs": [],
   "source": [
    "vector_db.index = pinecone.Index('rf-code-pavlov')\n",
    "vector_db.index.query(query, top_k=1)"
   ]
  },
  {
   "cell_type": "code",
   "execution_count": null,
   "metadata": {
    "collapsed": false,
    "pycharm": {
     "name": "#%%\n"
    }
   },
   "outputs": [],
   "source": [
    "ds = Dataset.from_pandas(labor_codes)\n",
    "ds = ds.map(lambda x: {\n",
    "    'encoding': st.encode(x['text']).tolist()\n",
    "}, batched=True, batch_size=32)"
   ]
  },
  {
   "cell_type": "code",
   "execution_count": null,
   "metadata": {
    "collapsed": false,
    "pycharm": {
     "name": "#%%\n"
    }
   },
   "outputs": [],
   "source": [
    "ds = Dataset.from_pandas(labor_codes)\n",
    "ds = ds.map(lambda x: {\n",
    "    'encoding': st.encode(x['text']).tolist()\n",
    "}, batched=True, batch_size=32)"
   ]
  },
  {
   "cell_type": "code",
   "execution_count": null,
   "metadata": {
    "collapsed": false,
    "pycharm": {
     "name": "#%%\n"
    }
   },
   "outputs": [],
   "source": [
    "vector_db.index = pinecone.Index('rf-code-pavlov')\n",
    "vector_db.index.query(query, top_k=1)"
   ]
  },
  {
   "cell_type": "code",
   "execution_count": null,
   "metadata": {
    "collapsed": false,
    "pycharm": {
     "name": "#%%\n"
    }
   },
   "outputs": [],
   "source": [
    "ds = Dataset.from_pandas(labor_codes)\n",
    "ds = ds.map(lambda x: {\n",
    "    'encoding': st.encode(x['text']).tolist()\n",
    "}, batched=True, batch_size=32)"
   ]
  },
  {
   "cell_type": "code",
   "execution_count": null,
   "metadata": {
    "collapsed": false,
    "pycharm": {
     "name": "#%%\n"
    }
   },
   "outputs": [],
   "source": [
    "ds = Dataset.from_pandas(labor_codes)\n",
    "ds = ds.map(lambda x: {\n",
    "    'encoding': st.encode(x['text']).tolist()\n",
    "}, batched=True, batch_size=32)"
   ]
  },
  {
   "cell_type": "code",
   "execution_count": null,
   "metadata": {
    "collapsed": false,
    "pycharm": {
     "name": "#%%\n"
    }
   },
   "outputs": [],
   "source": [
    "vector_db.index = pinecone.Index('rf-code-pavlov')\n",
    "vector_db.index.query(query, top_k=1)"
   ]
  },
  {
   "cell_type": "code",
   "execution_count": null,
   "metadata": {
    "collapsed": false,
    "pycharm": {
     "name": "#%%\n"
    }
   },
   "outputs": [],
   "source": [
    "ds = Dataset.from_pandas(labor_codes)\n",
    "ds = ds.map(lambda x: {\n",
    "    'encoding': st.encode(x['text']).tolist()\n",
    "}, batched=True, batch_size=32)"
   ]
  },
  {
   "cell_type": "code",
   "execution_count": null,
   "metadata": {
    "collapsed": false,
    "pycharm": {
     "name": "#%%\n"
    }
   },
   "outputs": [],
   "source": [
    "ds = Dataset.from_pandas(labor_codes)\n",
    "ds = ds.map(lambda x: {\n",
    "    'encoding': st.encode(x['text']).tolist()\n",
    "}, batched=True, batch_size=32)"
   ]
  },
  {
   "cell_type": "code",
   "execution_count": null,
   "metadata": {
    "collapsed": false,
    "pycharm": {
     "name": "#%%\n"
    }
   },
   "outputs": [],
   "source": [
    "vector_db.index = pinecone.Index('rf-code-pavlov')\n",
    "vector_db.index.query(query, top_k=1)"
   ]
  },
  {
   "cell_type": "code",
   "execution_count": null,
   "metadata": {
    "collapsed": false,
    "pycharm": {
     "name": "#%%\n"
    }
   },
   "outputs": [],
   "source": [
    "ds = Dataset.from_pandas(labor_codes)\n",
    "ds = ds.map(lambda x: {\n",
    "    'encoding': st.encode(x['text']).tolist()\n",
    "}, batched=True, batch_size=32)"
   ]
  },
  {
   "cell_type": "code",
   "execution_count": null,
   "metadata": {
    "collapsed": false,
    "pycharm": {
     "name": "#%%\n"
    }
   },
   "outputs": [],
   "source": [
    "ds = Dataset.from_pandas(labor_codes)\n",
    "ds = ds.map(lambda x: {\n",
    "    'encoding': st.encode(x['text']).tolist()\n",
    "}, batched=True, batch_size=32)"
   ]
  },
  {
   "cell_type": "code",
   "execution_count": 9,
   "metadata": {
    "pycharm": {
     "name": "#%%\n"
    }
   },
   "outputs": [
    {
     "ename": "PineconeProtocolError",
     "evalue": "Failed to connect; did you specify the correct index name?",
     "output_type": "error",
     "traceback": [
      "\u001B[0;31m---------------------------------------------------------------------------\u001B[0m",
      "\u001B[0;31mConnectionResetError\u001B[0m                      Traceback (most recent call last)",
      "\u001B[0;32m/Library/Frameworks/Python.framework/Versions/3.10/lib/python3.10/site-packages/urllib3/connectionpool.py\u001B[0m in \u001B[0;36murlopen\u001B[0;34m(self, method, url, body, headers, retries, redirect, assert_same_host, timeout, pool_timeout, release_conn, chunked, body_pos, **response_kw)\u001B[0m\n\u001B[1;32m    702\u001B[0m             \u001B[0;31m# Make the request on the httplib connection object.\u001B[0m\u001B[0;34m\u001B[0m\u001B[0;34m\u001B[0m\u001B[0m\n\u001B[0;32m--> 703\u001B[0;31m             httplib_response = self._make_request(\n\u001B[0m\u001B[1;32m    704\u001B[0m                 \u001B[0mconn\u001B[0m\u001B[0;34m,\u001B[0m\u001B[0;34m\u001B[0m\u001B[0;34m\u001B[0m\u001B[0m\n",
      "\u001B[0;32m/Library/Frameworks/Python.framework/Versions/3.10/lib/python3.10/site-packages/urllib3/connectionpool.py\u001B[0m in \u001B[0;36m_make_request\u001B[0;34m(self, conn, method, url, timeout, chunked, **httplib_request_kw)\u001B[0m\n\u001B[1;32m    385\u001B[0m         \u001B[0;32mtry\u001B[0m\u001B[0;34m:\u001B[0m\u001B[0;34m\u001B[0m\u001B[0;34m\u001B[0m\u001B[0m\n\u001B[0;32m--> 386\u001B[0;31m             \u001B[0mself\u001B[0m\u001B[0;34m.\u001B[0m\u001B[0m_validate_conn\u001B[0m\u001B[0;34m(\u001B[0m\u001B[0mconn\u001B[0m\u001B[0;34m)\u001B[0m\u001B[0;34m\u001B[0m\u001B[0;34m\u001B[0m\u001B[0m\n\u001B[0m\u001B[1;32m    387\u001B[0m         \u001B[0;32mexcept\u001B[0m \u001B[0;34m(\u001B[0m\u001B[0mSocketTimeout\u001B[0m\u001B[0;34m,\u001B[0m \u001B[0mBaseSSLError\u001B[0m\u001B[0;34m)\u001B[0m \u001B[0;32mas\u001B[0m \u001B[0me\u001B[0m\u001B[0;34m:\u001B[0m\u001B[0;34m\u001B[0m\u001B[0;34m\u001B[0m\u001B[0m\n",
      "\u001B[0;32m/Library/Frameworks/Python.framework/Versions/3.10/lib/python3.10/site-packages/urllib3/connectionpool.py\u001B[0m in \u001B[0;36m_validate_conn\u001B[0;34m(self, conn)\u001B[0m\n\u001B[1;32m   1041\u001B[0m         \u001B[0;32mif\u001B[0m \u001B[0;32mnot\u001B[0m \u001B[0mgetattr\u001B[0m\u001B[0;34m(\u001B[0m\u001B[0mconn\u001B[0m\u001B[0;34m,\u001B[0m \u001B[0;34m\"sock\"\u001B[0m\u001B[0;34m,\u001B[0m \u001B[0;32mNone\u001B[0m\u001B[0;34m)\u001B[0m\u001B[0;34m:\u001B[0m  \u001B[0;31m# AppEngine might not have  `.sock`\u001B[0m\u001B[0;34m\u001B[0m\u001B[0;34m\u001B[0m\u001B[0m\n\u001B[0;32m-> 1042\u001B[0;31m             \u001B[0mconn\u001B[0m\u001B[0;34m.\u001B[0m\u001B[0mconnect\u001B[0m\u001B[0;34m(\u001B[0m\u001B[0;34m)\u001B[0m\u001B[0;34m\u001B[0m\u001B[0;34m\u001B[0m\u001B[0m\n\u001B[0m\u001B[1;32m   1043\u001B[0m \u001B[0;34m\u001B[0m\u001B[0m\n",
      "\u001B[0;32m/Library/Frameworks/Python.framework/Versions/3.10/lib/python3.10/site-packages/urllib3/connection.py\u001B[0m in \u001B[0;36mconnect\u001B[0;34m(self)\u001B[0m\n\u001B[1;32m    418\u001B[0m \u001B[0;34m\u001B[0m\u001B[0m\n\u001B[0;32m--> 419\u001B[0;31m         self.sock = ssl_wrap_socket(\n\u001B[0m\u001B[1;32m    420\u001B[0m             \u001B[0msock\u001B[0m\u001B[0;34m=\u001B[0m\u001B[0mconn\u001B[0m\u001B[0;34m,\u001B[0m\u001B[0;34m\u001B[0m\u001B[0;34m\u001B[0m\u001B[0m\n",
      "\u001B[0;32m/Library/Frameworks/Python.framework/Versions/3.10/lib/python3.10/site-packages/urllib3/util/ssl_.py\u001B[0m in \u001B[0;36mssl_wrap_socket\u001B[0;34m(sock, keyfile, certfile, cert_reqs, ca_certs, server_hostname, ssl_version, ciphers, ssl_context, ca_cert_dir, key_password, ca_cert_data, tls_in_tls)\u001B[0m\n\u001B[1;32m    448\u001B[0m     \u001B[0;32mif\u001B[0m \u001B[0msend_sni\u001B[0m\u001B[0;34m:\u001B[0m\u001B[0;34m\u001B[0m\u001B[0;34m\u001B[0m\u001B[0m\n\u001B[0;32m--> 449\u001B[0;31m         ssl_sock = _ssl_wrap_socket_impl(\n\u001B[0m\u001B[1;32m    450\u001B[0m             \u001B[0msock\u001B[0m\u001B[0;34m,\u001B[0m \u001B[0mcontext\u001B[0m\u001B[0;34m,\u001B[0m \u001B[0mtls_in_tls\u001B[0m\u001B[0;34m,\u001B[0m \u001B[0mserver_hostname\u001B[0m\u001B[0;34m=\u001B[0m\u001B[0mserver_hostname\u001B[0m\u001B[0;34m\u001B[0m\u001B[0;34m\u001B[0m\u001B[0m\n",
      "\u001B[0;32m/Library/Frameworks/Python.framework/Versions/3.10/lib/python3.10/site-packages/urllib3/util/ssl_.py\u001B[0m in \u001B[0;36m_ssl_wrap_socket_impl\u001B[0;34m(sock, ssl_context, tls_in_tls, server_hostname)\u001B[0m\n\u001B[1;32m    492\u001B[0m     \u001B[0;32mif\u001B[0m \u001B[0mserver_hostname\u001B[0m\u001B[0;34m:\u001B[0m\u001B[0;34m\u001B[0m\u001B[0;34m\u001B[0m\u001B[0m\n\u001B[0;32m--> 493\u001B[0;31m         \u001B[0;32mreturn\u001B[0m \u001B[0mssl_context\u001B[0m\u001B[0;34m.\u001B[0m\u001B[0mwrap_socket\u001B[0m\u001B[0;34m(\u001B[0m\u001B[0msock\u001B[0m\u001B[0;34m,\u001B[0m \u001B[0mserver_hostname\u001B[0m\u001B[0;34m=\u001B[0m\u001B[0mserver_hostname\u001B[0m\u001B[0;34m)\u001B[0m\u001B[0;34m\u001B[0m\u001B[0;34m\u001B[0m\u001B[0m\n\u001B[0m\u001B[1;32m    494\u001B[0m     \u001B[0;32melse\u001B[0m\u001B[0;34m:\u001B[0m\u001B[0;34m\u001B[0m\u001B[0;34m\u001B[0m\u001B[0m\n",
      "\u001B[0;32m/Library/Frameworks/Python.framework/Versions/3.10/lib/python3.10/ssl.py\u001B[0m in \u001B[0;36mwrap_socket\u001B[0;34m(self, sock, server_side, do_handshake_on_connect, suppress_ragged_eofs, server_hostname, session)\u001B[0m\n\u001B[1;32m    511\u001B[0m         \u001B[0;31m# ctx._wrap_socket()\u001B[0m\u001B[0;34m\u001B[0m\u001B[0;34m\u001B[0m\u001B[0m\n\u001B[0;32m--> 512\u001B[0;31m         return self.sslsocket_class._create(\n\u001B[0m\u001B[1;32m    513\u001B[0m             \u001B[0msock\u001B[0m\u001B[0;34m=\u001B[0m\u001B[0msock\u001B[0m\u001B[0;34m,\u001B[0m\u001B[0;34m\u001B[0m\u001B[0;34m\u001B[0m\u001B[0m\n",
      "\u001B[0;32m/Library/Frameworks/Python.framework/Versions/3.10/lib/python3.10/ssl.py\u001B[0m in \u001B[0;36m_create\u001B[0;34m(cls, sock, server_side, do_handshake_on_connect, suppress_ragged_eofs, server_hostname, context, session)\u001B[0m\n\u001B[1;32m   1069\u001B[0m                         \u001B[0;32mraise\u001B[0m \u001B[0mValueError\u001B[0m\u001B[0;34m(\u001B[0m\u001B[0;34m\"do_handshake_on_connect should not be specified for non-blocking sockets\"\u001B[0m\u001B[0;34m)\u001B[0m\u001B[0;34m\u001B[0m\u001B[0;34m\u001B[0m\u001B[0m\n\u001B[0;32m-> 1070\u001B[0;31m                     \u001B[0mself\u001B[0m\u001B[0;34m.\u001B[0m\u001B[0mdo_handshake\u001B[0m\u001B[0;34m(\u001B[0m\u001B[0;34m)\u001B[0m\u001B[0;34m\u001B[0m\u001B[0;34m\u001B[0m\u001B[0m\n\u001B[0m\u001B[1;32m   1071\u001B[0m             \u001B[0;32mexcept\u001B[0m \u001B[0;34m(\u001B[0m\u001B[0mOSError\u001B[0m\u001B[0;34m,\u001B[0m \u001B[0mValueError\u001B[0m\u001B[0;34m)\u001B[0m\u001B[0;34m:\u001B[0m\u001B[0;34m\u001B[0m\u001B[0;34m\u001B[0m\u001B[0m\n",
      "\u001B[0;32m/Library/Frameworks/Python.framework/Versions/3.10/lib/python3.10/ssl.py\u001B[0m in \u001B[0;36mdo_handshake\u001B[0;34m(self, block)\u001B[0m\n\u001B[1;32m   1340\u001B[0m                 \u001B[0mself\u001B[0m\u001B[0;34m.\u001B[0m\u001B[0msettimeout\u001B[0m\u001B[0;34m(\u001B[0m\u001B[0;32mNone\u001B[0m\u001B[0;34m)\u001B[0m\u001B[0;34m\u001B[0m\u001B[0;34m\u001B[0m\u001B[0m\n\u001B[0;32m-> 1341\u001B[0;31m             \u001B[0mself\u001B[0m\u001B[0;34m.\u001B[0m\u001B[0m_sslobj\u001B[0m\u001B[0;34m.\u001B[0m\u001B[0mdo_handshake\u001B[0m\u001B[0;34m(\u001B[0m\u001B[0;34m)\u001B[0m\u001B[0;34m\u001B[0m\u001B[0;34m\u001B[0m\u001B[0m\n\u001B[0m\u001B[1;32m   1342\u001B[0m         \u001B[0;32mfinally\u001B[0m\u001B[0;34m:\u001B[0m\u001B[0;34m\u001B[0m\u001B[0;34m\u001B[0m\u001B[0m\n",
      "\u001B[0;31mConnectionResetError\u001B[0m: [Errno 54] Connection reset by peer",
      "\nDuring handling of the above exception, another exception occurred:\n",
      "\u001B[0;31mProtocolError\u001B[0m                             Traceback (most recent call last)",
      "\u001B[0;32m/Library/Frameworks/Python.framework/Versions/3.10/lib/python3.10/site-packages/pinecone/core/utils/error_handling.py\u001B[0m in \u001B[0;36minner_func\u001B[0;34m(*args, **kwargs)\u001B[0m\n\u001B[1;32m     16\u001B[0m         \u001B[0;32mtry\u001B[0m\u001B[0;34m:\u001B[0m\u001B[0;34m\u001B[0m\u001B[0;34m\u001B[0m\u001B[0m\n\u001B[0;32m---> 17\u001B[0;31m             \u001B[0;32mreturn\u001B[0m \u001B[0mfunc\u001B[0m\u001B[0;34m(\u001B[0m\u001B[0;34m*\u001B[0m\u001B[0margs\u001B[0m\u001B[0;34m,\u001B[0m \u001B[0;34m**\u001B[0m\u001B[0mkwargs\u001B[0m\u001B[0;34m)\u001B[0m\u001B[0;34m\u001B[0m\u001B[0;34m\u001B[0m\u001B[0m\n\u001B[0m\u001B[1;32m     18\u001B[0m         \u001B[0;32mexcept\u001B[0m \u001B[0mMaxRetryError\u001B[0m \u001B[0;32mas\u001B[0m \u001B[0me\u001B[0m\u001B[0;34m:\u001B[0m\u001B[0;34m\u001B[0m\u001B[0;34m\u001B[0m\u001B[0m\n",
      "\u001B[0;32m/Library/Frameworks/Python.framework/Versions/3.10/lib/python3.10/site-packages/pinecone/index.py\u001B[0m in \u001B[0;36mquery\u001B[0;34m(self, vector, id, queries, top_k, namespace, filter, include_values, include_metadata, sparse_vector, **kwargs)\u001B[0m\n\u001B[1;32m    454\u001B[0m                                                 ('sparse_vector', sparse_vector)])\n\u001B[0;32m--> 455\u001B[0;31m         response = self._vector_api.query(\n\u001B[0m\u001B[1;32m    456\u001B[0m             QueryRequest(\n",
      "\u001B[0;32m/Library/Frameworks/Python.framework/Versions/3.10/lib/python3.10/site-packages/pinecone/core/client/api_client.py\u001B[0m in \u001B[0;36m__call__\u001B[0;34m(self, *args, **kwargs)\u001B[0m\n\u001B[1;32m    775\u001B[0m         \"\"\"\n\u001B[0;32m--> 776\u001B[0;31m         \u001B[0;32mreturn\u001B[0m \u001B[0mself\u001B[0m\u001B[0;34m.\u001B[0m\u001B[0mcallable\u001B[0m\u001B[0;34m(\u001B[0m\u001B[0mself\u001B[0m\u001B[0;34m,\u001B[0m \u001B[0;34m*\u001B[0m\u001B[0margs\u001B[0m\u001B[0;34m,\u001B[0m \u001B[0;34m**\u001B[0m\u001B[0mkwargs\u001B[0m\u001B[0;34m)\u001B[0m\u001B[0;34m\u001B[0m\u001B[0;34m\u001B[0m\u001B[0m\n\u001B[0m\u001B[1;32m    777\u001B[0m \u001B[0;34m\u001B[0m\u001B[0m\n",
      "\u001B[0;32m/Library/Frameworks/Python.framework/Versions/3.10/lib/python3.10/site-packages/pinecone/core/client/api/vector_operations_api.py\u001B[0m in \u001B[0;36m__query\u001B[0;34m(self, query_request, **kwargs)\u001B[0m\n\u001B[1;32m    715\u001B[0m                 \u001B[0mquery_request\u001B[0m\u001B[0;34m\u001B[0m\u001B[0;34m\u001B[0m\u001B[0m\n\u001B[0;32m--> 716\u001B[0;31m             \u001B[0;32mreturn\u001B[0m \u001B[0mself\u001B[0m\u001B[0;34m.\u001B[0m\u001B[0mcall_with_http_info\u001B[0m\u001B[0;34m(\u001B[0m\u001B[0;34m**\u001B[0m\u001B[0mkwargs\u001B[0m\u001B[0;34m)\u001B[0m\u001B[0;34m\u001B[0m\u001B[0;34m\u001B[0m\u001B[0m\n\u001B[0m\u001B[1;32m    717\u001B[0m \u001B[0;34m\u001B[0m\u001B[0m\n",
      "\u001B[0;32m/Library/Frameworks/Python.framework/Versions/3.10/lib/python3.10/site-packages/pinecone/core/client/api_client.py\u001B[0m in \u001B[0;36mcall_with_http_info\u001B[0;34m(self, **kwargs)\u001B[0m\n\u001B[1;32m    837\u001B[0m \u001B[0;34m\u001B[0m\u001B[0m\n\u001B[0;32m--> 838\u001B[0;31m         return self.api_client.call_api(\n\u001B[0m\u001B[1;32m    839\u001B[0m             \u001B[0mself\u001B[0m\u001B[0;34m.\u001B[0m\u001B[0msettings\u001B[0m\u001B[0;34m[\u001B[0m\u001B[0;34m'endpoint_path'\u001B[0m\u001B[0;34m]\u001B[0m\u001B[0;34m,\u001B[0m \u001B[0mself\u001B[0m\u001B[0;34m.\u001B[0m\u001B[0msettings\u001B[0m\u001B[0;34m[\u001B[0m\u001B[0;34m'http_method'\u001B[0m\u001B[0;34m]\u001B[0m\u001B[0;34m,\u001B[0m\u001B[0;34m\u001B[0m\u001B[0;34m\u001B[0m\u001B[0m\n",
      "\u001B[0;32m/Library/Frameworks/Python.framework/Versions/3.10/lib/python3.10/site-packages/pinecone/core/client/api_client.py\u001B[0m in \u001B[0;36mcall_api\u001B[0;34m(self, resource_path, method, path_params, query_params, header_params, body, post_params, files, response_type, auth_settings, async_req, _return_http_data_only, collection_formats, _preload_content, _request_timeout, _host, _check_type)\u001B[0m\n\u001B[1;32m    412\u001B[0m         \u001B[0;32mif\u001B[0m \u001B[0;32mnot\u001B[0m \u001B[0masync_req\u001B[0m\u001B[0;34m:\u001B[0m\u001B[0;34m\u001B[0m\u001B[0;34m\u001B[0m\u001B[0m\n\u001B[0;32m--> 413\u001B[0;31m             return self.__call_api(resource_path, method,\n\u001B[0m\u001B[1;32m    414\u001B[0m                                    \u001B[0mpath_params\u001B[0m\u001B[0;34m,\u001B[0m \u001B[0mquery_params\u001B[0m\u001B[0;34m,\u001B[0m \u001B[0mheader_params\u001B[0m\u001B[0;34m,\u001B[0m\u001B[0;34m\u001B[0m\u001B[0;34m\u001B[0m\u001B[0m\n",
      "\u001B[0;32m/Library/Frameworks/Python.framework/Versions/3.10/lib/python3.10/site-packages/pinecone/core/client/api_client.py\u001B[0m in \u001B[0;36m__call_api\u001B[0;34m(self, resource_path, method, path_params, query_params, header_params, body, post_params, files, response_type, auth_settings, _return_http_data_only, collection_formats, _preload_content, _request_timeout, _host, _check_type)\u001B[0m\n\u001B[1;32m    199\u001B[0m             \u001B[0;31m# perform request and return response\u001B[0m\u001B[0;34m\u001B[0m\u001B[0;34m\u001B[0m\u001B[0m\n\u001B[0;32m--> 200\u001B[0;31m             response_data = self.request(\n\u001B[0m\u001B[1;32m    201\u001B[0m                 \u001B[0mmethod\u001B[0m\u001B[0;34m,\u001B[0m \u001B[0murl\u001B[0m\u001B[0;34m,\u001B[0m \u001B[0mquery_params\u001B[0m\u001B[0;34m=\u001B[0m\u001B[0mquery_params\u001B[0m\u001B[0;34m,\u001B[0m \u001B[0mheaders\u001B[0m\u001B[0;34m=\u001B[0m\u001B[0mheader_params\u001B[0m\u001B[0;34m,\u001B[0m\u001B[0;34m\u001B[0m\u001B[0;34m\u001B[0m\u001B[0m\n",
      "\u001B[0;32m/Library/Frameworks/Python.framework/Versions/3.10/lib/python3.10/site-packages/pinecone/core/client/api_client.py\u001B[0m in \u001B[0;36mrequest\u001B[0;34m(self, method, url, query_params, headers, post_params, body, _preload_content, _request_timeout)\u001B[0m\n\u001B[1;32m    458\u001B[0m         \u001B[0;32melif\u001B[0m \u001B[0mmethod\u001B[0m \u001B[0;34m==\u001B[0m \u001B[0;34m\"POST\"\u001B[0m\u001B[0;34m:\u001B[0m\u001B[0;34m\u001B[0m\u001B[0;34m\u001B[0m\u001B[0m\n\u001B[0;32m--> 459\u001B[0;31m             return self.rest_client.POST(url,\n\u001B[0m\u001B[1;32m    460\u001B[0m                                          \u001B[0mquery_params\u001B[0m\u001B[0;34m=\u001B[0m\u001B[0mquery_params\u001B[0m\u001B[0;34m,\u001B[0m\u001B[0;34m\u001B[0m\u001B[0;34m\u001B[0m\u001B[0m\n",
      "\u001B[0;32m/Library/Frameworks/Python.framework/Versions/3.10/lib/python3.10/site-packages/pinecone/core/client/rest.py\u001B[0m in \u001B[0;36mPOST\u001B[0;34m(self, url, headers, query_params, post_params, body, _preload_content, _request_timeout)\u001B[0m\n\u001B[1;32m    270\u001B[0m              body=None, _preload_content=True, _request_timeout=None):\n\u001B[0;32m--> 271\u001B[0;31m         return self.request(\"POST\", url,\n\u001B[0m\u001B[1;32m    272\u001B[0m                             \u001B[0mheaders\u001B[0m\u001B[0;34m=\u001B[0m\u001B[0mheaders\u001B[0m\u001B[0;34m,\u001B[0m\u001B[0;34m\u001B[0m\u001B[0;34m\u001B[0m\u001B[0m\n",
      "\u001B[0;32m/Library/Frameworks/Python.framework/Versions/3.10/lib/python3.10/site-packages/pinecone/core/client/rest.py\u001B[0m in \u001B[0;36mrequest\u001B[0;34m(self, method, url, query_params, headers, body, post_params, _preload_content, _request_timeout)\u001B[0m\n\u001B[1;32m    156\u001B[0m                         \u001B[0mrequest_body\u001B[0m \u001B[0;34m=\u001B[0m \u001B[0mjson\u001B[0m\u001B[0;34m.\u001B[0m\u001B[0mdumps\u001B[0m\u001B[0;34m(\u001B[0m\u001B[0mbody\u001B[0m\u001B[0;34m)\u001B[0m\u001B[0;34m\u001B[0m\u001B[0;34m\u001B[0m\u001B[0m\n\u001B[0;32m--> 157\u001B[0;31m                     r = self.pool_manager.request(\n\u001B[0m\u001B[1;32m    158\u001B[0m                         \u001B[0mmethod\u001B[0m\u001B[0;34m,\u001B[0m \u001B[0murl\u001B[0m\u001B[0;34m,\u001B[0m\u001B[0;34m\u001B[0m\u001B[0;34m\u001B[0m\u001B[0m\n",
      "\u001B[0;32m/Library/Frameworks/Python.framework/Versions/3.10/lib/python3.10/site-packages/urllib3/request.py\u001B[0m in \u001B[0;36mrequest\u001B[0;34m(self, method, url, fields, headers, **urlopen_kw)\u001B[0m\n\u001B[1;32m     77\u001B[0m         \u001B[0;32melse\u001B[0m\u001B[0;34m:\u001B[0m\u001B[0;34m\u001B[0m\u001B[0;34m\u001B[0m\u001B[0m\n\u001B[0;32m---> 78\u001B[0;31m             return self.request_encode_body(\n\u001B[0m\u001B[1;32m     79\u001B[0m                 \u001B[0mmethod\u001B[0m\u001B[0;34m,\u001B[0m \u001B[0murl\u001B[0m\u001B[0;34m,\u001B[0m \u001B[0mfields\u001B[0m\u001B[0;34m=\u001B[0m\u001B[0mfields\u001B[0m\u001B[0;34m,\u001B[0m \u001B[0mheaders\u001B[0m\u001B[0;34m=\u001B[0m\u001B[0mheaders\u001B[0m\u001B[0;34m,\u001B[0m \u001B[0;34m**\u001B[0m\u001B[0murlopen_kw\u001B[0m\u001B[0;34m\u001B[0m\u001B[0;34m\u001B[0m\u001B[0m\n",
      "\u001B[0;32m/Library/Frameworks/Python.framework/Versions/3.10/lib/python3.10/site-packages/urllib3/request.py\u001B[0m in \u001B[0;36mrequest_encode_body\u001B[0;34m(self, method, url, fields, headers, encode_multipart, multipart_boundary, **urlopen_kw)\u001B[0m\n\u001B[1;32m    169\u001B[0m \u001B[0;34m\u001B[0m\u001B[0m\n\u001B[0;32m--> 170\u001B[0;31m         \u001B[0;32mreturn\u001B[0m \u001B[0mself\u001B[0m\u001B[0;34m.\u001B[0m\u001B[0murlopen\u001B[0m\u001B[0;34m(\u001B[0m\u001B[0mmethod\u001B[0m\u001B[0;34m,\u001B[0m \u001B[0murl\u001B[0m\u001B[0;34m,\u001B[0m \u001B[0;34m**\u001B[0m\u001B[0mextra_kw\u001B[0m\u001B[0;34m)\u001B[0m\u001B[0;34m\u001B[0m\u001B[0;34m\u001B[0m\u001B[0m\n\u001B[0m",
      "\u001B[0;32m/Library/Frameworks/Python.framework/Versions/3.10/lib/python3.10/site-packages/urllib3/poolmanager.py\u001B[0m in \u001B[0;36murlopen\u001B[0;34m(self, method, url, redirect, **kw)\u001B[0m\n\u001B[1;32m    375\u001B[0m         \u001B[0;32melse\u001B[0m\u001B[0;34m:\u001B[0m\u001B[0;34m\u001B[0m\u001B[0;34m\u001B[0m\u001B[0m\n\u001B[0;32m--> 376\u001B[0;31m             \u001B[0mresponse\u001B[0m \u001B[0;34m=\u001B[0m \u001B[0mconn\u001B[0m\u001B[0;34m.\u001B[0m\u001B[0murlopen\u001B[0m\u001B[0;34m(\u001B[0m\u001B[0mmethod\u001B[0m\u001B[0;34m,\u001B[0m \u001B[0mu\u001B[0m\u001B[0;34m.\u001B[0m\u001B[0mrequest_uri\u001B[0m\u001B[0;34m,\u001B[0m \u001B[0;34m**\u001B[0m\u001B[0mkw\u001B[0m\u001B[0;34m)\u001B[0m\u001B[0;34m\u001B[0m\u001B[0;34m\u001B[0m\u001B[0m\n\u001B[0m\u001B[1;32m    377\u001B[0m \u001B[0;34m\u001B[0m\u001B[0m\n",
      "\u001B[0;32m/Library/Frameworks/Python.framework/Versions/3.10/lib/python3.10/site-packages/urllib3/connectionpool.py\u001B[0m in \u001B[0;36murlopen\u001B[0;34m(self, method, url, body, headers, retries, redirect, assert_same_host, timeout, pool_timeout, release_conn, chunked, body_pos, **response_kw)\u001B[0m\n\u001B[1;32m    786\u001B[0m \u001B[0;34m\u001B[0m\u001B[0m\n\u001B[0;32m--> 787\u001B[0;31m             retries = retries.increment(\n\u001B[0m\u001B[1;32m    788\u001B[0m                 \u001B[0mmethod\u001B[0m\u001B[0;34m,\u001B[0m \u001B[0murl\u001B[0m\u001B[0;34m,\u001B[0m \u001B[0merror\u001B[0m\u001B[0;34m=\u001B[0m\u001B[0me\u001B[0m\u001B[0;34m,\u001B[0m \u001B[0m_pool\u001B[0m\u001B[0;34m=\u001B[0m\u001B[0mself\u001B[0m\u001B[0;34m,\u001B[0m \u001B[0m_stacktrace\u001B[0m\u001B[0;34m=\u001B[0m\u001B[0msys\u001B[0m\u001B[0;34m.\u001B[0m\u001B[0mexc_info\u001B[0m\u001B[0;34m(\u001B[0m\u001B[0;34m)\u001B[0m\u001B[0;34m[\u001B[0m\u001B[0;36m2\u001B[0m\u001B[0;34m]\u001B[0m\u001B[0;34m\u001B[0m\u001B[0;34m\u001B[0m\u001B[0m\n",
      "\u001B[0;32m/Library/Frameworks/Python.framework/Versions/3.10/lib/python3.10/site-packages/urllib3/util/retry.py\u001B[0m in \u001B[0;36mincrement\u001B[0;34m(self, method, url, response, error, _pool, _stacktrace)\u001B[0m\n\u001B[1;32m    549\u001B[0m             \u001B[0;32mif\u001B[0m \u001B[0mread\u001B[0m \u001B[0;32mis\u001B[0m \u001B[0;32mFalse\u001B[0m \u001B[0;32mor\u001B[0m \u001B[0;32mnot\u001B[0m \u001B[0mself\u001B[0m\u001B[0;34m.\u001B[0m\u001B[0m_is_method_retryable\u001B[0m\u001B[0;34m(\u001B[0m\u001B[0mmethod\u001B[0m\u001B[0;34m)\u001B[0m\u001B[0;34m:\u001B[0m\u001B[0;34m\u001B[0m\u001B[0;34m\u001B[0m\u001B[0m\n\u001B[0;32m--> 550\u001B[0;31m                 \u001B[0;32mraise\u001B[0m \u001B[0msix\u001B[0m\u001B[0;34m.\u001B[0m\u001B[0mreraise\u001B[0m\u001B[0;34m(\u001B[0m\u001B[0mtype\u001B[0m\u001B[0;34m(\u001B[0m\u001B[0merror\u001B[0m\u001B[0;34m)\u001B[0m\u001B[0;34m,\u001B[0m \u001B[0merror\u001B[0m\u001B[0;34m,\u001B[0m \u001B[0m_stacktrace\u001B[0m\u001B[0;34m)\u001B[0m\u001B[0;34m\u001B[0m\u001B[0;34m\u001B[0m\u001B[0m\n\u001B[0m\u001B[1;32m    551\u001B[0m             \u001B[0;32melif\u001B[0m \u001B[0mread\u001B[0m \u001B[0;32mis\u001B[0m \u001B[0;32mnot\u001B[0m \u001B[0;32mNone\u001B[0m\u001B[0;34m:\u001B[0m\u001B[0;34m\u001B[0m\u001B[0;34m\u001B[0m\u001B[0m\n",
      "\u001B[0;32m/Library/Frameworks/Python.framework/Versions/3.10/lib/python3.10/site-packages/urllib3/packages/six.py\u001B[0m in \u001B[0;36mreraise\u001B[0;34m(tp, value, tb)\u001B[0m\n\u001B[1;32m    768\u001B[0m             \u001B[0;32mif\u001B[0m \u001B[0mvalue\u001B[0m\u001B[0;34m.\u001B[0m\u001B[0m__traceback__\u001B[0m \u001B[0;32mis\u001B[0m \u001B[0;32mnot\u001B[0m \u001B[0mtb\u001B[0m\u001B[0;34m:\u001B[0m\u001B[0;34m\u001B[0m\u001B[0;34m\u001B[0m\u001B[0m\n\u001B[0;32m--> 769\u001B[0;31m                 \u001B[0;32mraise\u001B[0m \u001B[0mvalue\u001B[0m\u001B[0;34m.\u001B[0m\u001B[0mwith_traceback\u001B[0m\u001B[0;34m(\u001B[0m\u001B[0mtb\u001B[0m\u001B[0;34m)\u001B[0m\u001B[0;34m\u001B[0m\u001B[0;34m\u001B[0m\u001B[0m\n\u001B[0m\u001B[1;32m    770\u001B[0m             \u001B[0;32mraise\u001B[0m \u001B[0mvalue\u001B[0m\u001B[0;34m\u001B[0m\u001B[0;34m\u001B[0m\u001B[0m\n",
      "\u001B[0;32m/Library/Frameworks/Python.framework/Versions/3.10/lib/python3.10/site-packages/urllib3/connectionpool.py\u001B[0m in \u001B[0;36murlopen\u001B[0;34m(self, method, url, body, headers, retries, redirect, assert_same_host, timeout, pool_timeout, release_conn, chunked, body_pos, **response_kw)\u001B[0m\n\u001B[1;32m    702\u001B[0m             \u001B[0;31m# Make the request on the httplib connection object.\u001B[0m\u001B[0;34m\u001B[0m\u001B[0;34m\u001B[0m\u001B[0m\n\u001B[0;32m--> 703\u001B[0;31m             httplib_response = self._make_request(\n\u001B[0m\u001B[1;32m    704\u001B[0m                 \u001B[0mconn\u001B[0m\u001B[0;34m,\u001B[0m\u001B[0;34m\u001B[0m\u001B[0;34m\u001B[0m\u001B[0m\n",
      "\u001B[0;32m/Library/Frameworks/Python.framework/Versions/3.10/lib/python3.10/site-packages/urllib3/connectionpool.py\u001B[0m in \u001B[0;36m_make_request\u001B[0;34m(self, conn, method, url, timeout, chunked, **httplib_request_kw)\u001B[0m\n\u001B[1;32m    385\u001B[0m         \u001B[0;32mtry\u001B[0m\u001B[0;34m:\u001B[0m\u001B[0;34m\u001B[0m\u001B[0;34m\u001B[0m\u001B[0m\n\u001B[0;32m--> 386\u001B[0;31m             \u001B[0mself\u001B[0m\u001B[0;34m.\u001B[0m\u001B[0m_validate_conn\u001B[0m\u001B[0;34m(\u001B[0m\u001B[0mconn\u001B[0m\u001B[0;34m)\u001B[0m\u001B[0;34m\u001B[0m\u001B[0;34m\u001B[0m\u001B[0m\n\u001B[0m\u001B[1;32m    387\u001B[0m         \u001B[0;32mexcept\u001B[0m \u001B[0;34m(\u001B[0m\u001B[0mSocketTimeout\u001B[0m\u001B[0;34m,\u001B[0m \u001B[0mBaseSSLError\u001B[0m\u001B[0;34m)\u001B[0m \u001B[0;32mas\u001B[0m \u001B[0me\u001B[0m\u001B[0;34m:\u001B[0m\u001B[0;34m\u001B[0m\u001B[0;34m\u001B[0m\u001B[0m\n",
      "\u001B[0;32m/Library/Frameworks/Python.framework/Versions/3.10/lib/python3.10/site-packages/urllib3/connectionpool.py\u001B[0m in \u001B[0;36m_validate_conn\u001B[0;34m(self, conn)\u001B[0m\n\u001B[1;32m   1041\u001B[0m         \u001B[0;32mif\u001B[0m \u001B[0;32mnot\u001B[0m \u001B[0mgetattr\u001B[0m\u001B[0;34m(\u001B[0m\u001B[0mconn\u001B[0m\u001B[0;34m,\u001B[0m \u001B[0;34m\"sock\"\u001B[0m\u001B[0;34m,\u001B[0m \u001B[0;32mNone\u001B[0m\u001B[0;34m)\u001B[0m\u001B[0;34m:\u001B[0m  \u001B[0;31m# AppEngine might not have  `.sock`\u001B[0m\u001B[0;34m\u001B[0m\u001B[0;34m\u001B[0m\u001B[0m\n\u001B[0;32m-> 1042\u001B[0;31m             \u001B[0mconn\u001B[0m\u001B[0;34m.\u001B[0m\u001B[0mconnect\u001B[0m\u001B[0;34m(\u001B[0m\u001B[0;34m)\u001B[0m\u001B[0;34m\u001B[0m\u001B[0;34m\u001B[0m\u001B[0m\n\u001B[0m\u001B[1;32m   1043\u001B[0m \u001B[0;34m\u001B[0m\u001B[0m\n",
      "\u001B[0;32m/Library/Frameworks/Python.framework/Versions/3.10/lib/python3.10/site-packages/urllib3/connection.py\u001B[0m in \u001B[0;36mconnect\u001B[0;34m(self)\u001B[0m\n\u001B[1;32m    418\u001B[0m \u001B[0;34m\u001B[0m\u001B[0m\n\u001B[0;32m--> 419\u001B[0;31m         self.sock = ssl_wrap_socket(\n\u001B[0m\u001B[1;32m    420\u001B[0m             \u001B[0msock\u001B[0m\u001B[0;34m=\u001B[0m\u001B[0mconn\u001B[0m\u001B[0;34m,\u001B[0m\u001B[0;34m\u001B[0m\u001B[0;34m\u001B[0m\u001B[0m\n",
      "\u001B[0;32m/Library/Frameworks/Python.framework/Versions/3.10/lib/python3.10/site-packages/urllib3/util/ssl_.py\u001B[0m in \u001B[0;36mssl_wrap_socket\u001B[0;34m(sock, keyfile, certfile, cert_reqs, ca_certs, server_hostname, ssl_version, ciphers, ssl_context, ca_cert_dir, key_password, ca_cert_data, tls_in_tls)\u001B[0m\n\u001B[1;32m    448\u001B[0m     \u001B[0;32mif\u001B[0m \u001B[0msend_sni\u001B[0m\u001B[0;34m:\u001B[0m\u001B[0;34m\u001B[0m\u001B[0;34m\u001B[0m\u001B[0m\n\u001B[0;32m--> 449\u001B[0;31m         ssl_sock = _ssl_wrap_socket_impl(\n\u001B[0m\u001B[1;32m    450\u001B[0m             \u001B[0msock\u001B[0m\u001B[0;34m,\u001B[0m \u001B[0mcontext\u001B[0m\u001B[0;34m,\u001B[0m \u001B[0mtls_in_tls\u001B[0m\u001B[0;34m,\u001B[0m \u001B[0mserver_hostname\u001B[0m\u001B[0;34m=\u001B[0m\u001B[0mserver_hostname\u001B[0m\u001B[0;34m\u001B[0m\u001B[0;34m\u001B[0m\u001B[0m\n",
      "\u001B[0;32m/Library/Frameworks/Python.framework/Versions/3.10/lib/python3.10/site-packages/urllib3/util/ssl_.py\u001B[0m in \u001B[0;36m_ssl_wrap_socket_impl\u001B[0;34m(sock, ssl_context, tls_in_tls, server_hostname)\u001B[0m\n\u001B[1;32m    492\u001B[0m     \u001B[0;32mif\u001B[0m \u001B[0mserver_hostname\u001B[0m\u001B[0;34m:\u001B[0m\u001B[0;34m\u001B[0m\u001B[0;34m\u001B[0m\u001B[0m\n\u001B[0;32m--> 493\u001B[0;31m         \u001B[0;32mreturn\u001B[0m \u001B[0mssl_context\u001B[0m\u001B[0;34m.\u001B[0m\u001B[0mwrap_socket\u001B[0m\u001B[0;34m(\u001B[0m\u001B[0msock\u001B[0m\u001B[0;34m,\u001B[0m \u001B[0mserver_hostname\u001B[0m\u001B[0;34m=\u001B[0m\u001B[0mserver_hostname\u001B[0m\u001B[0;34m)\u001B[0m\u001B[0;34m\u001B[0m\u001B[0;34m\u001B[0m\u001B[0m\n\u001B[0m\u001B[1;32m    494\u001B[0m     \u001B[0;32melse\u001B[0m\u001B[0;34m:\u001B[0m\u001B[0;34m\u001B[0m\u001B[0;34m\u001B[0m\u001B[0m\n",
      "\u001B[0;32m/Library/Frameworks/Python.framework/Versions/3.10/lib/python3.10/ssl.py\u001B[0m in \u001B[0;36mwrap_socket\u001B[0;34m(self, sock, server_side, do_handshake_on_connect, suppress_ragged_eofs, server_hostname, session)\u001B[0m\n\u001B[1;32m    511\u001B[0m         \u001B[0;31m# ctx._wrap_socket()\u001B[0m\u001B[0;34m\u001B[0m\u001B[0;34m\u001B[0m\u001B[0m\n\u001B[0;32m--> 512\u001B[0;31m         return self.sslsocket_class._create(\n\u001B[0m\u001B[1;32m    513\u001B[0m             \u001B[0msock\u001B[0m\u001B[0;34m=\u001B[0m\u001B[0msock\u001B[0m\u001B[0;34m,\u001B[0m\u001B[0;34m\u001B[0m\u001B[0;34m\u001B[0m\u001B[0m\n",
      "\u001B[0;32m/Library/Frameworks/Python.framework/Versions/3.10/lib/python3.10/ssl.py\u001B[0m in \u001B[0;36m_create\u001B[0;34m(cls, sock, server_side, do_handshake_on_connect, suppress_ragged_eofs, server_hostname, context, session)\u001B[0m\n\u001B[1;32m   1069\u001B[0m                         \u001B[0;32mraise\u001B[0m \u001B[0mValueError\u001B[0m\u001B[0;34m(\u001B[0m\u001B[0;34m\"do_handshake_on_connect should not be specified for non-blocking sockets\"\u001B[0m\u001B[0;34m)\u001B[0m\u001B[0;34m\u001B[0m\u001B[0;34m\u001B[0m\u001B[0m\n\u001B[0;32m-> 1070\u001B[0;31m                     \u001B[0mself\u001B[0m\u001B[0;34m.\u001B[0m\u001B[0mdo_handshake\u001B[0m\u001B[0;34m(\u001B[0m\u001B[0;34m)\u001B[0m\u001B[0;34m\u001B[0m\u001B[0;34m\u001B[0m\u001B[0m\n\u001B[0m\u001B[1;32m   1071\u001B[0m             \u001B[0;32mexcept\u001B[0m \u001B[0;34m(\u001B[0m\u001B[0mOSError\u001B[0m\u001B[0;34m,\u001B[0m \u001B[0mValueError\u001B[0m\u001B[0;34m)\u001B[0m\u001B[0;34m:\u001B[0m\u001B[0;34m\u001B[0m\u001B[0;34m\u001B[0m\u001B[0m\n",
      "\u001B[0;32m/Library/Frameworks/Python.framework/Versions/3.10/lib/python3.10/ssl.py\u001B[0m in \u001B[0;36mdo_handshake\u001B[0;34m(self, block)\u001B[0m\n\u001B[1;32m   1340\u001B[0m                 \u001B[0mself\u001B[0m\u001B[0;34m.\u001B[0m\u001B[0msettimeout\u001B[0m\u001B[0;34m(\u001B[0m\u001B[0;32mNone\u001B[0m\u001B[0;34m)\u001B[0m\u001B[0;34m\u001B[0m\u001B[0;34m\u001B[0m\u001B[0m\n\u001B[0;32m-> 1341\u001B[0;31m             \u001B[0mself\u001B[0m\u001B[0;34m.\u001B[0m\u001B[0m_sslobj\u001B[0m\u001B[0;34m.\u001B[0m\u001B[0mdo_handshake\u001B[0m\u001B[0;34m(\u001B[0m\u001B[0;34m)\u001B[0m\u001B[0;34m\u001B[0m\u001B[0;34m\u001B[0m\u001B[0m\n\u001B[0m\u001B[1;32m   1342\u001B[0m         \u001B[0;32mfinally\u001B[0m\u001B[0;34m:\u001B[0m\u001B[0;34m\u001B[0m\u001B[0;34m\u001B[0m\u001B[0m\n",
      "\u001B[0;31mProtocolError\u001B[0m: ('Connection aborted.', ConnectionResetError(54, 'Connection reset by peer'))",
      "\nThe above exception was the direct cause of the following exception:\n",
      "\u001B[0;31mPineconeProtocolError\u001B[0m                     Traceback (most recent call last)",
      "\u001B[0;32m/var/folders/b9/gjdjqgps7ygf7w922mp0grvw0000gn/T/ipykernel_35817/2260929077.py\u001B[0m in \u001B[0;36m<module>\u001B[0;34m\u001B[0m\n\u001B[1;32m      1\u001B[0m \u001B[0mvector_db\u001B[0m\u001B[0;34m.\u001B[0m\u001B[0mindex\u001B[0m \u001B[0;34m=\u001B[0m \u001B[0mpinecone\u001B[0m\u001B[0;34m.\u001B[0m\u001B[0mIndex\u001B[0m\u001B[0;34m(\u001B[0m\u001B[0;34m'rf-code-pavlov'\u001B[0m\u001B[0;34m)\u001B[0m\u001B[0;34m\u001B[0m\u001B[0;34m\u001B[0m\u001B[0m\n\u001B[0;32m----> 2\u001B[0;31m \u001B[0mvector_db\u001B[0m\u001B[0;34m.\u001B[0m\u001B[0mindex\u001B[0m\u001B[0;34m.\u001B[0m\u001B[0mquery\u001B[0m\u001B[0;34m(\u001B[0m\u001B[0mquery\u001B[0m\u001B[0;34m,\u001B[0m \u001B[0mtop_k\u001B[0m\u001B[0;34m=\u001B[0m\u001B[0;36m1\u001B[0m\u001B[0;34m)\u001B[0m\u001B[0;34m\u001B[0m\u001B[0;34m\u001B[0m\u001B[0m\n\u001B[0m",
      "\u001B[0;32m/Library/Frameworks/Python.framework/Versions/3.10/lib/python3.10/site-packages/pinecone/core/utils/error_handling.py\u001B[0m in \u001B[0;36minner_func\u001B[0;34m(*args, **kwargs)\u001B[0m\n\u001B[1;32m     23\u001B[0m                 \u001B[0;32mraise\u001B[0m\u001B[0;34m\u001B[0m\u001B[0;34m\u001B[0m\u001B[0m\n\u001B[1;32m     24\u001B[0m         \u001B[0;32mexcept\u001B[0m \u001B[0mProtocolError\u001B[0m \u001B[0;32mas\u001B[0m \u001B[0me\u001B[0m\u001B[0;34m:\u001B[0m\u001B[0;34m\u001B[0m\u001B[0;34m\u001B[0m\u001B[0m\n\u001B[0;32m---> 25\u001B[0;31m             \u001B[0;32mraise\u001B[0m \u001B[0mPineconeProtocolError\u001B[0m\u001B[0;34m(\u001B[0m\u001B[0;34mf'Failed to connect; did you specify the correct index name?'\u001B[0m\u001B[0;34m)\u001B[0m \u001B[0;32mfrom\u001B[0m \u001B[0me\u001B[0m\u001B[0;34m\u001B[0m\u001B[0;34m\u001B[0m\u001B[0m\n\u001B[0m\u001B[1;32m     26\u001B[0m \u001B[0;34m\u001B[0m\u001B[0m\n\u001B[1;32m     27\u001B[0m     \u001B[0;31m# Override signature\u001B[0m\u001B[0;34m\u001B[0m\u001B[0;34m\u001B[0m\u001B[0m\n",
      "\u001B[0;31mPineconeProtocolError\u001B[0m: Failed to connect; did you specify the correct index name?"
     ]
    }
   ],
   "source": [
    "vector_db.index = pinecone.Index('rf-code-pavlov')\n",
    "vector_db.index.query(query, top_k=1)"
   ]
  },
  {
   "cell_type": "code",
   "execution_count": null,
   "metadata": {
    "collapsed": false,
    "pycharm": {
     "name": "#%%\n"
    }
   },
   "outputs": [],
   "source": [
    "ds = Dataset.from_pandas(labor_codes)\n",
    "ds = ds.map(lambda x: {\n",
    "    'encoding': st.encode(x['text']).tolist()\n",
    "}, batched=True, batch_size=32)"
   ]
  },
  {
   "cell_type": "code",
   "execution_count": null,
   "metadata": {
    "collapsed": false,
    "pycharm": {
     "name": "#%%\n"
    }
   },
   "outputs": [],
   "source": [
    "ds = Dataset.from_pandas(labor_codes)\n",
    "ds = ds.map(lambda x: {\n",
    "    'encoding': st.encode(x['text']).tolist()\n",
    "}, batched=True, batch_size=32)"
   ]
  },
  {
   "cell_type": "code",
   "execution_count": null,
   "metadata": {
    "collapsed": false,
    "pycharm": {
     "name": "#%%\n"
    }
   },
   "outputs": [],
   "source": [
    "ds = Dataset.from_pandas(labor_codes)\n",
    "ds = ds.map(lambda x: {\n",
    "    'encoding': st.encode(x['text']).tolist()\n",
    "}, batched=True, batch_size=32)"
   ]
  },
  {
   "cell_type": "code",
   "execution_count": 8,
   "metadata": {
    "collapsed": false,
    "pycharm": {
     "name": "#%%\n"
    }
   },
   "outputs": [
    {
     "data": {
      "application/vnd.jupyter.widget-view+json": {
       "model_id": "417743672b9c4e3891e20f2a95aafb8b",
       "version_major": 2,
       "version_minor": 0
      },
      "text/plain": [
       "Map:   0%|          | 0/578 [00:00<?, ? examples/s]"
      ]
     },
     "metadata": {},
     "output_type": "display_data"
    }
   ],
   "source": [
    "ds = Dataset.from_pandas(labor_codes)\n",
    "ds = ds.map(lambda x: {\n",
    "    'encoding': st.encode(x['text']).tolist()\n",
    "}, batched=True, batch_size=32)"
   ]
  },
  {
   "cell_type": "code",
   "execution_count": 1,
   "metadata": {
    "pycharm": {
     "name": "#%%\n"
    },
    "ExecuteTime": {
     "end_time": "2023-11-26T08:31:07.357475Z",
     "start_time": "2023-11-26T08:31:07.345794Z"
    }
   },
   "outputs": [],
   "source": [
    "import http.server"
   ]
  },
  {
   "cell_type": "code",
   "execution_count": null,
   "outputs": [],
   "source": [],
   "metadata": {
    "collapsed": false
   }
  }
 ],
 "metadata": {
  "kernelspec": {
   "display_name": "Python 3",
   "language": "python",
   "name": "python3"
  },
  "language_info": {
   "codemirror_mode": {
    "name": "ipython",
    "version": 3
   },
   "file_extension": ".py",
   "mimetype": "text/x-python",
   "name": "python",
   "nbconvert_exporter": "python",
   "pygments_lexer": "ipython3",
   "version": "3.11.4"
  }
 },
 "nbformat": 4,
 "nbformat_minor": 0
}
